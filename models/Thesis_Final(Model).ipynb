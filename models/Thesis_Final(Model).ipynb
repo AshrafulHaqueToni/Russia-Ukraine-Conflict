{
  "nbformat": 4,
  "nbformat_minor": 0,
  "metadata": {
    "colab": {
      "provenance": [],
      "collapsed_sections": []
    },
    "kernelspec": {
      "name": "python3",
      "display_name": "Python 3"
    },
    "language_info": {
      "name": "python"
    }
  },
  "cells": [
    {
      "cell_type": "markdown",
      "source": [
        "0.0"
      ],
      "metadata": {
        "id": "k5kS9bEY3hDC"
      }
    },
    {
      "cell_type": "code",
      "execution_count": null,
      "metadata": {
        "colab": {
          "base_uri": "https://localhost:8080/",
          "height": 373
        },
        "id": "Z25L0M_7xeiq",
        "outputId": "aaa4e8ff-ada2-4418-8453-0d2f759c128d"
      },
      "outputs": [
        {
          "output_type": "error",
          "ename": "ModuleNotFoundError",
          "evalue": "ignored",
          "traceback": [
            "\u001b[0;31m---------------------------------------------------------------------------\u001b[0m",
            "\u001b[0;31mModuleNotFoundError\u001b[0m                       Traceback (most recent call last)",
            "\u001b[0;32m<ipython-input-24-2fefdfe3d129>\u001b[0m in \u001b[0;36m<module>\u001b[0;34m\u001b[0m\n\u001b[1;32m      4\u001b[0m \u001b[0;32mimport\u001b[0m \u001b[0mnumpy\u001b[0m \u001b[0;32mas\u001b[0m \u001b[0mnp\u001b[0m\u001b[0;34m\u001b[0m\u001b[0;34m\u001b[0m\u001b[0m\n\u001b[1;32m      5\u001b[0m \u001b[0;32mfrom\u001b[0m \u001b[0mtqdm\u001b[0m\u001b[0;34m.\u001b[0m\u001b[0mnotebook\u001b[0m \u001b[0;32mimport\u001b[0m \u001b[0mtqdm\u001b[0m\u001b[0;34m\u001b[0m\u001b[0;34m\u001b[0m\u001b[0m\n\u001b[0;32m----> 6\u001b[0;31m \u001b[0;32mfrom\u001b[0m \u001b[0memoji\u001b[0m \u001b[0;32mimport\u001b[0m \u001b[0mUNICODE_EMOJI\u001b[0m\u001b[0;34m,\u001b[0m \u001b[0mdemojize\u001b[0m\u001b[0;34m\u001b[0m\u001b[0;34m\u001b[0m\u001b[0m\n\u001b[0m\u001b[1;32m      7\u001b[0m \u001b[0;32mimport\u001b[0m \u001b[0mseaborn\u001b[0m \u001b[0;32mas\u001b[0m \u001b[0msns\u001b[0m\u001b[0;34m\u001b[0m\u001b[0;34m\u001b[0m\u001b[0m\n\u001b[1;32m      8\u001b[0m \u001b[0;32mimport\u001b[0m \u001b[0mwarnings\u001b[0m\u001b[0;34m\u001b[0m\u001b[0;34m\u001b[0m\u001b[0m\n",
            "\u001b[0;31mModuleNotFoundError\u001b[0m: No module named 'emoji'",
            "",
            "\u001b[0;31m---------------------------------------------------------------------------\u001b[0;32m\nNOTE: If your import is failing due to a missing package, you can\nmanually install dependencies using either !pip or !apt.\n\nTo view examples of installing some common dependencies, click the\n\"Open Examples\" button below.\n\u001b[0;31m---------------------------------------------------------------------------\u001b[0m\n"
          ],
          "errorDetails": {
            "actions": [
              {
                "action": "open_url",
                "actionText": "Open Examples",
                "url": "/notebooks/snippets/importing_libraries.ipynb"
              }
            ]
          }
        }
      ],
      "source": [
        "import pandas as pd\n",
        "import gzip\n",
        "import sys, os\n",
        "import numpy as np\n",
        "from tqdm.notebook import tqdm\n",
        "from emoji import UNICODE_EMOJI, demojize\n",
        "import seaborn as sns\n",
        "import warnings\n",
        "import ast\n",
        "warnings.filterwarnings('ignore')\n",
        "\n",
        "%load_ext autoreload\n",
        "# OPTIONAL: always reload modules so that as you change code in src, it gets loaded\n",
        "%autoreload 2\n",
        "sys.path.insert(0, os.path.abspath('..'))\n",
        "\n",
        "from src.data import make_dataset, preprocessor"
      ]
    },
    {
      "cell_type": "code",
      "source": [
        "final_df=pd.read_csv(r'twitter.csv')\n",
        "df = final_df[final_df['language']=='en']\n",
        "ru_df = final_df[final_df['language']=='ru']\n",
        "del final_df"
      ],
      "metadata": {
        "id": "UH9SaOdQ-2yT"
      },
      "execution_count": null,
      "outputs": []
    },
    {
      "cell_type": "code",
      "source": [
        "emojis_df = make_dataset.get_all_emoji(df, 'en')   \n",
        "sns.barplot(y=\"UNICODE\", x=\"count\", data=emojis_df.head(20), palette='viridis').set(title='Top 20 Most Used Emojis')"
      ],
      "metadata": {
        "colab": {
          "base_uri": "https://localhost:8080/",
          "height": 312
        },
        "id": "odWv_cxl_L2F",
        "outputId": "3cef294c-2359-4b87-cad0-0c6d8169c7b7"
      },
      "execution_count": null,
      "outputs": [
        {
          "output_type": "execute_result",
          "data": {
            "text/plain": [
              "[Text(0.5, 1.0, 'Top 20 Most Used Emojis')]"
            ]
          },
          "metadata": {},
          "execution_count": 14
        },
        {
          "output_type": "display_data",
          "data": {
            "text/plain": [
              "<Figure size 432x288 with 1 Axes>"
            ],
            "image/png": "[encoded data removed]"
          },
          "metadata": {
            "needs_background": "light"
          }
        }
      ]
    },
    {
      "cell_type": "code",
      "source": [
        "preprocessor.clean_hashtag(df)"
      ],
      "metadata": {
        "colab": {
          "base_uri": "https://localhost:8080/",
          "height": 887
        },
        "id": "U2RuFK92T6-W",
        "outputId": "f75ed86a-3f1b-4b06-eddd-f7e91217f06b"
      },
      "execution_count": null,
      "outputs": [
        {
          "output_type": "execute_result",
          "data": {
            "text/plain": [
              "        Unnamed: 0               userid         username  \\\n",
              "0                0             16882774          Yaniela   \n",
              "1                1           3205296069         gregffff   \n",
              "2                2  1235940869812809728  ThanapornThon17   \n",
              "3                3  1347985375566966784   I_Protest_2021   \n",
              "4                4  1505394816636846083     Marsh_Win_01   \n",
              "...            ...                  ...              ...   \n",
              "364866      364866             18006752         KatCapps   \n",
              "364869      364869  1498731629426225154       knut_konig   \n",
              "364871      364871  1054170412194553857      TribalHawk1   \n",
              "364872      364872             40997579          ljall00   \n",
              "364874      364874  1154637880972783617    Mrbro45450972   \n",
              "\n",
              "                                                 acctdesc  \\\n",
              "0       Animal lover, supports those who fight injusti...   \n",
              "1                                                     NaN   \n",
              "2                                 เล่นไวโอลิน\\nพูดภาษาจีน   \n",
              "3       01000001 01101110 01101111 01101110 01111001 0...   \n",
              "4       🌿@Pickaw @TWITTERPICKER 🌿Winning isn’t everyth...   \n",
              "...                                                   ...   \n",
              "364866  #Liberal #Progressive RT≠endorse Likes=BM #Ant...   \n",
              "364869                                                NaN   \n",
              "364871                                                NaN   \n",
              "364872  Democrat. This is a country of laws for everyo...   \n",
              "364874                                           🌊🌊🌊🌊🌊🌊🌊🌊   \n",
              "\n",
              "                      location  following  followers  totaltweets  \\\n",
              "0                       Hawaii       1158        392        88366   \n",
              "1                          NaN        122        881        99853   \n",
              "2                          NaN        231         72         5481   \n",
              "3       International Web Zone        399        377          301   \n",
              "4               Hunter Account        158         25         8982   \n",
              "...                        ...        ...        ...          ...   \n",
              "364866     Western States Pact      43313      42652       893115   \n",
              "364869                     NaN          5          8          746   \n",
              "364871        East Los Angeles        207         29         9045   \n",
              "364872          Scottsdale, AZ       5336       4898       162426   \n",
              "364874                     NaN       1205        119         7289   \n",
              "\n",
              "                     usercreatedts              tweetid  \\\n",
              "0       2008-10-21 07:34:04.000000  1509681950042198030   \n",
              "1       2015-04-25 11:24:34.000000  1509681950151348229   \n",
              "2       2020-03-06 14:52:01.000000  1509681950683926556   \n",
              "3       2021-01-09 19:15:44.000000  1509681951116046336   \n",
              "4       2022-03-20 04:04:40.000000  1509681951304990720   \n",
              "...                            ...                  ...   \n",
              "364866  2008-12-09 23:58:21.000000  1510044325656219652   \n",
              "364869  2022-03-01 18:47:55.000000  1510044327426281475   \n",
              "364871  2018-10-22 00:39:46.000000  1510044329993138176   \n",
              "364872  2009-05-18 23:21:35.000000  1510044330085347328   \n",
              "364874  2019-07-26 06:21:37.000000  1510044335013720065   \n",
              "\n",
              "                    tweetcreatedts  retweetcount  \\\n",
              "0       2022-04-01 00:00:00.000000          3412   \n",
              "1       2022-04-01 00:00:00.000000           100   \n",
              "2       2022-04-01 00:00:00.000000             9   \n",
              "3       2022-04-01 00:00:00.000000           573   \n",
              "4       2022-04-01 00:00:00.000000           190   \n",
              "...                            ...           ...   \n",
              "364866  2022-04-01 23:59:57.000000          1333   \n",
              "364869  2022-04-01 23:59:57.000000             0   \n",
              "364871  2022-04-01 23:59:58.000000             0   \n",
              "364872  2022-04-01 23:59:58.000000          2264   \n",
              "364874  2022-04-01 23:59:59.000000             0   \n",
              "\n",
              "                                                     text  \\\n",
              "0       ⚡The Ukrainian Air Force would like to address...   \n",
              "1       Chernihiv oblast. Ukrainians welcome their lib...   \n",
              "2       America 🇺🇸 is preparing for something worse th...   \n",
              "3       JUST IN: #Anonymous has hacked &amp; released ...   \n",
              "4       ***PUBLIC MINT NOW LIVE***\\n\\nFor \\n@billionai...   \n",
              "...                                                   ...   \n",
              "364866  14-year-old Yura from #Bucha told how a Russia...   \n",
              "364869  #RussianUkrainianWar #UkraineRussianWar #Russi...   \n",
              "364871  “From where Winston stood it was just possible...   \n",
              "364872  When I said tonight in front of 3000 people In...   \n",
              "364874  We’re back. No funny stuff #UKRAINE https://t....   \n",
              "\n",
              "                                                 hashtags language  \\\n",
              "0                                                      []       en   \n",
              "1       [russianinvasion, standwithukraine️, ukraineun...       en   \n",
              "2                                   [russianukrainianwar]       en   \n",
              "3                                             [anonymous]       en   \n",
              "4                                                      []       en   \n",
              "...                                                   ...      ...   \n",
              "364866                                            [bucha]       en   \n",
              "364869  [russianukrainianwar, ukrainerussianwar, russi...       en   \n",
              "364871                                          [ukraine]       en   \n",
              "364872                                                 []       en   \n",
              "364874                                          [ukraine]       en   \n",
              "\n",
              "       coordinates  favorite_count                 extractedts  \n",
              "0              NaN               0  2022-04-01 00:44:20.097867  \n",
              "1              NaN               0  2022-04-01 00:09:37.148770  \n",
              "2              NaN               0  2022-04-01 00:09:37.125654  \n",
              "3              NaN               0  2022-04-01 00:31:39.674382  \n",
              "4              NaN               0  2022-04-01 00:09:37.101459  \n",
              "...            ...             ...                         ...  \n",
              "364866         NaN               0  2022-04-02 00:13:16.271866  \n",
              "364869         NaN               0  2022-04-02 00:34:39.574787  \n",
              "364871         NaN               0  2022-04-02 00:13:16.239719  \n",
              "364872         NaN               0  2022-04-02 00:46:46.527353  \n",
              "364874         NaN               0  2022-04-02 00:13:16.231682  \n",
              "\n",
              "[254626 rows x 18 columns]"
            ],
            "text/html": [
              "\n",
              "  <div id=\"df-252abb6e-7029-4362-ad44-1681c5ac3c0c\">\n",
              "    <div class=\"colab-df-container\">\n",
              "      <div>\n",
              "<style scoped>\n",
              "    .dataframe tbody tr th:only-of-type {\n",
              "        vertical-align: middle;\n",
              "    }\n",
              "\n",
              "    .dataframe tbody tr th {\n",
              "        vertical-align: top;\n",
              "    }\n",
              "\n",
              "    .dataframe thead th {\n",
              "        text-align: right;\n",
              "    }\n",
              "</style>\n",
              "<table border=\"1\" class=\"dataframe\">\n",
              "  <thead>\n",
              "    <tr style=\"text-align: right;\">\n",
              "      <th></th>\n",
              "      <th>Unnamed: 0</th>\n",
              "      <th>userid</th>\n",
              "      <th>username</th>\n",
              "      <th>acctdesc</th>\n",
              "      <th>location</th>\n",
              "      <th>following</th>\n",
              "      <th>followers</th>\n",
              "      <th>totaltweets</th>\n",
              "      <th>usercreatedts</th>\n",
              "      <th>tweetid</th>\n",
              "      <th>tweetcreatedts</th>\n",
              "      <th>retweetcount</th>\n",
              "      <th>text</th>\n",
              "      <th>hashtags</th>\n",
              "      <th>language</th>\n",
              "      <th>coordinates</th>\n",
              "      <th>favorite_count</th>\n",
              "      <th>extractedts</th>\n",
              "    </tr>\n",
              "  </thead>\n",
              "  <tbody>\n",
              "    <tr>\n",
              "      <th>0</th>\n",
              "      <td>0</td>\n",
              "      <td>16882774</td>\n",
              "      <td>Yaniela</td>\n",
              "      <td>Animal lover, supports those who fight injusti...</td>\n",
              "      <td>Hawaii</td>\n",
              "      <td>1158</td>\n",
              "      <td>392</td>\n",
              "      <td>88366</td>\n",
              "      <td>2008-10-21 07:34:04.000000</td>\n",
              "      <td>1509681950042198030</td>\n",
              "      <td>2022-04-01 00:00:00.000000</td>\n",
              "      <td>3412</td>\n",
              "      <td>⚡The Ukrainian Air Force would like to address...</td>\n",
              "      <td>[]</td>\n",
              "      <td>en</td>\n",
              "      <td>NaN</td>\n",
              "      <td>0</td>\n",
              "      <td>2022-04-01 00:44:20.097867</td>\n",
              "    </tr>\n",
              "    <tr>\n",
              "      <th>1</th>\n",
              "      <td>1</td>\n",
              "      <td>3205296069</td>\n",
              "      <td>gregffff</td>\n",
              "      <td>NaN</td>\n",
              "      <td>NaN</td>\n",
              "      <td>122</td>\n",
              "      <td>881</td>\n",
              "      <td>99853</td>\n",
              "      <td>2015-04-25 11:24:34.000000</td>\n",
              "      <td>1509681950151348229</td>\n",
              "      <td>2022-04-01 00:00:00.000000</td>\n",
              "      <td>100</td>\n",
              "      <td>Chernihiv oblast. Ukrainians welcome their lib...</td>\n",
              "      <td>[russianinvasion, standwithukraine️, ukraineun...</td>\n",
              "      <td>en</td>\n",
              "      <td>NaN</td>\n",
              "      <td>0</td>\n",
              "      <td>2022-04-01 00:09:37.148770</td>\n",
              "    </tr>\n",
              "    <tr>\n",
              "      <th>2</th>\n",
              "      <td>2</td>\n",
              "      <td>1235940869812809728</td>\n",
              "      <td>ThanapornThon17</td>\n",
              "      <td>เล่นไวโอลิน\\nพูดภาษาจีน</td>\n",
              "      <td>NaN</td>\n",
              "      <td>231</td>\n",
              "      <td>72</td>\n",
              "      <td>5481</td>\n",
              "      <td>2020-03-06 14:52:01.000000</td>\n",
              "      <td>1509681950683926556</td>\n",
              "      <td>2022-04-01 00:00:00.000000</td>\n",
              "      <td>9</td>\n",
              "      <td>America 🇺🇸 is preparing for something worse th...</td>\n",
              "      <td>[russianukrainianwar]</td>\n",
              "      <td>en</td>\n",
              "      <td>NaN</td>\n",
              "      <td>0</td>\n",
              "      <td>2022-04-01 00:09:37.125654</td>\n",
              "    </tr>\n",
              "    <tr>\n",
              "      <th>3</th>\n",
              "      <td>3</td>\n",
              "      <td>1347985375566966784</td>\n",
              "      <td>I_Protest_2021</td>\n",
              "      <td>01000001 01101110 01101111 01101110 01111001 0...</td>\n",
              "      <td>International Web Zone</td>\n",
              "      <td>399</td>\n",
              "      <td>377</td>\n",
              "      <td>301</td>\n",
              "      <td>2021-01-09 19:15:44.000000</td>\n",
              "      <td>1509681951116046336</td>\n",
              "      <td>2022-04-01 00:00:00.000000</td>\n",
              "      <td>573</td>\n",
              "      <td>JUST IN: #Anonymous has hacked &amp;amp; released ...</td>\n",
              "      <td>[anonymous]</td>\n",
              "      <td>en</td>\n",
              "      <td>NaN</td>\n",
              "      <td>0</td>\n",
              "      <td>2022-04-01 00:31:39.674382</td>\n",
              "    </tr>\n",
              "    <tr>\n",
              "      <th>4</th>\n",
              "      <td>4</td>\n",
              "      <td>1505394816636846083</td>\n",
              "      <td>Marsh_Win_01</td>\n",
              "      <td>🌿@Pickaw @TWITTERPICKER 🌿Winning isn’t everyth...</td>\n",
              "      <td>Hunter Account</td>\n",
              "      <td>158</td>\n",
              "      <td>25</td>\n",
              "      <td>8982</td>\n",
              "      <td>2022-03-20 04:04:40.000000</td>\n",
              "      <td>1509681951304990720</td>\n",
              "      <td>2022-04-01 00:00:00.000000</td>\n",
              "      <td>190</td>\n",
              "      <td>***PUBLIC MINT NOW LIVE***\\n\\nFor \\n@billionai...</td>\n",
              "      <td>[]</td>\n",
              "      <td>en</td>\n",
              "      <td>NaN</td>\n",
              "      <td>0</td>\n",
              "      <td>2022-04-01 00:09:37.101459</td>\n",
              "    </tr>\n",
              "    <tr>\n",
              "      <th>...</th>\n",
              "      <td>...</td>\n",
              "      <td>...</td>\n",
              "      <td>...</td>\n",
              "      <td>...</td>\n",
              "      <td>...</td>\n",
              "      <td>...</td>\n",
              "      <td>...</td>\n",
              "      <td>...</td>\n",
              "      <td>...</td>\n",
              "      <td>...</td>\n",
              "      <td>...</td>\n",
              "      <td>...</td>\n",
              "      <td>...</td>\n",
              "      <td>...</td>\n",
              "      <td>...</td>\n",
              "      <td>...</td>\n",
              "      <td>...</td>\n",
              "      <td>...</td>\n",
              "    </tr>\n",
              "    <tr>\n",
              "      <th>364866</th>\n",
              "      <td>364866</td>\n",
              "      <td>18006752</td>\n",
              "      <td>KatCapps</td>\n",
              "      <td>#Liberal #Progressive RT≠endorse Likes=BM #Ant...</td>\n",
              "      <td>Western States Pact</td>\n",
              "      <td>43313</td>\n",
              "      <td>42652</td>\n",
              "      <td>893115</td>\n",
              "      <td>2008-12-09 23:58:21.000000</td>\n",
              "      <td>1510044325656219652</td>\n",
              "      <td>2022-04-01 23:59:57.000000</td>\n",
              "      <td>1333</td>\n",
              "      <td>14-year-old Yura from #Bucha told how a Russia...</td>\n",
              "      <td>[bucha]</td>\n",
              "      <td>en</td>\n",
              "      <td>NaN</td>\n",
              "      <td>0</td>\n",
              "      <td>2022-04-02 00:13:16.271866</td>\n",
              "    </tr>\n",
              "    <tr>\n",
              "      <th>364869</th>\n",
              "      <td>364869</td>\n",
              "      <td>1498731629426225154</td>\n",
              "      <td>knut_konig</td>\n",
              "      <td>NaN</td>\n",
              "      <td>NaN</td>\n",
              "      <td>5</td>\n",
              "      <td>8</td>\n",
              "      <td>746</td>\n",
              "      <td>2022-03-01 18:47:55.000000</td>\n",
              "      <td>1510044327426281475</td>\n",
              "      <td>2022-04-01 23:59:57.000000</td>\n",
              "      <td>0</td>\n",
              "      <td>#RussianUkrainianWar #UkraineRussianWar #Russi...</td>\n",
              "      <td>[russianukrainianwar, ukrainerussianwar, russi...</td>\n",
              "      <td>en</td>\n",
              "      <td>NaN</td>\n",
              "      <td>0</td>\n",
              "      <td>2022-04-02 00:34:39.574787</td>\n",
              "    </tr>\n",
              "    <tr>\n",
              "      <th>364871</th>\n",
              "      <td>364871</td>\n",
              "      <td>1054170412194553857</td>\n",
              "      <td>TribalHawk1</td>\n",
              "      <td>NaN</td>\n",
              "      <td>East Los Angeles</td>\n",
              "      <td>207</td>\n",
              "      <td>29</td>\n",
              "      <td>9045</td>\n",
              "      <td>2018-10-22 00:39:46.000000</td>\n",
              "      <td>1510044329993138176</td>\n",
              "      <td>2022-04-01 23:59:58.000000</td>\n",
              "      <td>0</td>\n",
              "      <td>“From where Winston stood it was just possible...</td>\n",
              "      <td>[ukraine]</td>\n",
              "      <td>en</td>\n",
              "      <td>NaN</td>\n",
              "      <td>0</td>\n",
              "      <td>2022-04-02 00:13:16.239719</td>\n",
              "    </tr>\n",
              "    <tr>\n",
              "      <th>364872</th>\n",
              "      <td>364872</td>\n",
              "      <td>40997579</td>\n",
              "      <td>ljall00</td>\n",
              "      <td>Democrat. This is a country of laws for everyo...</td>\n",
              "      <td>Scottsdale, AZ</td>\n",
              "      <td>5336</td>\n",
              "      <td>4898</td>\n",
              "      <td>162426</td>\n",
              "      <td>2009-05-18 23:21:35.000000</td>\n",
              "      <td>1510044330085347328</td>\n",
              "      <td>2022-04-01 23:59:58.000000</td>\n",
              "      <td>2264</td>\n",
              "      <td>When I said tonight in front of 3000 people In...</td>\n",
              "      <td>[]</td>\n",
              "      <td>en</td>\n",
              "      <td>NaN</td>\n",
              "      <td>0</td>\n",
              "      <td>2022-04-02 00:46:46.527353</td>\n",
              "    </tr>\n",
              "    <tr>\n",
              "      <th>364874</th>\n",
              "      <td>364874</td>\n",
              "      <td>1154637880972783617</td>\n",
              "      <td>Mrbro45450972</td>\n",
              "      <td>🌊🌊🌊🌊🌊🌊🌊🌊</td>\n",
              "      <td>NaN</td>\n",
              "      <td>1205</td>\n",
              "      <td>119</td>\n",
              "      <td>7289</td>\n",
              "      <td>2019-07-26 06:21:37.000000</td>\n",
              "      <td>1510044335013720065</td>\n",
              "      <td>2022-04-01 23:59:59.000000</td>\n",
              "      <td>0</td>\n",
              "      <td>We’re back. No funny stuff #UKRAINE https://t....</td>\n",
              "      <td>[ukraine]</td>\n",
              "      <td>en</td>\n",
              "      <td>NaN</td>\n",
              "      <td>0</td>\n",
              "      <td>2022-04-02 00:13:16.231682</td>\n",
              "    </tr>\n",
              "  </tbody>\n",
              "</table>\n",
              "<p>254626 rows × 18 columns</p>\n",
              "</div>\n",
              "      <button class=\"colab-df-convert\" onclick=\"convertToInteractive('df-252abb6e-7029-4362-ad44-1681c5ac3c0c')\"\n",
              "              title=\"Convert this dataframe to an interactive table.\"\n",
              "              style=\"display:none;\">\n",
              "        \n",
              "  <svg xmlns=\"http://www.w3.org/2000/svg\" height=\"24px\"viewBox=\"0 0 24 24\"\n",
              "       width=\"24px\">\n",
              "    <path d=\"M0 0h24v24H0V0z\" fill=\"none\"/>\n",
              "    <path d=\"M18.56 5.44l.94 2.06.94-2.06 2.06-.94-2.06-.94-.94-2.06-.94 2.06-2.06.94zm-11 1L8.5 8.5l.94-2.06 2.06-.94-2.06-.94L8.5 2.5l-.94 2.06-2.06.94zm10 10l.94 2.06.94-2.06 2.06-.94-2.06-.94-.94-2.06-.94 2.06-2.06.94z\"/><path d=\"M17.41 7.96l-1.37-1.37c-.4-.4-.92-.59-1.43-.59-.52 0-1.04.2-1.43.59L10.3 9.45l-7.72 7.72c-.78.78-.78 2.05 0 2.83L4 21.41c.39.39.9.59 1.41.59.51 0 1.02-.2 1.41-.59l7.78-7.78 2.81-2.81c.8-.78.8-2.07 0-2.86zM5.41 20L4 18.59l7.72-7.72 1.47 1.35L5.41 20z\"/>\n",
              "  </svg>\n",
              "      </button>\n",
              "      \n",
              "  <style>\n",
              "    .colab-df-container {\n",
              "      display:flex;\n",
              "      flex-wrap:wrap;\n",
              "      gap: 12px;\n",
              "    }\n",
              "\n",
              "    .colab-df-convert {\n",
              "      background-color: #E8F0FE;\n",
              "      border: none;\n",
              "      border-radius: 50%;\n",
              "      cursor: pointer;\n",
              "      display: none;\n",
              "      fill: #1967D2;\n",
              "      height: 32px;\n",
              "      padding: 0 0 0 0;\n",
              "      width: 32px;\n",
              "    }\n",
              "\n",
              "    .colab-df-convert:hover {\n",
              "      background-color: #E2EBFA;\n",
              "      box-shadow: 0px 1px 2px rgba(60, 64, 67, 0.3), 0px 1px 3px 1px rgba(60, 64, 67, 0.15);\n",
              "      fill: #174EA6;\n",
              "    }\n",
              "\n",
              "    [theme=dark] .colab-df-convert {\n",
              "      background-color: #3B4455;\n",
              "      fill: #D2E3FC;\n",
              "    }\n",
              "\n",
              "    [theme=dark] .colab-df-convert:hover {\n",
              "      background-color: #434B5C;\n",
              "      box-shadow: 0px 1px 3px 1px rgba(0, 0, 0, 0.15);\n",
              "      filter: drop-shadow(0px 1px 2px rgba(0, 0, 0, 0.3));\n",
              "      fill: #FFFFFF;\n",
              "    }\n",
              "  </style>\n",
              "\n",
              "      <script>\n",
              "        const buttonEl =\n",
              "          document.querySelector('#df-252abb6e-7029-4362-ad44-1681c5ac3c0c button.colab-df-convert');\n",
              "        buttonEl.style.display =\n",
              "          google.colab.kernel.accessAllowed ? 'block' : 'none';\n",
              "\n",
              "        async function convertToInteractive(key) {\n",
              "          const element = document.querySelector('#df-252abb6e-7029-4362-ad44-1681c5ac3c0c');\n",
              "          const dataTable =\n",
              "            await google.colab.kernel.invokeFunction('convertToInteractive',\n",
              "                                                     [key], {});\n",
              "          if (!dataTable) return;\n",
              "\n",
              "          const docLinkHtml = 'Like what you see? Visit the ' +\n",
              "            '<a target=\"_blank\" href=https://colab.research.google.com/notebooks/data_table.ipynb>data table notebook</a>'\n",
              "            + ' to learn more about interactive tables.';\n",
              "          element.innerHTML = '';\n",
              "          dataTable['output_type'] = 'display_data';\n",
              "          await google.colab.output.renderOutput(dataTable, element);\n",
              "          const docLink = document.createElement('div');\n",
              "          docLink.innerHTML = docLinkHtml;\n",
              "          element.appendChild(docLink);\n",
              "        }\n",
              "      </script>\n",
              "    </div>\n",
              "  </div>\n",
              "  "
            ]
          },
          "metadata": {},
          "execution_count": 4
        }
      ]
    },
    {
      "cell_type": "code",
      "source": [
        "counts = make_dataset.count_hashtags(df)\n",
        "sns.barplot(y=counts.head(20).index, x=\"hashtag\", data=counts.head(20), palette='viridis').set(title='Top 20 Most Used Hashtags')"
      ],
      "metadata": {
        "colab": {
          "base_uri": "https://localhost:8080/",
          "height": 312
        },
        "id": "xJYkyC7CUGfW",
        "outputId": "1b325176-743e-411b-9a86-1373721a3596"
      },
      "execution_count": null,
      "outputs": [
        {
          "output_type": "execute_result",
          "data": {
            "text/plain": [
              "[Text(0.5, 1.0, 'Top 20 Most Used Hashtags')]"
            ]
          },
          "metadata": {},
          "execution_count": 15
        },
        {
          "output_type": "display_data",
          "data": {
            "text/plain": [
              "<Figure size 432x288 with 1 Axes>"
            ],
            "image/png": "[encoded data removed]"
          },
          "metadata": {
            "needs_background": "light"
          }
        }
      ]
    },
    {
      "cell_type": "markdown",
      "source": [
        "# 1.0"
      ],
      "metadata": {
        "id": "cqqtfR8K3t5j"
      }
    },
    {
      "cell_type": "code",
      "source": [
        "import pandas as pd\n",
        "import numpy as np\n",
        "import matplotlib.pyplot as plt\n",
        "from sklearn.feature_extraction.text import TfidfTransformer,CountVectorizer,HashingVectorizer"
      ],
      "metadata": {
        "id": "AE3YduzJ1fuJ"
      },
      "execution_count": null,
      "outputs": []
    },
    {
      "cell_type": "code",
      "source": [
        "## Reading the data and removing columns that are not important. \n",
        "df = pd.read_csv('twitter.csv', sep = ',', encoding = 'latin-1')\n",
        "df.head(5)"
      ],
      "metadata": {
        "colab": {
          "base_uri": "https://localhost:8080/",
          "height": 600
        },
        "id": "qDOuphGf1krh",
        "outputId": "450cf7d5-84e7-48e4-9caf-1186f8642382"
      },
      "execution_count": null,
      "outputs": [
        {
          "output_type": "execute_result",
          "data": {
            "text/plain": [
              "   Unnamed: 0               userid         username  \\\n",
              "0           0             16882774          Yaniela   \n",
              "1           1           3205296069         gregffff   \n",
              "2           2  1235940869812809728  ThanapornThon17   \n",
              "3           3  1347985375566966784   I_Protest_2021   \n",
              "4           4  1505394816636846083     Marsh_Win_01   \n",
              "\n",
              "                                            acctdesc                location  \\\n",
              "0  Animal lover, supports those who fight injusti...                  Hawaii   \n",
              "1                                                NaN                     NaN   \n",
              "2  à¹à¸¥à¹à¸à¹à¸§à¹à¸­à¸¥à¸´à¸\\nà¸à¸¹à¸à¸...                     NaN   \n",
              "3  01000001 01101110 01101111 01101110 01111001 0...  International Web Zone   \n",
              "4  ð¿@Pickaw @TWITTERPICKER ð¿Winning isnât...          Hunter Account   \n",
              "\n",
              "   following  followers  totaltweets               usercreatedts  \\\n",
              "0       1158        392        88366  2008-10-21 07:34:04.000000   \n",
              "1        122        881        99853  2015-04-25 11:24:34.000000   \n",
              "2        231         72         5481  2020-03-06 14:52:01.000000   \n",
              "3        399        377          301  2021-01-09 19:15:44.000000   \n",
              "4        158         25         8982  2022-03-20 04:04:40.000000   \n",
              "\n",
              "               tweetid              tweetcreatedts  retweetcount  \\\n",
              "0  1509681950042198030  2022-04-01 00:00:00.000000          3412   \n",
              "1  1509681950151348229  2022-04-01 00:00:00.000000           100   \n",
              "2  1509681950683926556  2022-04-01 00:00:00.000000             9   \n",
              "3  1509681951116046336  2022-04-01 00:00:00.000000           573   \n",
              "4  1509681951304990720  2022-04-01 00:00:00.000000           190   \n",
              "\n",
              "                                                text  \\\n",
              "0  â¡The Ukrainian Air Force would like to addre...   \n",
              "1  Chernihiv oblast. Ukrainians welcome their lib...   \n",
              "2  America ðºð¸ is preparing for something wo...   \n",
              "3  JUST IN: #Anonymous has hacked &amp; released ...   \n",
              "4  ***PUBLIC MINT NOW LIVE***\\n\\nFor \\n@billionai...   \n",
              "\n",
              "                                            hashtags language coordinates  \\\n",
              "0                                                 []       en         NaN   \n",
              "1  [{'text': 'russianinvasion', 'indices': [77, 9...       en         NaN   \n",
              "2  [{'text': 'RussianUkrainianWar', 'indices': [7...       en         NaN   \n",
              "3       [{'text': 'Anonymous', 'indices': [25, 35]}]       en         NaN   \n",
              "4                                                 []       en         NaN   \n",
              "\n",
              "   favorite_count                 extractedts  \n",
              "0               0  2022-04-01 00:44:20.097867  \n",
              "1               0  2022-04-01 00:09:37.148770  \n",
              "2               0  2022-04-01 00:09:37.125654  \n",
              "3               0  2022-04-01 00:31:39.674382  \n",
              "4               0  2022-04-01 00:09:37.101459  "
            ],
            "text/html": [
              "\n",
              "  <div id=\"df-9b3b7282-86f3-4ca7-bcd5-67ef7b50872a\">\n",
              "    <div class=\"colab-df-container\">\n",
              "      <div>\n",
              "<style scoped>\n",
              "    .dataframe tbody tr th:only-of-type {\n",
              "        vertical-align: middle;\n",
              "    }\n",
              "\n",
              "    .dataframe tbody tr th {\n",
              "        vertical-align: top;\n",
              "    }\n",
              "\n",
              "    .dataframe thead th {\n",
              "        text-align: right;\n",
              "    }\n",
              "</style>\n",
              "<table border=\"1\" class=\"dataframe\">\n",
              "  <thead>\n",
              "    <tr style=\"text-align: right;\">\n",
              "      <th></th>\n",
              "      <th>Unnamed: 0</th>\n",
              "      <th>userid</th>\n",
              "      <th>username</th>\n",
              "      <th>acctdesc</th>\n",
              "      <th>location</th>\n",
              "      <th>following</th>\n",
              "      <th>followers</th>\n",
              "      <th>totaltweets</th>\n",
              "      <th>usercreatedts</th>\n",
              "      <th>tweetid</th>\n",
              "      <th>tweetcreatedts</th>\n",
              "      <th>retweetcount</th>\n",
              "      <th>text</th>\n",
              "      <th>hashtags</th>\n",
              "      <th>language</th>\n",
              "      <th>coordinates</th>\n",
              "      <th>favorite_count</th>\n",
              "      <th>extractedts</th>\n",
              "    </tr>\n",
              "  </thead>\n",
              "  <tbody>\n",
              "    <tr>\n",
              "      <th>0</th>\n",
              "      <td>0</td>\n",
              "      <td>16882774</td>\n",
              "      <td>Yaniela</td>\n",
              "      <td>Animal lover, supports those who fight injusti...</td>\n",
              "      <td>Hawaii</td>\n",
              "      <td>1158</td>\n",
              "      <td>392</td>\n",
              "      <td>88366</td>\n",
              "      <td>2008-10-21 07:34:04.000000</td>\n",
              "      <td>1509681950042198030</td>\n",
              "      <td>2022-04-01 00:00:00.000000</td>\n",
              "      <td>3412</td>\n",
              "      <td>â¡The Ukrainian Air Force would like to addre...</td>\n",
              "      <td>[]</td>\n",
              "      <td>en</td>\n",
              "      <td>NaN</td>\n",
              "      <td>0</td>\n",
              "      <td>2022-04-01 00:44:20.097867</td>\n",
              "    </tr>\n",
              "    <tr>\n",
              "      <th>1</th>\n",
              "      <td>1</td>\n",
              "      <td>3205296069</td>\n",
              "      <td>gregffff</td>\n",
              "      <td>NaN</td>\n",
              "      <td>NaN</td>\n",
              "      <td>122</td>\n",
              "      <td>881</td>\n",
              "      <td>99853</td>\n",
              "      <td>2015-04-25 11:24:34.000000</td>\n",
              "      <td>1509681950151348229</td>\n",
              "      <td>2022-04-01 00:00:00.000000</td>\n",
              "      <td>100</td>\n",
              "      <td>Chernihiv oblast. Ukrainians welcome their lib...</td>\n",
              "      <td>[{'text': 'russianinvasion', 'indices': [77, 9...</td>\n",
              "      <td>en</td>\n",
              "      <td>NaN</td>\n",
              "      <td>0</td>\n",
              "      <td>2022-04-01 00:09:37.148770</td>\n",
              "    </tr>\n",
              "    <tr>\n",
              "      <th>2</th>\n",
              "      <td>2</td>\n",
              "      <td>1235940869812809728</td>\n",
              "      <td>ThanapornThon17</td>\n",
              "      <td>à¹à¸¥à¹à¸à¹à¸§à¹à¸­à¸¥à¸´à¸\\nà¸à¸¹à¸à¸...</td>\n",
              "      <td>NaN</td>\n",
              "      <td>231</td>\n",
              "      <td>72</td>\n",
              "      <td>5481</td>\n",
              "      <td>2020-03-06 14:52:01.000000</td>\n",
              "      <td>1509681950683926556</td>\n",
              "      <td>2022-04-01 00:00:00.000000</td>\n",
              "      <td>9</td>\n",
              "      <td>America ðºð¸ is preparing for something wo...</td>\n",
              "      <td>[{'text': 'RussianUkrainianWar', 'indices': [7...</td>\n",
              "      <td>en</td>\n",
              "      <td>NaN</td>\n",
              "      <td>0</td>\n",
              "      <td>2022-04-01 00:09:37.125654</td>\n",
              "    </tr>\n",
              "    <tr>\n",
              "      <th>3</th>\n",
              "      <td>3</td>\n",
              "      <td>1347985375566966784</td>\n",
              "      <td>I_Protest_2021</td>\n",
              "      <td>01000001 01101110 01101111 01101110 01111001 0...</td>\n",
              "      <td>International Web Zone</td>\n",
              "      <td>399</td>\n",
              "      <td>377</td>\n",
              "      <td>301</td>\n",
              "      <td>2021-01-09 19:15:44.000000</td>\n",
              "      <td>1509681951116046336</td>\n",
              "      <td>2022-04-01 00:00:00.000000</td>\n",
              "      <td>573</td>\n",
              "      <td>JUST IN: #Anonymous has hacked &amp;amp; released ...</td>\n",
              "      <td>[{'text': 'Anonymous', 'indices': [25, 35]}]</td>\n",
              "      <td>en</td>\n",
              "      <td>NaN</td>\n",
              "      <td>0</td>\n",
              "      <td>2022-04-01 00:31:39.674382</td>\n",
              "    </tr>\n",
              "    <tr>\n",
              "      <th>4</th>\n",
              "      <td>4</td>\n",
              "      <td>1505394816636846083</td>\n",
              "      <td>Marsh_Win_01</td>\n",
              "      <td>ð¿@Pickaw @TWITTERPICKER ð¿Winning isnât...</td>\n",
              "      <td>Hunter Account</td>\n",
              "      <td>158</td>\n",
              "      <td>25</td>\n",
              "      <td>8982</td>\n",
              "      <td>2022-03-20 04:04:40.000000</td>\n",
              "      <td>1509681951304990720</td>\n",
              "      <td>2022-04-01 00:00:00.000000</td>\n",
              "      <td>190</td>\n",
              "      <td>***PUBLIC MINT NOW LIVE***\\n\\nFor \\n@billionai...</td>\n",
              "      <td>[]</td>\n",
              "      <td>en</td>\n",
              "      <td>NaN</td>\n",
              "      <td>0</td>\n",
              "      <td>2022-04-01 00:09:37.101459</td>\n",
              "    </tr>\n",
              "  </tbody>\n",
              "</table>\n",
              "</div>\n",
              "      <button class=\"colab-df-convert\" onclick=\"convertToInteractive('df-9b3b7282-86f3-4ca7-bcd5-67ef7b50872a')\"\n",
              "              title=\"Convert this dataframe to an interactive table.\"\n",
              "              style=\"display:none;\">\n",
              "        \n",
              "  <svg xmlns=\"http://www.w3.org/2000/svg\" height=\"24px\"viewBox=\"0 0 24 24\"\n",
              "       width=\"24px\">\n",
              "    <path d=\"M0 0h24v24H0V0z\" fill=\"none\"/>\n",
              "    <path d=\"M18.56 5.44l.94 2.06.94-2.06 2.06-.94-2.06-.94-.94-2.06-.94 2.06-2.06.94zm-11 1L8.5 8.5l.94-2.06 2.06-.94-2.06-.94L8.5 2.5l-.94 2.06-2.06.94zm10 10l.94 2.06.94-2.06 2.06-.94-2.06-.94-.94-2.06-.94 2.06-2.06.94z\"/><path d=\"M17.41 7.96l-1.37-1.37c-.4-.4-.92-.59-1.43-.59-.52 0-1.04.2-1.43.59L10.3 9.45l-7.72 7.72c-.78.78-.78 2.05 0 2.83L4 21.41c.39.39.9.59 1.41.59.51 0 1.02-.2 1.41-.59l7.78-7.78 2.81-2.81c.8-.78.8-2.07 0-2.86zM5.41 20L4 18.59l7.72-7.72 1.47 1.35L5.41 20z\"/>\n",
              "  </svg>\n",
              "      </button>\n",
              "      \n",
              "  <style>\n",
              "    .colab-df-container {\n",
              "      display:flex;\n",
              "      flex-wrap:wrap;\n",
              "      gap: 12px;\n",
              "    }\n",
              "\n",
              "    .colab-df-convert {\n",
              "      background-color: #E8F0FE;\n",
              "      border: none;\n",
              "      border-radius: 50%;\n",
              "      cursor: pointer;\n",
              "      display: none;\n",
              "      fill: #1967D2;\n",
              "      height: 32px;\n",
              "      padding: 0 0 0 0;\n",
              "      width: 32px;\n",
              "    }\n",
              "\n",
              "    .colab-df-convert:hover {\n",
              "      background-color: #E2EBFA;\n",
              "      box-shadow: 0px 1px 2px rgba(60, 64, 67, 0.3), 0px 1px 3px 1px rgba(60, 64, 67, 0.15);\n",
              "      fill: #174EA6;\n",
              "    }\n",
              "\n",
              "    [theme=dark] .colab-df-convert {\n",
              "      background-color: #3B4455;\n",
              "      fill: #D2E3FC;\n",
              "    }\n",
              "\n",
              "    [theme=dark] .colab-df-convert:hover {\n",
              "      background-color: #434B5C;\n",
              "      box-shadow: 0px 1px 3px 1px rgba(0, 0, 0, 0.15);\n",
              "      filter: drop-shadow(0px 1px 2px rgba(0, 0, 0, 0.3));\n",
              "      fill: #FFFFFF;\n",
              "    }\n",
              "  </style>\n",
              "\n",
              "      <script>\n",
              "        const buttonEl =\n",
              "          document.querySelector('#df-9b3b7282-86f3-4ca7-bcd5-67ef7b50872a button.colab-df-convert');\n",
              "        buttonEl.style.display =\n",
              "          google.colab.kernel.accessAllowed ? 'block' : 'none';\n",
              "\n",
              "        async function convertToInteractive(key) {\n",
              "          const element = document.querySelector('#df-9b3b7282-86f3-4ca7-bcd5-67ef7b50872a');\n",
              "          const dataTable =\n",
              "            await google.colab.kernel.invokeFunction('convertToInteractive',\n",
              "                                                     [key], {});\n",
              "          if (!dataTable) return;\n",
              "\n",
              "          const docLinkHtml = 'Like what you see? Visit the ' +\n",
              "            '<a target=\"_blank\" href=https://colab.research.google.com/notebooks/data_table.ipynb>data table notebook</a>'\n",
              "            + ' to learn more about interactive tables.';\n",
              "          element.innerHTML = '';\n",
              "          dataTable['output_type'] = 'display_data';\n",
              "          await google.colab.output.renderOutput(dataTable, element);\n",
              "          const docLink = document.createElement('div');\n",
              "          docLink.innerHTML = docLinkHtml;\n",
              "          element.appendChild(docLink);\n",
              "        }\n",
              "      </script>\n",
              "    </div>\n",
              "  </div>\n",
              "  "
            ]
          },
          "metadata": {},
          "execution_count": 20
        }
      ]
    },
    {
      "cell_type": "code",
      "source": [
        "#Remove the data that the text language is not English\n",
        "df = df.drop(df[df['language']!=\"en\"].index)\n",
        "#Test on the first 10000 rows\n",
        "df = df.loc[1:10000]"
      ],
      "metadata": {
        "id": "PN_skbZI16xB"
      },
      "execution_count": null,
      "outputs": []
    },
    {
      "cell_type": "code",
      "source": [
        "import re\n",
        "from bs4 import BeautifulSoup\n",
        "from html import unescape\n",
        "#Remove URLS\n",
        "def remove_urls(x):\n",
        "    cleaned_string = re.sub(r'(https|http)?:\\/\\/(\\w|\\.|\\/|\\?|\\=|\\&|\\%)*\\b', '', str(x), flags=re.MULTILINE)\n",
        "    return cleaned_string"
      ],
      "metadata": {
        "id": "Rw_BHhk81-gx"
      },
      "execution_count": null,
      "outputs": []
    },
    {
      "cell_type": "code",
      "source": [
        "#Unescape characters\n",
        "def unescape_stuff(x):\n",
        "    soup = BeautifulSoup(unescape(x), 'lxml')\n",
        "    return soup.text"
      ],
      "metadata": {
        "id": "DtKdlmyz2CAp"
      },
      "execution_count": null,
      "outputs": []
    },
    {
      "cell_type": "code",
      "source": [
        "#Remove emojis\n",
        "def deEmojify(x):\n",
        "    regrex_pattern = re.compile(pattern = \"[\"\n",
        "        u\"\\U0001F600-\\U0001F64F\"  # emoticons\n",
        "        u\"\\U0001F300-\\U0001F5FF\"  # symbols & pictographs\n",
        "        u\"\\U0001F680-\\U0001F6FF\"  # transport & map symbols\n",
        "        u\"\\U0001F1E0-\\U0001F1FF\"  # flags (iOS)\n",
        "                           \"]+\", flags = re.UNICODE)\n",
        "    return regrex_pattern.sub(r'', x)"
      ],
      "metadata": {
        "id": "vf01t7CH2FUB"
      },
      "execution_count": null,
      "outputs": []
    },
    {
      "cell_type": "code",
      "source": [
        "#Replace conservative whitespaces\n",
        "def unify_whitespaces(x):\n",
        "    cleaned_string = re.sub(' +', ' ', x)\n",
        "    return cleaned_string "
      ],
      "metadata": {
        "id": "smDOA9SL2JKx"
      },
      "execution_count": null,
      "outputs": []
    },
    {
      "cell_type": "code",
      "source": [
        "#Remove unwanted symbols\n",
        "def remove_symbols(x):\n",
        "    cleaned_string = re.sub(r\"[^a-zA-Z0-9?!.,]+\", ' ', x)\n",
        "    return cleaned_string  "
      ],
      "metadata": {
        "id": "BuF_hcwj2L-Z"
      },
      "execution_count": null,
      "outputs": []
    },
    {
      "cell_type": "code",
      "source": [
        "df['text'] = df['text'].str.lower()\n",
        "df['text'] = df['text'].apply(remove_urls)\n",
        "df['text'] = df['text'].apply(unescape_stuff)\n",
        "df['text'] = df['text'].apply(deEmojify)\n",
        "df['text'] = df['text'].apply(remove_symbols)\n",
        "df['text'] = df['text'].apply(unify_whitespaces)"
      ],
      "metadata": {
        "id": "ciUp3StJ2PVp"
      },
      "execution_count": null,
      "outputs": []
    },
    {
      "cell_type": "code",
      "source": [
        "df['text'].head()"
      ],
      "metadata": {
        "colab": {
          "base_uri": "https://localhost:8080/"
        },
        "id": "hj0BH_8Q2TBJ",
        "outputId": "6c80e1b6-a06f-45c4-a39b-f1669f0c89bf"
      },
      "execution_count": null,
      "outputs": [
        {
          "output_type": "execute_result",
          "data": {
            "text/plain": [
              "1    chernihiv oblast. ukrainians welcome their lib...\n",
              "2    america is preparing for something worse than ...\n",
              "3    just in anonymous has hacked released 62,000 e...\n",
              "4     public mint now live for billionaire wmn win ...\n",
              "5    the amazing story of former sussex county dela...\n",
              "Name: text, dtype: object"
            ]
          },
          "metadata": {},
          "execution_count": 28
        }
      ]
    },
    {
      "cell_type": "code",
      "source": [
        "#Transform the words in the text to word frequency matrix\n",
        "vectorizer = CountVectorizer()\n",
        "#Calculate tf-idf of each word\n",
        "transformer = TfidfTransformer()\n",
        "#Transform texts to word frequency matrix\n",
        "tfidf = transformer.fit_transform(vectorizer.fit_transform(df[\"text\"]))\n",
        "\n",
        "#Get all the words\n",
        "word = vectorizer.get_feature_names()\n",
        "#Get tf-idf from the matrix\n",
        "weight = tfidf.toarray()\n",
        "num = np.array(weight)  \n",
        "#Number of word lists\n",
        "print(num.shape[1])"
      ],
      "metadata": {
        "colab": {
          "base_uri": "https://localhost:8080/"
        },
        "id": "zWcwhYiR2YbJ",
        "outputId": "d9210849-e45b-44e1-c8c1-1899bf134b57"
      },
      "execution_count": null,
      "outputs": [
        {
          "output_type": "stream",
          "name": "stdout",
          "text": [
            "11959\n"
          ]
        }
      ]
    },
    {
      "cell_type": "code",
      "source": [
        "from sklearn.cluster import KMeans\n",
        "#Cluster to 3 classes\n",
        "clf = KMeans(n_clusters=3) \n",
        "s=clf.fit(weight) \n",
        "print(s)         \n",
        "#Cluster center\n",
        "print(len(clf.cluster_centers_))"
      ],
      "metadata": {
        "colab": {
          "base_uri": "https://localhost:8080/"
        },
        "id": "fZ5fdjhn2eAJ",
        "outputId": "5085973e-76fe-434c-cde0-b4a1cdc58040"
      },
      "execution_count": null,
      "outputs": [
        {
          "output_type": "stream",
          "name": "stdout",
          "text": [
            "KMeans(n_clusters=3)\n",
            "3\n"
          ]
        }
      ]
    },
    {
      "cell_type": "code",
      "source": [
        "listlabel=[]\n",
        "i=0\n",
        "while i<len(clf.labels_):\n",
        "    listlabel.append([i,clf.labels_[i]])\n",
        "    i=i+1\n",
        "\n",
        "frame = pd.DataFrame(listlabel,columns=['index','class'])\n",
        "\n",
        "\n",
        "list0=[]                                                \n",
        "data0=frame[(frame[u'class']==0)].iloc[:,0]\n",
        "for m in data0:\n",
        "    list0.append(m)\n",
        "\n",
        "list1=[]\n",
        "data1=frame[(frame[u'class']==1)].iloc[:,0]\n",
        "for m in data1:\n",
        "    list1.append(m)\n",
        "\n",
        "list2=[]\n",
        "data2=frame[(frame[u'class']==2)].iloc[:,0]\n",
        "for m in data2:\n",
        "    list2.append(m)\n",
        "\n",
        "\n",
        "\n",
        "# Dimension reduction\n",
        "from sklearn.decomposition import PCA\n",
        "pca = PCA(n_components=2)\n",
        "newData = pca.fit_transform(weight)\n",
        "\n",
        "\n",
        "#Class 1\n",
        "x1=[]          \n",
        "y1=[]        \n",
        "for j in list0:\n",
        "    x1.append(newData[j][0])\n",
        "    y1.append(newData[j][1])\n",
        "\n",
        "#Class 2\n",
        "x2 = []\n",
        "y2 = []\n",
        "for j in list1:\n",
        "    x2.append(newData[j][0])\n",
        "    y2.append(newData[j][1])\n",
        "\n",
        "#Class 3\n",
        "x3 = []\n",
        "y3 = []\n",
        "for j in list2:\n",
        "    x3.append(newData[j][0])\n",
        "    y3.append(newData[j][1])\n",
        "\n",
        "\n",
        "\n",
        "#Visualization\n",
        "plt.plot(x1, y1, 'or')\n",
        "plt.plot(x2, y2, 'og')\n",
        "plt.plot(x3, y3, 'ob')\n",
        "\n",
        "plt.show()"
      ],
      "metadata": {
        "colab": {
          "base_uri": "https://localhost:8080/",
          "height": 265
        },
        "id": "TeYPJcvR2syy",
        "outputId": "ded8a0c8-2c21-4ca0-be15-5dcfbc1a8bac"
      },
      "execution_count": null,
      "outputs": [
        {
          "output_type": "display_data",
          "data": {
            "text/plain": [
              "<Figure size 432x288 with 1 Axes>"
            ],
            "image/png": "[encoded data removed]"
          },
          "metadata": {
            "needs_background": "light"
          }
        }
      ]
    },
    {
      "cell_type": "code",
      "source": [
        "print(len(frame[frame['class']==0]))\n",
        "print(len(frame[frame['class']==1]))\n",
        "print(len(frame[frame['class']==2]))"
      ],
      "metadata": {
        "colab": {
          "base_uri": "https://localhost:8080/"
        },
        "id": "x3AfmsWy23sZ",
        "outputId": "e25c0cf8-645e-4949-95cc-129cfc9f3ca2"
      },
      "execution_count": null,
      "outputs": [
        {
          "output_type": "stream",
          "name": "stdout",
          "text": [
            "7182\n",
            "479\n",
            "380\n"
          ]
        }
      ]
    },
    {
      "cell_type": "code",
      "source": [
        "print(frame)"
      ],
      "metadata": {
        "colab": {
          "base_uri": "https://localhost:8080/"
        },
        "id": "AT36jVPt27cp",
        "outputId": "140a1608-106b-4862-85b0-e9dab7da1674"
      },
      "execution_count": null,
      "outputs": [
        {
          "output_type": "stream",
          "name": "stdout",
          "text": [
            "      index  class\n",
            "0         0      0\n",
            "1         1      0\n",
            "2         2      0\n",
            "3         3      2\n",
            "4         4      0\n",
            "...     ...    ...\n",
            "8036   8036      0\n",
            "8037   8037      0\n",
            "8038   8038      0\n",
            "8039   8039      0\n",
            "8040   8040      0\n",
            "\n",
            "[8041 rows x 2 columns]\n"
          ]
        }
      ]
    },
    {
      "cell_type": "code",
      "source": [
        "frame = frame[['class']]\n",
        "df"
      ],
      "metadata": {
        "colab": {
          "base_uri": "https://localhost:8080/",
          "height": 956
        },
        "id": "VImoMWsn2__Z",
        "outputId": "1f5b0fc9-05cf-462f-dd13-c6d74b264f6a"
      },
      "execution_count": null,
      "outputs": [
        {
          "output_type": "execute_result",
          "data": {
            "text/plain": [
              "       Unnamed: 0               userid         username  \\\n",
              "1               1           3205296069         gregffff   \n",
              "2               2  1235940869812809728  ThanapornThon17   \n",
              "3               3  1347985375566966784   I_Protest_2021   \n",
              "4               4  1505394816636846083     Marsh_Win_01   \n",
              "5               5   799652508771766274   Judson_Bennett   \n",
              "...           ...                  ...              ...   \n",
              "9996         9996  1015273348631232512  Wandacalabrese1   \n",
              "9997         9997             47491647         rolvin15   \n",
              "9998         9998           4680216434       0suzanna10   \n",
              "9999         9999  1160113082607296512  BlackCo16122436   \n",
              "10000       10000  1492282521190604806   MeriMeritigray   \n",
              "\n",
              "                                                acctdesc  \\\n",
              "1                                                    NaN   \n",
              "2      à¹à¸¥à¹à¸à¹à¸§à¹à¸­à¸¥à¸´à¸\\nà¸à¸¹à¸à¸...   \n",
              "3      01000001 01101110 01101111 01101110 01111001 0...   \n",
              "4      ð¿@Pickaw @TWITTERPICKER ð¿Winning isnât...   \n",
              "5      Coastal Network founder. Advocate, journalist,...   \n",
              "...                                                  ...   \n",
              "9996   proud boomer survived the 60 twice. Love this ...   \n",
              "9997                       Gerente Seguridad del Negocio   \n",
              "9998   ðºð¦ðºð¦ðºð¦ðºð¦I STAND withð...   \n",
              "9999        Journalist, blogger. https://t.co/HNypzpYoCm   \n",
              "10000                                       Tigray zadey   \n",
              "\n",
              "                                 location  following  followers  totaltweets  \\\n",
              "1                                     NaN        122        881        99853   \n",
              "2                                     NaN        231         72         5481   \n",
              "3                  International Web Zone        399        377          301   \n",
              "4                          Hunter Account        158         25         8982   \n",
              "5                                     NaN        766       2024         4601   \n",
              "...                                   ...        ...        ...          ...   \n",
              "9996                        New York, USA       3442       2821       239882   \n",
              "9997                            Venezuela        399        115         6467   \n",
              "9998   YEG ð¤ð½Amiskawaci-Waskahikan        1210        484         9667   \n",
              "9999                                  NaN       1027        602        59135   \n",
              "10000                                 NaN        477        373         2955   \n",
              "\n",
              "                    usercreatedts              tweetid  \\\n",
              "1      2015-04-25 11:24:34.000000  1509681950151348229   \n",
              "2      2020-03-06 14:52:01.000000  1509681950683926556   \n",
              "3      2021-01-09 19:15:44.000000  1509681951116046336   \n",
              "4      2022-03-20 04:04:40.000000  1509681951304990720   \n",
              "5      2016-11-18 16:36:29.000000  1509681952000937999   \n",
              "...                           ...                  ...   \n",
              "9996   2018-07-06 16:36:43.000000  1509695441490915328   \n",
              "9997   2009-06-16 00:30:38.000000  1509695441599877125   \n",
              "9998   2015-12-30 23:00:54.000000  1509695443793448988   \n",
              "9999   2019-08-10 08:58:07.000000  1509695445467029507   \n",
              "10000  2022-02-11 23:41:40.000000  1509695445920059394   \n",
              "\n",
              "                   tweetcreatedts  retweetcount  \\\n",
              "1      2022-04-01 00:00:00.000000           100   \n",
              "2      2022-04-01 00:00:00.000000             9   \n",
              "3      2022-04-01 00:00:00.000000           573   \n",
              "4      2022-04-01 00:00:00.000000           190   \n",
              "5      2022-04-01 00:00:00.000000             1   \n",
              "...                           ...           ...   \n",
              "9996   2022-04-01 00:53:36.000000            82   \n",
              "9997   2022-04-01 00:53:36.000000           388   \n",
              "9998   2022-04-01 00:53:37.000000           128   \n",
              "9999   2022-04-01 00:53:37.000000             0   \n",
              "10000  2022-04-01 00:53:37.000000            53   \n",
              "\n",
              "                                                    text  \\\n",
              "1      chernihiv oblast. ukrainians welcome their lib...   \n",
              "2      america is preparing for something worse than ...   \n",
              "3      just in anonymous has hacked released 62,000 e...   \n",
              "4       public mint now live for billionaire wmn win ...   \n",
              "5      the amazing story of former sussex county dela...   \n",
              "...                                                  ...   \n",
              "9996   i ll be joining lawrence tonight on thelastwor...   \n",
              "9997    ukraine russian troops were hit by ukrainian ...   \n",
              "9998    the misery that is now upon us is but the pas...   \n",
              "9999    cnn repgregorymeeks jaketapper . cnn spring a...   \n",
              "10000  as the world focuses on ukraine, we urge un me...   \n",
              "\n",
              "                                                hashtags language coordinates  \\\n",
              "1      [{'text': 'russianinvasion', 'indices': [77, 9...       en         NaN   \n",
              "2      [{'text': 'RussianUkrainianWar', 'indices': [7...       en         NaN   \n",
              "3           [{'text': 'Anonymous', 'indices': [25, 35]}]       en         NaN   \n",
              "4                                                     []       en         NaN   \n",
              "5      [{'text': 'Russia', 'indices': [208, 215]}, {'...       en         NaN   \n",
              "...                                                  ...      ...         ...   \n",
              "9996          [{'text': 'Putin', 'indices': [130, 136]}]       en         NaN   \n",
              "9997          [{'text': 'Ukraine', 'indices': [15, 23]}]       en         NaN   \n",
              "9998                                                  []       en         NaN   \n",
              "9999   [{'text': 'Ukraine', 'indices': [58, 66]}, {'t...       en         NaN   \n",
              "10000         [{'text': 'Ukraine', 'indices': [42, 50]}]       en         NaN   \n",
              "\n",
              "       favorite_count                 extractedts  \n",
              "1                   0  2022-04-01 00:09:37.148770  \n",
              "2                   0  2022-04-01 00:09:37.125654  \n",
              "3                   0  2022-04-01 00:31:39.674382  \n",
              "4                   0  2022-04-01 00:09:37.101459  \n",
              "5                   0  2022-04-01 00:14:21.490394  \n",
              "...               ...                         ...  \n",
              "9996                0  2022-04-01 01:29:19.293893  \n",
              "9997                0  2022-04-01 01:09:32.271796  \n",
              "9998                0  2022-04-01 01:29:19.285855  \n",
              "9999                0  2022-04-01 01:29:19.277817  \n",
              "10000               0  2022-04-01 01:09:32.235569  \n",
              "\n",
              "[8041 rows x 18 columns]"
            ],
            "text/html": [
              "\n",
              "  <div id=\"df-8dfa9e90-a82e-498d-af27-8dd206710a1b\">\n",
              "    <div class=\"colab-df-container\">\n",
              "      <div>\n",
              "<style scoped>\n",
              "    .dataframe tbody tr th:only-of-type {\n",
              "        vertical-align: middle;\n",
              "    }\n",
              "\n",
              "    .dataframe tbody tr th {\n",
              "        vertical-align: top;\n",
              "    }\n",
              "\n",
              "    .dataframe thead th {\n",
              "        text-align: right;\n",
              "    }\n",
              "</style>\n",
              "<table border=\"1\" class=\"dataframe\">\n",
              "  <thead>\n",
              "    <tr style=\"text-align: right;\">\n",
              "      <th></th>\n",
              "      <th>Unnamed: 0</th>\n",
              "      <th>userid</th>\n",
              "      <th>username</th>\n",
              "      <th>acctdesc</th>\n",
              "      <th>location</th>\n",
              "      <th>following</th>\n",
              "      <th>followers</th>\n",
              "      <th>totaltweets</th>\n",
              "      <th>usercreatedts</th>\n",
              "      <th>tweetid</th>\n",
              "      <th>tweetcreatedts</th>\n",
              "      <th>retweetcount</th>\n",
              "      <th>text</th>\n",
              "      <th>hashtags</th>\n",
              "      <th>language</th>\n",
              "      <th>coordinates</th>\n",
              "      <th>favorite_count</th>\n",
              "      <th>extractedts</th>\n",
              "    </tr>\n",
              "  </thead>\n",
              "  <tbody>\n",
              "    <tr>\n",
              "      <th>1</th>\n",
              "      <td>1</td>\n",
              "      <td>3205296069</td>\n",
              "      <td>gregffff</td>\n",
              "      <td>NaN</td>\n",
              "      <td>NaN</td>\n",
              "      <td>122</td>\n",
              "      <td>881</td>\n",
              "      <td>99853</td>\n",
              "      <td>2015-04-25 11:24:34.000000</td>\n",
              "      <td>1509681950151348229</td>\n",
              "      <td>2022-04-01 00:00:00.000000</td>\n",
              "      <td>100</td>\n",
              "      <td>chernihiv oblast. ukrainians welcome their lib...</td>\n",
              "      <td>[{'text': 'russianinvasion', 'indices': [77, 9...</td>\n",
              "      <td>en</td>\n",
              "      <td>NaN</td>\n",
              "      <td>0</td>\n",
              "      <td>2022-04-01 00:09:37.148770</td>\n",
              "    </tr>\n",
              "    <tr>\n",
              "      <th>2</th>\n",
              "      <td>2</td>\n",
              "      <td>1235940869812809728</td>\n",
              "      <td>ThanapornThon17</td>\n",
              "      <td>à¹à¸¥à¹à¸à¹à¸§à¹à¸­à¸¥à¸´à¸\\nà¸à¸¹à¸à¸...</td>\n",
              "      <td>NaN</td>\n",
              "      <td>231</td>\n",
              "      <td>72</td>\n",
              "      <td>5481</td>\n",
              "      <td>2020-03-06 14:52:01.000000</td>\n",
              "      <td>1509681950683926556</td>\n",
              "      <td>2022-04-01 00:00:00.000000</td>\n",
              "      <td>9</td>\n",
              "      <td>america is preparing for something worse than ...</td>\n",
              "      <td>[{'text': 'RussianUkrainianWar', 'indices': [7...</td>\n",
              "      <td>en</td>\n",
              "      <td>NaN</td>\n",
              "      <td>0</td>\n",
              "      <td>2022-04-01 00:09:37.125654</td>\n",
              "    </tr>\n",
              "    <tr>\n",
              "      <th>3</th>\n",
              "      <td>3</td>\n",
              "      <td>1347985375566966784</td>\n",
              "      <td>I_Protest_2021</td>\n",
              "      <td>01000001 01101110 01101111 01101110 01111001 0...</td>\n",
              "      <td>International Web Zone</td>\n",
              "      <td>399</td>\n",
              "      <td>377</td>\n",
              "      <td>301</td>\n",
              "      <td>2021-01-09 19:15:44.000000</td>\n",
              "      <td>1509681951116046336</td>\n",
              "      <td>2022-04-01 00:00:00.000000</td>\n",
              "      <td>573</td>\n",
              "      <td>just in anonymous has hacked released 62,000 e...</td>\n",
              "      <td>[{'text': 'Anonymous', 'indices': [25, 35]}]</td>\n",
              "      <td>en</td>\n",
              "      <td>NaN</td>\n",
              "      <td>0</td>\n",
              "      <td>2022-04-01 00:31:39.674382</td>\n",
              "    </tr>\n",
              "    <tr>\n",
              "      <th>4</th>\n",
              "      <td>4</td>\n",
              "      <td>1505394816636846083</td>\n",
              "      <td>Marsh_Win_01</td>\n",
              "      <td>ð¿@Pickaw @TWITTERPICKER ð¿Winning isnât...</td>\n",
              "      <td>Hunter Account</td>\n",
              "      <td>158</td>\n",
              "      <td>25</td>\n",
              "      <td>8982</td>\n",
              "      <td>2022-03-20 04:04:40.000000</td>\n",
              "      <td>1509681951304990720</td>\n",
              "      <td>2022-04-01 00:00:00.000000</td>\n",
              "      <td>190</td>\n",
              "      <td>public mint now live for billionaire wmn win ...</td>\n",
              "      <td>[]</td>\n",
              "      <td>en</td>\n",
              "      <td>NaN</td>\n",
              "      <td>0</td>\n",
              "      <td>2022-04-01 00:09:37.101459</td>\n",
              "    </tr>\n",
              "    <tr>\n",
              "      <th>5</th>\n",
              "      <td>5</td>\n",
              "      <td>799652508771766274</td>\n",
              "      <td>Judson_Bennett</td>\n",
              "      <td>Coastal Network founder. Advocate, journalist,...</td>\n",
              "      <td>NaN</td>\n",
              "      <td>766</td>\n",
              "      <td>2024</td>\n",
              "      <td>4601</td>\n",
              "      <td>2016-11-18 16:36:29.000000</td>\n",
              "      <td>1509681952000937999</td>\n",
              "      <td>2022-04-01 00:00:00.000000</td>\n",
              "      <td>1</td>\n",
              "      <td>the amazing story of former sussex county dela...</td>\n",
              "      <td>[{'text': 'Russia', 'indices': [208, 215]}, {'...</td>\n",
              "      <td>en</td>\n",
              "      <td>NaN</td>\n",
              "      <td>0</td>\n",
              "      <td>2022-04-01 00:14:21.490394</td>\n",
              "    </tr>\n",
              "    <tr>\n",
              "      <th>...</th>\n",
              "      <td>...</td>\n",
              "      <td>...</td>\n",
              "      <td>...</td>\n",
              "      <td>...</td>\n",
              "      <td>...</td>\n",
              "      <td>...</td>\n",
              "      <td>...</td>\n",
              "      <td>...</td>\n",
              "      <td>...</td>\n",
              "      <td>...</td>\n",
              "      <td>...</td>\n",
              "      <td>...</td>\n",
              "      <td>...</td>\n",
              "      <td>...</td>\n",
              "      <td>...</td>\n",
              "      <td>...</td>\n",
              "      <td>...</td>\n",
              "      <td>...</td>\n",
              "    </tr>\n",
              "    <tr>\n",
              "      <th>9996</th>\n",
              "      <td>9996</td>\n",
              "      <td>1015273348631232512</td>\n",
              "      <td>Wandacalabrese1</td>\n",
              "      <td>proud boomer survived the 60 twice. Love this ...</td>\n",
              "      <td>New York, USA</td>\n",
              "      <td>3442</td>\n",
              "      <td>2821</td>\n",
              "      <td>239882</td>\n",
              "      <td>2018-07-06 16:36:43.000000</td>\n",
              "      <td>1509695441490915328</td>\n",
              "      <td>2022-04-01 00:53:36.000000</td>\n",
              "      <td>82</td>\n",
              "      <td>i ll be joining lawrence tonight on thelastwor...</td>\n",
              "      <td>[{'text': 'Putin', 'indices': [130, 136]}]</td>\n",
              "      <td>en</td>\n",
              "      <td>NaN</td>\n",
              "      <td>0</td>\n",
              "      <td>2022-04-01 01:29:19.293893</td>\n",
              "    </tr>\n",
              "    <tr>\n",
              "      <th>9997</th>\n",
              "      <td>9997</td>\n",
              "      <td>47491647</td>\n",
              "      <td>rolvin15</td>\n",
              "      <td>Gerente Seguridad del Negocio</td>\n",
              "      <td>Venezuela</td>\n",
              "      <td>399</td>\n",
              "      <td>115</td>\n",
              "      <td>6467</td>\n",
              "      <td>2009-06-16 00:30:38.000000</td>\n",
              "      <td>1509695441599877125</td>\n",
              "      <td>2022-04-01 00:53:36.000000</td>\n",
              "      <td>388</td>\n",
              "      <td>ukraine russian troops were hit by ukrainian ...</td>\n",
              "      <td>[{'text': 'Ukraine', 'indices': [15, 23]}]</td>\n",
              "      <td>en</td>\n",
              "      <td>NaN</td>\n",
              "      <td>0</td>\n",
              "      <td>2022-04-01 01:09:32.271796</td>\n",
              "    </tr>\n",
              "    <tr>\n",
              "      <th>9998</th>\n",
              "      <td>9998</td>\n",
              "      <td>4680216434</td>\n",
              "      <td>0suzanna10</td>\n",
              "      <td>ðºð¦ðºð¦ðºð¦ðºð¦I STAND withð...</td>\n",
              "      <td>YEG ð¤ð½Amiskawaci-Waskahikan</td>\n",
              "      <td>1210</td>\n",
              "      <td>484</td>\n",
              "      <td>9667</td>\n",
              "      <td>2015-12-30 23:00:54.000000</td>\n",
              "      <td>1509695443793448988</td>\n",
              "      <td>2022-04-01 00:53:37.000000</td>\n",
              "      <td>128</td>\n",
              "      <td>the misery that is now upon us is but the pas...</td>\n",
              "      <td>[]</td>\n",
              "      <td>en</td>\n",
              "      <td>NaN</td>\n",
              "      <td>0</td>\n",
              "      <td>2022-04-01 01:29:19.285855</td>\n",
              "    </tr>\n",
              "    <tr>\n",
              "      <th>9999</th>\n",
              "      <td>9999</td>\n",
              "      <td>1160113082607296512</td>\n",
              "      <td>BlackCo16122436</td>\n",
              "      <td>Journalist, blogger. https://t.co/HNypzpYoCm</td>\n",
              "      <td>NaN</td>\n",
              "      <td>1027</td>\n",
              "      <td>602</td>\n",
              "      <td>59135</td>\n",
              "      <td>2019-08-10 08:58:07.000000</td>\n",
              "      <td>1509695445467029507</td>\n",
              "      <td>2022-04-01 00:53:37.000000</td>\n",
              "      <td>0</td>\n",
              "      <td>cnn repgregorymeeks jaketapper . cnn spring a...</td>\n",
              "      <td>[{'text': 'Ukraine', 'indices': [58, 66]}, {'t...</td>\n",
              "      <td>en</td>\n",
              "      <td>NaN</td>\n",
              "      <td>0</td>\n",
              "      <td>2022-04-01 01:29:19.277817</td>\n",
              "    </tr>\n",
              "    <tr>\n",
              "      <th>10000</th>\n",
              "      <td>10000</td>\n",
              "      <td>1492282521190604806</td>\n",
              "      <td>MeriMeritigray</td>\n",
              "      <td>Tigray zadey</td>\n",
              "      <td>NaN</td>\n",
              "      <td>477</td>\n",
              "      <td>373</td>\n",
              "      <td>2955</td>\n",
              "      <td>2022-02-11 23:41:40.000000</td>\n",
              "      <td>1509695445920059394</td>\n",
              "      <td>2022-04-01 00:53:37.000000</td>\n",
              "      <td>53</td>\n",
              "      <td>as the world focuses on ukraine, we urge un me...</td>\n",
              "      <td>[{'text': 'Ukraine', 'indices': [42, 50]}]</td>\n",
              "      <td>en</td>\n",
              "      <td>NaN</td>\n",
              "      <td>0</td>\n",
              "      <td>2022-04-01 01:09:32.235569</td>\n",
              "    </tr>\n",
              "  </tbody>\n",
              "</table>\n",
              "<p>8041 rows × 18 columns</p>\n",
              "</div>\n",
              "      <button class=\"colab-df-convert\" onclick=\"convertToInteractive('df-8dfa9e90-a82e-498d-af27-8dd206710a1b')\"\n",
              "              title=\"Convert this dataframe to an interactive table.\"\n",
              "              style=\"display:none;\">\n",
              "        \n",
              "  <svg xmlns=\"http://www.w3.org/2000/svg\" height=\"24px\"viewBox=\"0 0 24 24\"\n",
              "       width=\"24px\">\n",
              "    <path d=\"M0 0h24v24H0V0z\" fill=\"none\"/>\n",
              "    <path d=\"M18.56 5.44l.94 2.06.94-2.06 2.06-.94-2.06-.94-.94-2.06-.94 2.06-2.06.94zm-11 1L8.5 8.5l.94-2.06 2.06-.94-2.06-.94L8.5 2.5l-.94 2.06-2.06.94zm10 10l.94 2.06.94-2.06 2.06-.94-2.06-.94-.94-2.06-.94 2.06-2.06.94z\"/><path d=\"M17.41 7.96l-1.37-1.37c-.4-.4-.92-.59-1.43-.59-.52 0-1.04.2-1.43.59L10.3 9.45l-7.72 7.72c-.78.78-.78 2.05 0 2.83L4 21.41c.39.39.9.59 1.41.59.51 0 1.02-.2 1.41-.59l7.78-7.78 2.81-2.81c.8-.78.8-2.07 0-2.86zM5.41 20L4 18.59l7.72-7.72 1.47 1.35L5.41 20z\"/>\n",
              "  </svg>\n",
              "      </button>\n",
              "      \n",
              "  <style>\n",
              "    .colab-df-container {\n",
              "      display:flex;\n",
              "      flex-wrap:wrap;\n",
              "      gap: 12px;\n",
              "    }\n",
              "\n",
              "    .colab-df-convert {\n",
              "      background-color: #E8F0FE;\n",
              "      border: none;\n",
              "      border-radius: 50%;\n",
              "      cursor: pointer;\n",
              "      display: none;\n",
              "      fill: #1967D2;\n",
              "      height: 32px;\n",
              "      padding: 0 0 0 0;\n",
              "      width: 32px;\n",
              "    }\n",
              "\n",
              "    .colab-df-convert:hover {\n",
              "      background-color: #E2EBFA;\n",
              "      box-shadow: 0px 1px 2px rgba(60, 64, 67, 0.3), 0px 1px 3px 1px rgba(60, 64, 67, 0.15);\n",
              "      fill: #174EA6;\n",
              "    }\n",
              "\n",
              "    [theme=dark] .colab-df-convert {\n",
              "      background-color: #3B4455;\n",
              "      fill: #D2E3FC;\n",
              "    }\n",
              "\n",
              "    [theme=dark] .colab-df-convert:hover {\n",
              "      background-color: #434B5C;\n",
              "      box-shadow: 0px 1px 3px 1px rgba(0, 0, 0, 0.15);\n",
              "      filter: drop-shadow(0px 1px 2px rgba(0, 0, 0, 0.3));\n",
              "      fill: #FFFFFF;\n",
              "    }\n",
              "  </style>\n",
              "\n",
              "      <script>\n",
              "        const buttonEl =\n",
              "          document.querySelector('#df-8dfa9e90-a82e-498d-af27-8dd206710a1b button.colab-df-convert');\n",
              "        buttonEl.style.display =\n",
              "          google.colab.kernel.accessAllowed ? 'block' : 'none';\n",
              "\n",
              "        async function convertToInteractive(key) {\n",
              "          const element = document.querySelector('#df-8dfa9e90-a82e-498d-af27-8dd206710a1b');\n",
              "          const dataTable =\n",
              "            await google.colab.kernel.invokeFunction('convertToInteractive',\n",
              "                                                     [key], {});\n",
              "          if (!dataTable) return;\n",
              "\n",
              "          const docLinkHtml = 'Like what you see? Visit the ' +\n",
              "            '<a target=\"_blank\" href=https://colab.research.google.com/notebooks/data_table.ipynb>data table notebook</a>'\n",
              "            + ' to learn more about interactive tables.';\n",
              "          element.innerHTML = '';\n",
              "          dataTable['output_type'] = 'display_data';\n",
              "          await google.colab.output.renderOutput(dataTable, element);\n",
              "          const docLink = document.createElement('div');\n",
              "          docLink.innerHTML = docLinkHtml;\n",
              "          element.appendChild(docLink);\n",
              "        }\n",
              "      </script>\n",
              "    </div>\n",
              "  </div>\n",
              "  "
            ]
          },
          "metadata": {},
          "execution_count": 36
        }
      ]
    },
    {
      "cell_type": "code",
      "source": [
        "frame.to_csv(\"labels.csv\", sep='\\t', encoding='utf-8')"
      ],
      "metadata": {
        "id": "PpldCOO23DSR"
      },
      "execution_count": null,
      "outputs": []
    },
    {
      "cell_type": "markdown",
      "source": [
        "#1.1"
      ],
      "metadata": {
        "id": "oChv8hhM4GIB"
      }
    },
    {
      "cell_type": "code",
      "source": [
        "## Reading the data and removing columns that are not important. \n",
        "df = pd.read_csv('/content/data/processed/labeled_sample_600.csv', sep = ',', encoding = 'latin-1')\n",
        "df.head(5)"
      ],
      "metadata": {
        "colab": {
          "base_uri": "https://localhost:8080/",
          "height": 206
        },
        "id": "Qc9-uob34_xS",
        "outputId": "31bedddd-24be-4906-9d61-a98548197706"
      },
      "execution_count": null,
      "outputs": [
        {
          "output_type": "execute_result",
          "data": {
            "text/plain": [
              "   Unnamed: 0  Unnamed: 0.1       tweetcreatedts  \\\n",
              "0         0.0      620503.0  2022-03-16 22:16:46   \n",
              "1         1.0      621695.0  2022-03-16 22:50:54   \n",
              "2         2.0      615671.0  2022-03-16 19:58:05   \n",
              "3         3.0      622314.0  2022-03-16 23:06:47   \n",
              "4         4.0      623954.0  2022-03-16 23:51:20   \n",
              "\n",
              "                                                text  value  \n",
              "0  By sending weapons to Ukraine and cheer-leadin...      0  \n",
              "1  Here is the other NFT charity drop I'm a part ...      2  \n",
              "2  The Russian Orthodox Church is alienating Ukra...      0  \n",
              "3  @MSNBC Ã° War in #Ukraine is a Massive Bonanza...      0  \n",
              "4  \"We believe in peaceful and non-violent civil ...      2  "
            ],
            "text/html": [
              "\n",
              "  <div id=\"df-f4f117df-6200-4fe8-83de-47b7618d4561\">\n",
              "    <div class=\"colab-df-container\">\n",
              "      <div>\n",
              "<style scoped>\n",
              "    .dataframe tbody tr th:only-of-type {\n",
              "        vertical-align: middle;\n",
              "    }\n",
              "\n",
              "    .dataframe tbody tr th {\n",
              "        vertical-align: top;\n",
              "    }\n",
              "\n",
              "    .dataframe thead th {\n",
              "        text-align: right;\n",
              "    }\n",
              "</style>\n",
              "<table border=\"1\" class=\"dataframe\">\n",
              "  <thead>\n",
              "    <tr style=\"text-align: right;\">\n",
              "      <th></th>\n",
              "      <th>Unnamed: 0</th>\n",
              "      <th>Unnamed: 0.1</th>\n",
              "      <th>tweetcreatedts</th>\n",
              "      <th>text</th>\n",
              "      <th>value</th>\n",
              "    </tr>\n",
              "  </thead>\n",
              "  <tbody>\n",
              "    <tr>\n",
              "      <th>0</th>\n",
              "      <td>0.0</td>\n",
              "      <td>620503.0</td>\n",
              "      <td>2022-03-16 22:16:46</td>\n",
              "      <td>By sending weapons to Ukraine and cheer-leadin...</td>\n",
              "      <td>0</td>\n",
              "    </tr>\n",
              "    <tr>\n",
              "      <th>1</th>\n",
              "      <td>1.0</td>\n",
              "      <td>621695.0</td>\n",
              "      <td>2022-03-16 22:50:54</td>\n",
              "      <td>Here is the other NFT charity drop I'm a part ...</td>\n",
              "      <td>2</td>\n",
              "    </tr>\n",
              "    <tr>\n",
              "      <th>2</th>\n",
              "      <td>2.0</td>\n",
              "      <td>615671.0</td>\n",
              "      <td>2022-03-16 19:58:05</td>\n",
              "      <td>The Russian Orthodox Church is alienating Ukra...</td>\n",
              "      <td>0</td>\n",
              "    </tr>\n",
              "    <tr>\n",
              "      <th>3</th>\n",
              "      <td>3.0</td>\n",
              "      <td>622314.0</td>\n",
              "      <td>2022-03-16 23:06:47</td>\n",
              "      <td>@MSNBC Ã° War in #Ukraine is a Massive Bonanza...</td>\n",
              "      <td>0</td>\n",
              "    </tr>\n",
              "    <tr>\n",
              "      <th>4</th>\n",
              "      <td>4.0</td>\n",
              "      <td>623954.0</td>\n",
              "      <td>2022-03-16 23:51:20</td>\n",
              "      <td>\"We believe in peaceful and non-violent civil ...</td>\n",
              "      <td>2</td>\n",
              "    </tr>\n",
              "  </tbody>\n",
              "</table>\n",
              "</div>\n",
              "      <button class=\"colab-df-convert\" onclick=\"convertToInteractive('df-f4f117df-6200-4fe8-83de-47b7618d4561')\"\n",
              "              title=\"Convert this dataframe to an interactive table.\"\n",
              "              style=\"display:none;\">\n",
              "        \n",
              "  <svg xmlns=\"http://www.w3.org/2000/svg\" height=\"24px\"viewBox=\"0 0 24 24\"\n",
              "       width=\"24px\">\n",
              "    <path d=\"M0 0h24v24H0V0z\" fill=\"none\"/>\n",
              "    <path d=\"M18.56 5.44l.94 2.06.94-2.06 2.06-.94-2.06-.94-.94-2.06-.94 2.06-2.06.94zm-11 1L8.5 8.5l.94-2.06 2.06-.94-2.06-.94L8.5 2.5l-.94 2.06-2.06.94zm10 10l.94 2.06.94-2.06 2.06-.94-2.06-.94-.94-2.06-.94 2.06-2.06.94z\"/><path d=\"M17.41 7.96l-1.37-1.37c-.4-.4-.92-.59-1.43-.59-.52 0-1.04.2-1.43.59L10.3 9.45l-7.72 7.72c-.78.78-.78 2.05 0 2.83L4 21.41c.39.39.9.59 1.41.59.51 0 1.02-.2 1.41-.59l7.78-7.78 2.81-2.81c.8-.78.8-2.07 0-2.86zM5.41 20L4 18.59l7.72-7.72 1.47 1.35L5.41 20z\"/>\n",
              "  </svg>\n",
              "      </button>\n",
              "      \n",
              "  <style>\n",
              "    .colab-df-container {\n",
              "      display:flex;\n",
              "      flex-wrap:wrap;\n",
              "      gap: 12px;\n",
              "    }\n",
              "\n",
              "    .colab-df-convert {\n",
              "      background-color: #E8F0FE;\n",
              "      border: none;\n",
              "      border-radius: 50%;\n",
              "      cursor: pointer;\n",
              "      display: none;\n",
              "      fill: #1967D2;\n",
              "      height: 32px;\n",
              "      padding: 0 0 0 0;\n",
              "      width: 32px;\n",
              "    }\n",
              "\n",
              "    .colab-df-convert:hover {\n",
              "      background-color: #E2EBFA;\n",
              "      box-shadow: 0px 1px 2px rgba(60, 64, 67, 0.3), 0px 1px 3px 1px rgba(60, 64, 67, 0.15);\n",
              "      fill: #174EA6;\n",
              "    }\n",
              "\n",
              "    [theme=dark] .colab-df-convert {\n",
              "      background-color: #3B4455;\n",
              "      fill: #D2E3FC;\n",
              "    }\n",
              "\n",
              "    [theme=dark] .colab-df-convert:hover {\n",
              "      background-color: #434B5C;\n",
              "      box-shadow: 0px 1px 3px 1px rgba(0, 0, 0, 0.15);\n",
              "      filter: drop-shadow(0px 1px 2px rgba(0, 0, 0, 0.3));\n",
              "      fill: #FFFFFF;\n",
              "    }\n",
              "  </style>\n",
              "\n",
              "      <script>\n",
              "        const buttonEl =\n",
              "          document.querySelector('#df-f4f117df-6200-4fe8-83de-47b7618d4561 button.colab-df-convert');\n",
              "        buttonEl.style.display =\n",
              "          google.colab.kernel.accessAllowed ? 'block' : 'none';\n",
              "\n",
              "        async function convertToInteractive(key) {\n",
              "          const element = document.querySelector('#df-f4f117df-6200-4fe8-83de-47b7618d4561');\n",
              "          const dataTable =\n",
              "            await google.colab.kernel.invokeFunction('convertToInteractive',\n",
              "                                                     [key], {});\n",
              "          if (!dataTable) return;\n",
              "\n",
              "          const docLinkHtml = 'Like what you see? Visit the ' +\n",
              "            '<a target=\"_blank\" href=https://colab.research.google.com/notebooks/data_table.ipynb>data table notebook</a>'\n",
              "            + ' to learn more about interactive tables.';\n",
              "          element.innerHTML = '';\n",
              "          dataTable['output_type'] = 'display_data';\n",
              "          await google.colab.output.renderOutput(dataTable, element);\n",
              "          const docLink = document.createElement('div');\n",
              "          docLink.innerHTML = docLinkHtml;\n",
              "          element.appendChild(docLink);\n",
              "        }\n",
              "      </script>\n",
              "    </div>\n",
              "  </div>\n",
              "  "
            ]
          },
          "metadata": {},
          "execution_count": 37
        }
      ]
    },
    {
      "cell_type": "code",
      "source": [
        "import re\n",
        "from bs4 import BeautifulSoup\n",
        "from html import unescape\n",
        "#Remove URLS\n",
        "def remove_urls(x):\n",
        "    cleaned_string = re.sub(r'(https|http)?:\\/\\/(\\w|\\.|\\/|\\?|\\=|\\&|\\%)*\\b', '', str(x), flags=re.MULTILINE)\n",
        "    return cleaned_string"
      ],
      "metadata": {
        "id": "_6kY2bmN5QTS"
      },
      "execution_count": null,
      "outputs": []
    },
    {
      "cell_type": "code",
      "source": [
        "#Unescape characters\n",
        "def unescape_stuff(x):\n",
        "    soup = BeautifulSoup(unescape(x), 'lxml')\n",
        "    return soup.text"
      ],
      "metadata": {
        "id": "oEs2HksG5VmJ"
      },
      "execution_count": null,
      "outputs": []
    },
    {
      "cell_type": "code",
      "source": [
        "#Remove emojis\n",
        "def deEmojify(x):\n",
        "    regrex_pattern = re.compile(pattern = \"[\"\n",
        "        u\"\\U0001F600-\\U0001F64F\"  # emoticons\n",
        "        u\"\\U0001F300-\\U0001F5FF\"  # symbols & pictographs\n",
        "        u\"\\U0001F680-\\U0001F6FF\"  # transport & map symbols\n",
        "        u\"\\U0001F1E0-\\U0001F1FF\"  # flags (iOS)\n",
        "                           \"]+\", flags = re.UNICODE)\n",
        "    return regrex_pattern.sub(r'', x)"
      ],
      "metadata": {
        "id": "wb1VQap05ZN6"
      },
      "execution_count": null,
      "outputs": []
    },
    {
      "cell_type": "code",
      "source": [
        "#Replace conservative whitespaces\n",
        "def unify_whitespaces(x):\n",
        "    cleaned_string = re.sub(' +', ' ', x)\n",
        "    return cleaned_string "
      ],
      "metadata": {
        "id": "nN72UEk_5cLx"
      },
      "execution_count": null,
      "outputs": []
    },
    {
      "cell_type": "code",
      "source": [
        "#Remove unwanted symbols\n",
        "def remove_symbols(x):\n",
        "    cleaned_string = re.sub(r\"[^a-zA-Z0-9?!.,]+\", ' ', x)\n",
        "    return cleaned_string "
      ],
      "metadata": {
        "id": "YEKydHv55fOx"
      },
      "execution_count": null,
      "outputs": []
    },
    {
      "cell_type": "code",
      "source": [
        "df['text'] = df['text'].str.lower()\n",
        "df['text'] = df['text'].apply(remove_urls)\n",
        "df['text'] = df['text'].apply(unescape_stuff)\n",
        "df['text'] = df['text'].apply(deEmojify)\n",
        "df['text'] = df['text'].apply(remove_symbols)\n",
        "df['text'] = df['text'].apply(unify_whitespaces)"
      ],
      "metadata": {
        "id": "rVOs0aw25igx"
      },
      "execution_count": null,
      "outputs": []
    },
    {
      "cell_type": "code",
      "source": [
        "df['text'].head()"
      ],
      "metadata": {
        "colab": {
          "base_uri": "https://localhost:8080/"
        },
        "id": "MGKFvEz95lah",
        "outputId": "1606f192-463b-41fb-9e16-420ebcd58b0e"
      },
      "execution_count": null,
      "outputs": [
        {
          "output_type": "execute_result",
          "data": {
            "text/plain": [
              "0    by sending weapons to ukraine and cheer leadin...\n",
              "1    here is the other nft charity drop i m a part ...\n",
              "2    the russian orthodox church is alienating ukra...\n",
              "3     msnbc war in ukraine is a massive bonanza for...\n",
              "4     we believe in peaceful and non violent civil ...\n",
              "Name: text, dtype: object"
            ]
          },
          "metadata": {},
          "execution_count": 44
        }
      ]
    },
    {
      "cell_type": "code",
      "source": [
        "!pip install textblob"
      ],
      "metadata": {
        "colab": {
          "base_uri": "https://localhost:8080/"
        },
        "id": "nEkY-sUB5rGp",
        "outputId": "e3ca3755-cf50-4938-8341-37eed5de0359"
      },
      "execution_count": null,
      "outputs": [
        {
          "output_type": "stream",
          "name": "stdout",
          "text": [
            "Looking in indexes: https://pypi.org/simple, https://us-python.pkg.dev/colab-wheels/public/simple/\n",
            "Requirement already satisfied: textblob in /usr/local/lib/python3.7/dist-packages (0.15.3)\n",
            "Requirement already satisfied: nltk>=3.1 in /usr/local/lib/python3.7/dist-packages (from textblob) (3.7)\n",
            "Requirement already satisfied: joblib in /usr/local/lib/python3.7/dist-packages (from nltk>=3.1->textblob) (1.2.0)\n",
            "Requirement already satisfied: tqdm in /usr/local/lib/python3.7/dist-packages (from nltk>=3.1->textblob) (4.64.1)\n",
            "Requirement already satisfied: regex>=2021.8.3 in /usr/local/lib/python3.7/dist-packages (from nltk>=3.1->textblob) (2022.6.2)\n",
            "Requirement already satisfied: click in /usr/local/lib/python3.7/dist-packages (from nltk>=3.1->textblob) (7.1.2)\n"
          ]
        }
      ]
    },
    {
      "cell_type": "code",
      "source": [
        "from textblob import TextBlob"
      ],
      "metadata": {
        "id": "2D8017Yh5wKs"
      },
      "execution_count": null,
      "outputs": []
    },
    {
      "cell_type": "code",
      "source": [
        "#Determine the sentiments using polarity of textblob \n",
        "accuracy = 0\n",
        "correct = 0\n",
        "for i in df.index:\n",
        "    score = 0\n",
        "    data = TextBlob(df['text'][i])\n",
        "    if data.sentiment[0]>0.05:\n",
        "        score = 2\n",
        "    elif data.sentiment[0]<-0.05:\n",
        "        score = 0 \n",
        "    else:\n",
        "        score = 1\n",
        "    print(score,  df['value'][i])\n",
        "    if  score == df['value'][i]:   \n",
        "        correct += 1\n",
        "    else:\n",
        "        pass"
      ],
      "metadata": {
        "colab": {
          "base_uri": "https://localhost:8080/"
        },
        "id": "Hmf4d6jP5zQk",
        "outputId": "3e172b81-1fcf-4ce1-88a6-27be419f6221"
      },
      "execution_count": null,
      "outputs": [
        {
          "output_type": "stream",
          "name": "stdout",
          "text": [
            "1 0\n",
            "0 2\n",
            "1 0\n",
            "1 0\n",
            "0 2\n",
            "1 0\n",
            "1 0\n",
            "1 1\n",
            "1 0\n",
            "1 1\n",
            "1 0\n",
            "2 0\n",
            "0 0\n",
            "1 0\n",
            "2 0\n",
            "0 0\n",
            "1 1\n",
            "2 0\n",
            "2 0\n",
            "1 0\n",
            "1 0\n",
            "2 0\n",
            "1 0\n",
            "2 1\n",
            "1 2\n",
            "2 2\n",
            "2 0\n",
            "1 2\n",
            "1 2\n",
            "2 0\n",
            "2 0\n",
            "2 0\n",
            "2 2\n",
            "1 0\n",
            "1 2\n",
            "1 0\n",
            "0 0\n",
            "0 0\n",
            "1 0\n",
            "2 2\n",
            "2 2\n",
            "2 0\n",
            "1 0\n",
            "2 2\n",
            "0 0\n",
            "1 1\n",
            "2 0\n",
            "1 0\n",
            "2 0\n",
            "2 0\n",
            "2 2\n",
            "0 0\n",
            "2 0\n",
            "2 2\n",
            "1 0\n",
            "2 2\n",
            "1 0\n",
            "2 2\n",
            "2 2\n",
            "1 0\n",
            "0 0\n",
            "2 2\n",
            "0 0\n",
            "0 0\n",
            "2 2\n",
            "2 2\n",
            "2 0\n",
            "1 0\n",
            "2 0\n",
            "2 0\n",
            "0 0\n",
            "0 0\n",
            "2 0\n",
            "0 0\n",
            "1 0\n",
            "2 2\n",
            "1 1\n",
            "2 1\n",
            "2 0\n",
            "0 0\n",
            "0 0\n",
            "1 0\n",
            "0 0\n",
            "1 0\n",
            "2 2\n",
            "1 0\n",
            "2 0\n",
            "0 0\n",
            "1 0\n",
            "2 0\n",
            "1 0\n",
            "1 0\n",
            "2 2\n",
            "1 2\n",
            "0 0\n",
            "2 2\n",
            "1 0\n",
            "0 0\n",
            "2 2\n",
            "0 2\n",
            "0 0\n",
            "1 0\n",
            "1 0\n",
            "1 0\n",
            "0 0\n",
            "2 0\n",
            "0 0\n",
            "2 2\n",
            "1 2\n",
            "1 2\n",
            "1 0\n",
            "1 0\n",
            "1 0\n",
            "1 0\n",
            "2 0\n",
            "0 0\n",
            "2 0\n",
            "0 2\n",
            "2 0\n",
            "1 1\n",
            "2 2\n",
            "2 1\n",
            "2 0\n",
            "1 1\n",
            "2 0\n",
            "0 0\n",
            "0 0\n",
            "2 0\n",
            "2 2\n",
            "1 2\n",
            "1 2\n",
            "0 0\n",
            "2 0\n",
            "1 1\n",
            "1 2\n",
            "0 1\n",
            "2 2\n",
            "1 2\n",
            "0 0\n",
            "1 2\n",
            "2 0\n",
            "2 2\n",
            "1 2\n",
            "2 2\n",
            "2 0\n",
            "1 2\n",
            "0 0\n",
            "0 0\n",
            "0 0\n",
            "2 1\n",
            "0 0\n",
            "2 2\n",
            "2 2\n",
            "2 2\n",
            "2 2\n",
            "0 0\n",
            "2 0\n",
            "2 0\n",
            "1 2\n",
            "2 2\n",
            "2 0\n",
            "2 0\n",
            "2 0\n",
            "1 0\n",
            "2 0\n",
            "2 0\n",
            "1 0\n",
            "1 0\n",
            "2 2\n",
            "2 0\n",
            "2 2\n",
            "0 2\n",
            "1 2\n",
            "2 2\n",
            "0 1\n",
            "1 0\n",
            "2 0\n",
            "1 2\n",
            "1 0\n",
            "0 1\n",
            "1 0\n",
            "1 0\n",
            "2 2\n",
            "2 0\n",
            "2 0\n",
            "1 1\n",
            "1 1\n",
            "2 0\n",
            "1 0\n",
            "2 0\n",
            "2 0\n",
            "1 2\n",
            "1 2\n",
            "1 2\n",
            "2 0\n",
            "1 0\n",
            "0 0\n",
            "2 0\n",
            "1 0\n",
            "1 2\n",
            "0 1\n",
            "1 1\n",
            "1 0\n",
            "2 0\n",
            "2 0\n",
            "2 1\n",
            "2 0\n",
            "0 1\n",
            "0 0\n",
            "1 1\n",
            "1 1\n",
            "2 0\n",
            "2 1\n",
            "1 2\n",
            "2 2\n",
            "2 2\n",
            "2 1\n",
            "1 1\n",
            "1 1\n",
            "1 1\n",
            "1 0\n",
            "2 2\n",
            "2 0\n",
            "2 0\n",
            "2 1\n",
            "1 1\n",
            "2 1\n",
            "0 0\n",
            "2 1\n",
            "1 0\n",
            "2 0\n",
            "1 0\n",
            "0 0\n",
            "1 2\n",
            "2 0\n",
            "1 1\n",
            "2 0\n",
            "1 1\n",
            "0 1\n",
            "2 1\n",
            "1 2\n",
            "2 1\n",
            "1 0\n",
            "1 1\n",
            "1 2\n",
            "1 2\n",
            "1 1\n",
            "0 1\n",
            "0 2\n",
            "1 1\n",
            "0 1\n",
            "1 1\n",
            "2 2\n",
            "2 2\n",
            "2 1\n",
            "0 0\n",
            "1 1\n",
            "0 0\n",
            "1 1\n",
            "2 1\n",
            "1 0\n",
            "1 1\n",
            "0 0\n",
            "2 1\n",
            "1 1\n",
            "1 1\n",
            "0 1\n",
            "1 1\n",
            "0 1\n",
            "1 1\n",
            "1 0\n",
            "0 1\n",
            "1 1\n",
            "0 0\n",
            "1 1\n",
            "1 0\n",
            "1 1\n",
            "1 1\n",
            "1 1\n",
            "1 1\n",
            "2 2\n",
            "1 1\n",
            "1 1\n",
            "0 0\n",
            "1 1\n",
            "1 1\n",
            "1 2\n",
            "0 1\n",
            "1 2\n",
            "0 1\n",
            "1 1\n",
            "0 1\n",
            "1 1\n",
            "1 2\n",
            "1 1\n",
            "2 2\n",
            "1 0\n",
            "0 0\n",
            "0 1\n",
            "1 1\n",
            "1 0\n",
            "2 2\n",
            "1 1\n",
            "2 1\n",
            "2 2\n",
            "1 1\n",
            "0 1\n",
            "1 1\n",
            "2 1\n",
            "2 1\n",
            "0 1\n",
            "1 0\n",
            "1 1\n",
            "1 0\n",
            "1 1\n",
            "1 1\n",
            "1 1\n",
            "1 0\n",
            "0 0\n",
            "1 0\n",
            "2 1\n",
            "1 0\n",
            "1 0\n",
            "2 0\n",
            "2 1\n",
            "2 1\n",
            "1 1\n",
            "2 0\n",
            "1 1\n",
            "1 2\n",
            "2 1\n",
            "1 0\n",
            "1 0\n",
            "2 0\n",
            "1 1\n",
            "1 1\n",
            "2 1\n",
            "2 1\n",
            "1 1\n",
            "1 1\n",
            "2 0\n",
            "2 0\n",
            "1 1\n",
            "2 1\n",
            "0 2\n",
            "1 2\n",
            "2 1\n",
            "1 1\n",
            "1 0\n",
            "1 2\n",
            "2 0\n",
            "1 1\n",
            "1 1\n",
            "2 2\n",
            "0 1\n",
            "1 0\n",
            "0 0\n",
            "2 1\n",
            "1 0\n",
            "0 0\n",
            "2 1\n",
            "2 1\n",
            "0 1\n",
            "1 1\n",
            "1 1\n",
            "0 0\n",
            "2 1\n",
            "2 0\n",
            "0 0\n",
            "2 0\n",
            "1 1\n",
            "1 1\n",
            "1 1\n",
            "2 1\n",
            "2 2\n",
            "2 2\n",
            "1 1\n",
            "2 2\n",
            "1 1\n",
            "1 0\n",
            "1 1\n",
            "2 2\n",
            "0 0\n",
            "0 0\n",
            "2 1\n",
            "0 0\n",
            "2 1\n",
            "1 1\n",
            "1 2\n",
            "0 0\n",
            "2 1\n",
            "1 0\n",
            "2 0\n",
            "2 1\n",
            "1 1\n",
            "2 1\n",
            "2 1\n",
            "2 1\n",
            "2 0\n",
            "1 1\n",
            "1 1\n",
            "2 2\n",
            "1 2\n",
            "2 0\n",
            "0 0\n",
            "2 0\n",
            "2 2\n",
            "1 0\n",
            "1 0\n",
            "0 0\n",
            "2 2\n",
            "1 0\n",
            "2 2\n",
            "1 2\n",
            "1 0\n",
            "2 1\n",
            "1 1\n",
            "1 0\n",
            "1 1\n",
            "1 0\n",
            "0 0\n",
            "0 0\n",
            "1 0\n",
            "0 0\n",
            "2 0\n",
            "1 1\n",
            "1 1\n",
            "0 0\n",
            "1 0\n",
            "1 1\n",
            "2 1\n",
            "1 2\n",
            "1 2\n",
            "1 1\n",
            "1 0\n",
            "1 1\n",
            "1 0\n",
            "1 1\n",
            "1 0\n",
            "1 1\n",
            "1 1\n",
            "2 0\n",
            "1 0\n",
            "1 0\n",
            "2 0\n",
            "1 1\n",
            "1 0\n",
            "2 1\n",
            "2 2\n",
            "2 2\n",
            "0 2\n",
            "1 0\n",
            "0 0\n",
            "1 0\n",
            "0 0\n",
            "2 2\n",
            "2 2\n",
            "0 0\n",
            "1 2\n",
            "1 0\n",
            "2 1\n",
            "0 0\n",
            "2 0\n",
            "1 2\n",
            "0 0\n",
            "1 2\n",
            "1 2\n",
            "1 2\n",
            "0 0\n",
            "2 2\n",
            "1 0\n",
            "0 0\n",
            "0 2\n",
            "2 2\n",
            "0 0\n",
            "0 0\n",
            "1 0\n",
            "2 0\n",
            "0 0\n",
            "2 2\n",
            "2 1\n",
            "1 0\n",
            "1 0\n",
            "0 0\n",
            "1 0\n",
            "1 0\n",
            "1 2\n",
            "1 2\n",
            "2 2\n",
            "1 2\n",
            "2 0\n",
            "2 2\n",
            "1 0\n",
            "2 2\n",
            "2 2\n",
            "0 1\n",
            "1 1\n",
            "1 2\n",
            "2 2\n",
            "2 0\n",
            "2 1\n",
            "2 2\n",
            "0 0\n",
            "1 0\n",
            "2 2\n",
            "2 0\n",
            "2 2\n",
            "1 2\n",
            "2 2\n",
            "1 0\n",
            "1 1\n",
            "1 0\n",
            "2 1\n",
            "1 0\n",
            "1 0\n",
            "2 2\n",
            "0 0\n",
            "1 0\n",
            "0 0\n",
            "2 2\n",
            "1 2\n",
            "1 2\n",
            "1 2\n",
            "2 2\n",
            "0 0\n",
            "2 2\n",
            "1 0\n",
            "2 0\n",
            "2 2\n",
            "1 2\n",
            "2 2\n",
            "2 2\n",
            "1 0\n",
            "1 0\n",
            "1 0\n",
            "0 0\n",
            "1 0\n",
            "1 2\n",
            "2 2\n",
            "2 2\n",
            "2 2\n",
            "2 2\n",
            "2 2\n",
            "0 0\n",
            "0 2\n",
            "1 2\n",
            "1 2\n",
            "1 0\n",
            "2 2\n",
            "1 2\n",
            "1 2\n",
            "1 2\n",
            "0 1\n",
            "2 2\n",
            "1 2\n",
            "1 0\n",
            "1 1\n",
            "2 2\n",
            "2 2\n",
            "0 0\n",
            "1 0\n",
            "2 2\n",
            "0 0\n",
            "1 2\n",
            "1 0\n",
            "1 1\n",
            "2 0\n",
            "1 0\n",
            "0 0\n",
            "1 0\n",
            "2 2\n",
            "0 0\n",
            "1 2\n",
            "0 0\n",
            "1 0\n",
            "1 0\n",
            "1 2\n",
            "1 0\n",
            "2 0\n",
            "2 2\n",
            "1 0\n",
            "2 2\n",
            "1 0\n",
            "2 2\n",
            "0 0\n",
            "0 0\n",
            "2 0\n",
            "2 0\n",
            "1 0\n",
            "2 2\n",
            "1 2\n",
            "1 2\n",
            "1 1\n",
            "1 2\n",
            "2 2\n",
            "2 0\n",
            "1 0\n",
            "1 0\n",
            "1 2\n",
            "1 0\n"
          ]
        }
      ]
    },
    {
      "cell_type": "code",
      "source": [
        "accuracy = correct / len(df)\n",
        "print(accuracy)"
      ],
      "metadata": {
        "colab": {
          "base_uri": "https://localhost:8080/"
        },
        "id": "MuN-H2mb56si",
        "outputId": "04c30e6f-d56f-425b-e8bb-7cb2650c515d"
      },
      "execution_count": null,
      "outputs": [
        {
          "output_type": "stream",
          "name": "stdout",
          "text": [
            "0.43166666666666664\n"
          ]
        }
      ]
    },
    {
      "cell_type": "markdown",
      "source": [
        "#1.2"
      ],
      "metadata": {
        "id": "-PUMJTUk6AlE"
      }
    },
    {
      "cell_type": "code",
      "source": [],
      "metadata": {
        "id": "1SXzS34Z6FYK"
      },
      "execution_count": null,
      "outputs": []
    },
    {
      "cell_type": "markdown",
      "source": [
        "#Dataset Preprocessing"
      ],
      "metadata": {
        "id": "Jeoen7gw911C"
      }
    },
    {
      "cell_type": "code",
      "source": [
        "import numpy as np\n",
        "import pandas as pd\n",
        "import matplotlib.pyplot as plt\n",
        "import seaborn as sns\n",
        "\n",
        "import re\n",
        "import nltk"
      ],
      "metadata": {
        "id": "AKkr0sKa98CH"
      },
      "execution_count": null,
      "outputs": []
    },
    {
      "cell_type": "code",
      "source": [
        "df = pd.read_csv(r'twitter.csv')\n",
        "df"
      ],
      "metadata": {
        "colab": {
          "base_uri": "https://localhost:8080/",
          "height": 1000
        },
        "id": "Yi0S-lgT-PnY",
        "outputId": "f28339cc-b490-4ca3-c361-85f2edd11c9c"
      },
      "execution_count": null,
      "outputs": [
        {
          "output_type": "stream",
          "name": "stderr",
          "text": [
            "/usr/local/lib/python3.7/dist-packages/IPython/core/interactiveshell.py:3326: DtypeWarning: Columns (15) have mixed types.Specify dtype option on import or set low_memory=False.\n",
            "  exec(code_obj, self.user_global_ns, self.user_ns)\n"
          ]
        },
        {
          "output_type": "execute_result",
          "data": {
            "text/plain": [
              "        Unnamed: 0               userid         username  \\\n",
              "0                0             16882774          Yaniela   \n",
              "1                1           3205296069         gregffff   \n",
              "2                2  1235940869812809728  ThanapornThon17   \n",
              "3                3  1347985375566966784   I_Protest_2021   \n",
              "4                4  1505394816636846083     Marsh_Win_01   \n",
              "...            ...                  ...              ...   \n",
              "364870      364870            377139026        Angelocsn   \n",
              "364871      364871  1054170412194553857      TribalHawk1   \n",
              "364872      364872             40997579          ljall00   \n",
              "364873      364873            376000049    SaverioVivas2   \n",
              "364874      364874  1154637880972783617    Mrbro45450972   \n",
              "\n",
              "                                                 acctdesc  \\\n",
              "0       Animal lover, supports those who fight injusti...   \n",
              "1                                                     NaN   \n",
              "2                                 เล่นไวโอลิน\\nพูดภาษาจีน   \n",
              "3       01000001 01101110 01101111 01101110 01111001 0...   \n",
              "4       🌿@Pickaw @TWITTERPICKER 🌿Winning isn’t everyth...   \n",
              "...                                                   ...   \n",
              "364870  conseiller en droit du travail, aime la musiqu...   \n",
              "364871                                                NaN   \n",
              "364872  Democrat. This is a country of laws for everyo...   \n",
              "364873  Corresponsal de PDC (@Punto_DeCorte) en Colomb...   \n",
              "364874                                           🌊🌊🌊🌊🌊🌊🌊🌊   \n",
              "\n",
              "                      location  following  followers  totaltweets  \\\n",
              "0                       Hawaii       1158        392        88366   \n",
              "1                          NaN        122        881        99853   \n",
              "2                          NaN        231         72         5481   \n",
              "3       International Web Zone        399        377          301   \n",
              "4               Hunter Account        158         25         8982   \n",
              "...                        ...        ...        ...          ...   \n",
              "364870      rive sud, Montréal       2594       2309        40959   \n",
              "364871        East Los Angeles        207         29         9045   \n",
              "364872          Scottsdale, AZ       5336       4898       162426   \n",
              "364873                Colombia       8218       8789        37666   \n",
              "364874                     NaN       1205        119         7289   \n",
              "\n",
              "                     usercreatedts              tweetid  \\\n",
              "0       2008-10-21 07:34:04.000000  1509681950042198030   \n",
              "1       2015-04-25 11:24:34.000000  1509681950151348229   \n",
              "2       2020-03-06 14:52:01.000000  1509681950683926556   \n",
              "3       2021-01-09 19:15:44.000000  1509681951116046336   \n",
              "4       2022-03-20 04:04:40.000000  1509681951304990720   \n",
              "...                            ...                  ...   \n",
              "364870  2011-09-21 02:40:07.000000  1510044327510265863   \n",
              "364871  2018-10-22 00:39:46.000000  1510044329993138176   \n",
              "364872  2009-05-18 23:21:35.000000  1510044330085347328   \n",
              "364873  2011-09-19 03:47:15.000000  1510044333533184005   \n",
              "364874  2019-07-26 06:21:37.000000  1510044335013720065   \n",
              "\n",
              "                    tweetcreatedts  retweetcount  \\\n",
              "0       2022-04-01 00:00:00.000000          3412   \n",
              "1       2022-04-01 00:00:00.000000           100   \n",
              "2       2022-04-01 00:00:00.000000             9   \n",
              "3       2022-04-01 00:00:00.000000           573   \n",
              "4       2022-04-01 00:00:00.000000           190   \n",
              "...                            ...           ...   \n",
              "364870  2022-04-01 23:59:57.000000             0   \n",
              "364871  2022-04-01 23:59:58.000000             0   \n",
              "364872  2022-04-01 23:59:58.000000          2264   \n",
              "364873  2022-04-01 23:59:59.000000             0   \n",
              "364874  2022-04-01 23:59:59.000000             0   \n",
              "\n",
              "                                                     text  \\\n",
              "0       ⚡The Ukrainian Air Force would like to address...   \n",
              "1       Chernihiv oblast. Ukrainians welcome their lib...   \n",
              "2       America 🇺🇸 is preparing for something worse th...   \n",
              "3       JUST IN: #Anonymous has hacked &amp; released ...   \n",
              "4       ***PUBLIC MINT NOW LIVE***\\n\\nFor \\n@billionai...   \n",
              "...                                                   ...   \n",
              "364870  @montreal110 @femeninna je trouve plutôt terri...   \n",
              "364871  “From where Winston stood it was just possible...   \n",
              "364872  When I said tonight in front of 3000 people In...   \n",
              "364873  #1Abr #Ucrania \\nVídeo de los helicópteros ucr...   \n",
              "364874  We’re back. No funny stuff #UKRAINE https://t....   \n",
              "\n",
              "                                                 hashtags language  \\\n",
              "0                                                      []       en   \n",
              "1       [{'text': 'russianinvasion', 'indices': [77, 9...       en   \n",
              "2       [{'text': 'RussianUkrainianWar', 'indices': [7...       en   \n",
              "3            [{'text': 'Anonymous', 'indices': [25, 35]}]       en   \n",
              "4                                                      []       en   \n",
              "...                                                   ...      ...   \n",
              "364870  [{'text': 'impuissance', 'indices': [81, 93]},...       fr   \n",
              "364871       [{'text': 'Ukraine', 'indices': [218, 226]}]       en   \n",
              "364872                                                 []       en   \n",
              "364873  [{'text': '1Abr', 'indices': [0, 5]}, {'text':...       es   \n",
              "364874         [{'text': 'UKRAINE', 'indices': [27, 35]}]       en   \n",
              "\n",
              "       coordinates  favorite_count                 extractedts  \n",
              "0              NaN               0  2022-04-01 00:44:20.097867  \n",
              "1              NaN               0  2022-04-01 00:09:37.148770  \n",
              "2              NaN               0  2022-04-01 00:09:37.125654  \n",
              "3              NaN               0  2022-04-01 00:31:39.674382  \n",
              "4              NaN               0  2022-04-01 00:09:37.101459  \n",
              "...            ...             ...                         ...  \n",
              "364870         NaN               0  2022-04-02 00:13:16.247799  \n",
              "364871         NaN               0  2022-04-02 00:13:16.239719  \n",
              "364872         NaN               0  2022-04-02 00:46:46.527353  \n",
              "364873         NaN               0  2022-04-02 00:04:42.165753  \n",
              "364874         NaN               0  2022-04-02 00:13:16.231682  \n",
              "\n",
              "[364875 rows x 18 columns]"
            ],
            "text/html": [
              "\n",
              "  <div id=\"df-d3382edf-bb52-4290-8861-d12d21d805eb\">\n",
              "    <div class=\"colab-df-container\">\n",
              "      <div>\n",
              "<style scoped>\n",
              "    .dataframe tbody tr th:only-of-type {\n",
              "        vertical-align: middle;\n",
              "    }\n",
              "\n",
              "    .dataframe tbody tr th {\n",
              "        vertical-align: top;\n",
              "    }\n",
              "\n",
              "    .dataframe thead th {\n",
              "        text-align: right;\n",
              "    }\n",
              "</style>\n",
              "<table border=\"1\" class=\"dataframe\">\n",
              "  <thead>\n",
              "    <tr style=\"text-align: right;\">\n",
              "      <th></th>\n",
              "      <th>Unnamed: 0</th>\n",
              "      <th>userid</th>\n",
              "      <th>username</th>\n",
              "      <th>acctdesc</th>\n",
              "      <th>location</th>\n",
              "      <th>following</th>\n",
              "      <th>followers</th>\n",
              "      <th>totaltweets</th>\n",
              "      <th>usercreatedts</th>\n",
              "      <th>tweetid</th>\n",
              "      <th>tweetcreatedts</th>\n",
              "      <th>retweetcount</th>\n",
              "      <th>text</th>\n",
              "      <th>hashtags</th>\n",
              "      <th>language</th>\n",
              "      <th>coordinates</th>\n",
              "      <th>favorite_count</th>\n",
              "      <th>extractedts</th>\n",
              "    </tr>\n",
              "  </thead>\n",
              "  <tbody>\n",
              "    <tr>\n",
              "      <th>0</th>\n",
              "      <td>0</td>\n",
              "      <td>16882774</td>\n",
              "      <td>Yaniela</td>\n",
              "      <td>Animal lover, supports those who fight injusti...</td>\n",
              "      <td>Hawaii</td>\n",
              "      <td>1158</td>\n",
              "      <td>392</td>\n",
              "      <td>88366</td>\n",
              "      <td>2008-10-21 07:34:04.000000</td>\n",
              "      <td>1509681950042198030</td>\n",
              "      <td>2022-04-01 00:00:00.000000</td>\n",
              "      <td>3412</td>\n",
              "      <td>⚡The Ukrainian Air Force would like to address...</td>\n",
              "      <td>[]</td>\n",
              "      <td>en</td>\n",
              "      <td>NaN</td>\n",
              "      <td>0</td>\n",
              "      <td>2022-04-01 00:44:20.097867</td>\n",
              "    </tr>\n",
              "    <tr>\n",
              "      <th>1</th>\n",
              "      <td>1</td>\n",
              "      <td>3205296069</td>\n",
              "      <td>gregffff</td>\n",
              "      <td>NaN</td>\n",
              "      <td>NaN</td>\n",
              "      <td>122</td>\n",
              "      <td>881</td>\n",
              "      <td>99853</td>\n",
              "      <td>2015-04-25 11:24:34.000000</td>\n",
              "      <td>1509681950151348229</td>\n",
              "      <td>2022-04-01 00:00:00.000000</td>\n",
              "      <td>100</td>\n",
              "      <td>Chernihiv oblast. Ukrainians welcome their lib...</td>\n",
              "      <td>[{'text': 'russianinvasion', 'indices': [77, 9...</td>\n",
              "      <td>en</td>\n",
              "      <td>NaN</td>\n",
              "      <td>0</td>\n",
              "      <td>2022-04-01 00:09:37.148770</td>\n",
              "    </tr>\n",
              "    <tr>\n",
              "      <th>2</th>\n",
              "      <td>2</td>\n",
              "      <td>1235940869812809728</td>\n",
              "      <td>ThanapornThon17</td>\n",
              "      <td>เล่นไวโอลิน\\nพูดภาษาจีน</td>\n",
              "      <td>NaN</td>\n",
              "      <td>231</td>\n",
              "      <td>72</td>\n",
              "      <td>5481</td>\n",
              "      <td>2020-03-06 14:52:01.000000</td>\n",
              "      <td>1509681950683926556</td>\n",
              "      <td>2022-04-01 00:00:00.000000</td>\n",
              "      <td>9</td>\n",
              "      <td>America 🇺🇸 is preparing for something worse th...</td>\n",
              "      <td>[{'text': 'RussianUkrainianWar', 'indices': [7...</td>\n",
              "      <td>en</td>\n",
              "      <td>NaN</td>\n",
              "      <td>0</td>\n",
              "      <td>2022-04-01 00:09:37.125654</td>\n",
              "    </tr>\n",
              "    <tr>\n",
              "      <th>3</th>\n",
              "      <td>3</td>\n",
              "      <td>1347985375566966784</td>\n",
              "      <td>I_Protest_2021</td>\n",
              "      <td>01000001 01101110 01101111 01101110 01111001 0...</td>\n",
              "      <td>International Web Zone</td>\n",
              "      <td>399</td>\n",
              "      <td>377</td>\n",
              "      <td>301</td>\n",
              "      <td>2021-01-09 19:15:44.000000</td>\n",
              "      <td>1509681951116046336</td>\n",
              "      <td>2022-04-01 00:00:00.000000</td>\n",
              "      <td>573</td>\n",
              "      <td>JUST IN: #Anonymous has hacked &amp;amp; released ...</td>\n",
              "      <td>[{'text': 'Anonymous', 'indices': [25, 35]}]</td>\n",
              "      <td>en</td>\n",
              "      <td>NaN</td>\n",
              "      <td>0</td>\n",
              "      <td>2022-04-01 00:31:39.674382</td>\n",
              "    </tr>\n",
              "    <tr>\n",
              "      <th>4</th>\n",
              "      <td>4</td>\n",
              "      <td>1505394816636846083</td>\n",
              "      <td>Marsh_Win_01</td>\n",
              "      <td>🌿@Pickaw @TWITTERPICKER 🌿Winning isn’t everyth...</td>\n",
              "      <td>Hunter Account</td>\n",
              "      <td>158</td>\n",
              "      <td>25</td>\n",
              "      <td>8982</td>\n",
              "      <td>2022-03-20 04:04:40.000000</td>\n",
              "      <td>1509681951304990720</td>\n",
              "      <td>2022-04-01 00:00:00.000000</td>\n",
              "      <td>190</td>\n",
              "      <td>***PUBLIC MINT NOW LIVE***\\n\\nFor \\n@billionai...</td>\n",
              "      <td>[]</td>\n",
              "      <td>en</td>\n",
              "      <td>NaN</td>\n",
              "      <td>0</td>\n",
              "      <td>2022-04-01 00:09:37.101459</td>\n",
              "    </tr>\n",
              "    <tr>\n",
              "      <th>...</th>\n",
              "      <td>...</td>\n",
              "      <td>...</td>\n",
              "      <td>...</td>\n",
              "      <td>...</td>\n",
              "      <td>...</td>\n",
              "      <td>...</td>\n",
              "      <td>...</td>\n",
              "      <td>...</td>\n",
              "      <td>...</td>\n",
              "      <td>...</td>\n",
              "      <td>...</td>\n",
              "      <td>...</td>\n",
              "      <td>...</td>\n",
              "      <td>...</td>\n",
              "      <td>...</td>\n",
              "      <td>...</td>\n",
              "      <td>...</td>\n",
              "      <td>...</td>\n",
              "    </tr>\n",
              "    <tr>\n",
              "      <th>364870</th>\n",
              "      <td>364870</td>\n",
              "      <td>377139026</td>\n",
              "      <td>Angelocsn</td>\n",
              "      <td>conseiller en droit du travail, aime la musiqu...</td>\n",
              "      <td>rive sud, Montréal</td>\n",
              "      <td>2594</td>\n",
              "      <td>2309</td>\n",
              "      <td>40959</td>\n",
              "      <td>2011-09-21 02:40:07.000000</td>\n",
              "      <td>1510044327510265863</td>\n",
              "      <td>2022-04-01 23:59:57.000000</td>\n",
              "      <td>0</td>\n",
              "      <td>@montreal110 @femeninna je trouve plutôt terri...</td>\n",
              "      <td>[{'text': 'impuissance', 'indices': [81, 93]},...</td>\n",
              "      <td>fr</td>\n",
              "      <td>NaN</td>\n",
              "      <td>0</td>\n",
              "      <td>2022-04-02 00:13:16.247799</td>\n",
              "    </tr>\n",
              "    <tr>\n",
              "      <th>364871</th>\n",
              "      <td>364871</td>\n",
              "      <td>1054170412194553857</td>\n",
              "      <td>TribalHawk1</td>\n",
              "      <td>NaN</td>\n",
              "      <td>East Los Angeles</td>\n",
              "      <td>207</td>\n",
              "      <td>29</td>\n",
              "      <td>9045</td>\n",
              "      <td>2018-10-22 00:39:46.000000</td>\n",
              "      <td>1510044329993138176</td>\n",
              "      <td>2022-04-01 23:59:58.000000</td>\n",
              "      <td>0</td>\n",
              "      <td>“From where Winston stood it was just possible...</td>\n",
              "      <td>[{'text': 'Ukraine', 'indices': [218, 226]}]</td>\n",
              "      <td>en</td>\n",
              "      <td>NaN</td>\n",
              "      <td>0</td>\n",
              "      <td>2022-04-02 00:13:16.239719</td>\n",
              "    </tr>\n",
              "    <tr>\n",
              "      <th>364872</th>\n",
              "      <td>364872</td>\n",
              "      <td>40997579</td>\n",
              "      <td>ljall00</td>\n",
              "      <td>Democrat. This is a country of laws for everyo...</td>\n",
              "      <td>Scottsdale, AZ</td>\n",
              "      <td>5336</td>\n",
              "      <td>4898</td>\n",
              "      <td>162426</td>\n",
              "      <td>2009-05-18 23:21:35.000000</td>\n",
              "      <td>1510044330085347328</td>\n",
              "      <td>2022-04-01 23:59:58.000000</td>\n",
              "      <td>2264</td>\n",
              "      <td>When I said tonight in front of 3000 people In...</td>\n",
              "      <td>[]</td>\n",
              "      <td>en</td>\n",
              "      <td>NaN</td>\n",
              "      <td>0</td>\n",
              "      <td>2022-04-02 00:46:46.527353</td>\n",
              "    </tr>\n",
              "    <tr>\n",
              "      <th>364873</th>\n",
              "      <td>364873</td>\n",
              "      <td>376000049</td>\n",
              "      <td>SaverioVivas2</td>\n",
              "      <td>Corresponsal de PDC (@Punto_DeCorte) en Colomb...</td>\n",
              "      <td>Colombia</td>\n",
              "      <td>8218</td>\n",
              "      <td>8789</td>\n",
              "      <td>37666</td>\n",
              "      <td>2011-09-19 03:47:15.000000</td>\n",
              "      <td>1510044333533184005</td>\n",
              "      <td>2022-04-01 23:59:59.000000</td>\n",
              "      <td>0</td>\n",
              "      <td>#1Abr #Ucrania \\nVídeo de los helicópteros ucr...</td>\n",
              "      <td>[{'text': '1Abr', 'indices': [0, 5]}, {'text':...</td>\n",
              "      <td>es</td>\n",
              "      <td>NaN</td>\n",
              "      <td>0</td>\n",
              "      <td>2022-04-02 00:04:42.165753</td>\n",
              "    </tr>\n",
              "    <tr>\n",
              "      <th>364874</th>\n",
              "      <td>364874</td>\n",
              "      <td>1154637880972783617</td>\n",
              "      <td>Mrbro45450972</td>\n",
              "      <td>🌊🌊🌊🌊🌊🌊🌊🌊</td>\n",
              "      <td>NaN</td>\n",
              "      <td>1205</td>\n",
              "      <td>119</td>\n",
              "      <td>7289</td>\n",
              "      <td>2019-07-26 06:21:37.000000</td>\n",
              "      <td>1510044335013720065</td>\n",
              "      <td>2022-04-01 23:59:59.000000</td>\n",
              "      <td>0</td>\n",
              "      <td>We’re back. No funny stuff #UKRAINE https://t....</td>\n",
              "      <td>[{'text': 'UKRAINE', 'indices': [27, 35]}]</td>\n",
              "      <td>en</td>\n",
              "      <td>NaN</td>\n",
              "      <td>0</td>\n",
              "      <td>2022-04-02 00:13:16.231682</td>\n",
              "    </tr>\n",
              "  </tbody>\n",
              "</table>\n",
              "<p>364875 rows × 18 columns</p>\n",
              "</div>\n",
              "      <button class=\"colab-df-convert\" onclick=\"convertToInteractive('df-d3382edf-bb52-4290-8861-d12d21d805eb')\"\n",
              "              title=\"Convert this dataframe to an interactive table.\"\n",
              "              style=\"display:none;\">\n",
              "        \n",
              "  <svg xmlns=\"http://www.w3.org/2000/svg\" height=\"24px\"viewBox=\"0 0 24 24\"\n",
              "       width=\"24px\">\n",
              "    <path d=\"M0 0h24v24H0V0z\" fill=\"none\"/>\n",
              "    <path d=\"M18.56 5.44l.94 2.06.94-2.06 2.06-.94-2.06-.94-.94-2.06-.94 2.06-2.06.94zm-11 1L8.5 8.5l.94-2.06 2.06-.94-2.06-.94L8.5 2.5l-.94 2.06-2.06.94zm10 10l.94 2.06.94-2.06 2.06-.94-2.06-.94-.94-2.06-.94 2.06-2.06.94z\"/><path d=\"M17.41 7.96l-1.37-1.37c-.4-.4-.92-.59-1.43-.59-.52 0-1.04.2-1.43.59L10.3 9.45l-7.72 7.72c-.78.78-.78 2.05 0 2.83L4 21.41c.39.39.9.59 1.41.59.51 0 1.02-.2 1.41-.59l7.78-7.78 2.81-2.81c.8-.78.8-2.07 0-2.86zM5.41 20L4 18.59l7.72-7.72 1.47 1.35L5.41 20z\"/>\n",
              "  </svg>\n",
              "      </button>\n",
              "      \n",
              "  <style>\n",
              "    .colab-df-container {\n",
              "      display:flex;\n",
              "      flex-wrap:wrap;\n",
              "      gap: 12px;\n",
              "    }\n",
              "\n",
              "    .colab-df-convert {\n",
              "      background-color: #E8F0FE;\n",
              "      border: none;\n",
              "      border-radius: 50%;\n",
              "      cursor: pointer;\n",
              "      display: none;\n",
              "      fill: #1967D2;\n",
              "      height: 32px;\n",
              "      padding: 0 0 0 0;\n",
              "      width: 32px;\n",
              "    }\n",
              "\n",
              "    .colab-df-convert:hover {\n",
              "      background-color: #E2EBFA;\n",
              "      box-shadow: 0px 1px 2px rgba(60, 64, 67, 0.3), 0px 1px 3px 1px rgba(60, 64, 67, 0.15);\n",
              "      fill: #174EA6;\n",
              "    }\n",
              "\n",
              "    [theme=dark] .colab-df-convert {\n",
              "      background-color: #3B4455;\n",
              "      fill: #D2E3FC;\n",
              "    }\n",
              "\n",
              "    [theme=dark] .colab-df-convert:hover {\n",
              "      background-color: #434B5C;\n",
              "      box-shadow: 0px 1px 3px 1px rgba(0, 0, 0, 0.15);\n",
              "      filter: drop-shadow(0px 1px 2px rgba(0, 0, 0, 0.3));\n",
              "      fill: #FFFFFF;\n",
              "    }\n",
              "  </style>\n",
              "\n",
              "      <script>\n",
              "        const buttonEl =\n",
              "          document.querySelector('#df-d3382edf-bb52-4290-8861-d12d21d805eb button.colab-df-convert');\n",
              "        buttonEl.style.display =\n",
              "          google.colab.kernel.accessAllowed ? 'block' : 'none';\n",
              "\n",
              "        async function convertToInteractive(key) {\n",
              "          const element = document.querySelector('#df-d3382edf-bb52-4290-8861-d12d21d805eb');\n",
              "          const dataTable =\n",
              "            await google.colab.kernel.invokeFunction('convertToInteractive',\n",
              "                                                     [key], {});\n",
              "          if (!dataTable) return;\n",
              "\n",
              "          const docLinkHtml = 'Like what you see? Visit the ' +\n",
              "            '<a target=\"_blank\" href=https://colab.research.google.com/notebooks/data_table.ipynb>data table notebook</a>'\n",
              "            + ' to learn more about interactive tables.';\n",
              "          element.innerHTML = '';\n",
              "          dataTable['output_type'] = 'display_data';\n",
              "          await google.colab.output.renderOutput(dataTable, element);\n",
              "          const docLink = document.createElement('div');\n",
              "          docLink.innerHTML = docLinkHtml;\n",
              "          element.appendChild(docLink);\n",
              "        }\n",
              "      </script>\n",
              "    </div>\n",
              "  </div>\n",
              "  "
            ]
          },
          "metadata": {},
          "execution_count": 2
        }
      ]
    },
    {
      "cell_type": "code",
      "source": [
        "df.isnull().sum()"
      ],
      "metadata": {
        "colab": {
          "base_uri": "https://localhost:8080/"
        },
        "id": "KZaFSdBQ-2sK",
        "outputId": "da45d07a-7fb4-4c06-bcfe-41ec223419cd"
      },
      "execution_count": null,
      "outputs": [
        {
          "output_type": "execute_result",
          "data": {
            "text/plain": [
              "Unnamed: 0             0\n",
              "userid                 0\n",
              "username               0\n",
              "acctdesc           78443\n",
              "location          151942\n",
              "following              0\n",
              "followers              0\n",
              "totaltweets            0\n",
              "usercreatedts          0\n",
              "tweetid                0\n",
              "tweetcreatedts         0\n",
              "retweetcount           0\n",
              "text                   0\n",
              "hashtags               0\n",
              "language               0\n",
              "coordinates       364778\n",
              "favorite_count         0\n",
              "extractedts            0\n",
              "dtype: int64"
            ]
          },
          "metadata": {},
          "execution_count": 3
        }
      ]
    },
    {
      "cell_type": "code",
      "source": [
        "lang_count = df['language'].value_counts()\n",
        "\n",
        "lang_count.index"
      ],
      "metadata": {
        "colab": {
          "base_uri": "https://localhost:8080/"
        },
        "id": "hTq5xv6P-_iQ",
        "outputId": "a9e92402-8266-467e-de57-d30e8a9e1a3a"
      },
      "execution_count": null,
      "outputs": [
        {
          "output_type": "execute_result",
          "data": {
            "text/plain": [
              "Index(['en', 'fr', 'de', 'it', 'und', 'es', 'uk', 'ru', 'hi', 'pl', 'ja', 'tr',\n",
              "       'nl', 'ar', 'pt', 'zh', 'th', 'fi', 'el', 'sv', 'ro', 'in', 'cs', 'lv',\n",
              "       'ta', 'ko', 'ca', 'ur', 'fa', 'et', 'da', 'no', 'gu', 'sl', 'ht', 'iw',\n",
              "       'tl', 'bn', 'vi', 'mr', 'lt', 'cy', 'te', 'eu', 'kn', 'bg', 'ml', 'or',\n",
              "       'sr', 'hu', 'ka', 'pa', 'ckb', 'is', 'my', 'ne', 'am', 'ps', 'si', 'hy',\n",
              "       'dv'],\n",
              "      dtype='object')"
            ]
          },
          "metadata": {},
          "execution_count": 4
        }
      ]
    },
    {
      "cell_type": "code",
      "source": [
        "lang_count[:10]"
      ],
      "metadata": {
        "colab": {
          "base_uri": "https://localhost:8080/"
        },
        "id": "GdGDMHIF_Nvk",
        "outputId": "d0616537-5ba8-471e-b0ca-b55715cdaec6"
      },
      "execution_count": null,
      "outputs": [
        {
          "output_type": "execute_result",
          "data": {
            "text/plain": [
              "en     254626\n",
              "fr      18647\n",
              "de      16446\n",
              "it      15877\n",
              "und     15613\n",
              "es      12526\n",
              "uk       4669\n",
              "ru       4151\n",
              "hi       3475\n",
              "pl       2943\n",
              "Name: language, dtype: int64"
            ]
          },
          "metadata": {},
          "execution_count": 5
        }
      ]
    },
    {
      "cell_type": "code",
      "source": [
        "hashtag_list = []\n",
        "\n",
        "def get_hashtag(tweet):\n",
        "    hashtags = re.findall(r\"#(\\w+)\", tweet)\n",
        "    hashtag_list.extend(hashtags)"
      ],
      "metadata": {
        "id": "7jVgPnq3_SYV"
      },
      "execution_count": null,
      "outputs": []
    },
    {
      "cell_type": "code",
      "source": [
        "for tweet in df['text']:\n",
        "    get_hashtag(tweet)\n",
        "\n",
        "print(\"total unique hashtags: \", len(hashtag_list))\n",
        "print(hashtag_list[1:50])\n",
        "\n",
        "hashtag_set = set(hashtag_list)"
      ],
      "metadata": {
        "colab": {
          "base_uri": "https://localhost:8080/"
        },
        "id": "7ddmF_IK_Y4y",
        "outputId": "4ad5e8b1-97af-4802-9190-a6624188991b"
      },
      "execution_count": null,
      "outputs": [
        {
          "output_type": "stream",
          "name": "stdout",
          "text": [
            "total unique hashtags:  1228764\n",
            "['StopRussia', 'UkraineUnderAttaсk', 'russianinvasion', 'StandWithUkraine', 'UkraineUnderAttack', 'UkraineWillWin', 'PutinIsaWarCriminal', 'StopPutin', 'RussianUkrainianWar', 'RussiaGoHome', 'РоссияСмотри', 'нетвойне', 'RussianUkrainianWar', 'China', 'Taiwan', 'Anonymous', 'OpRussia', 'DDoSecrets', 'nft', 'mint', 'Russia', 'Ukraine', 'motivation', 'netDE', 'eduDE', 'Delaware', 'government', 'USA', 'Ukraine', 'UkraineWar', 'Russia', 'UkraineInvasion', 'Russian', 'Moscow', 'Ukraine', 'Putin', 'Medvedev', 'Russia', 'Ukraine', 'Russia', 'Putin', 'RussianArmy', 'Chernobyl', 'RussianUkrainianWar', 'عينك_على_العالم', 'الحرب_الأوكرانية_الروسية', 'RussianUkrainianWar', 'RussiaUkraineConflict', 'Soviet']\n"
          ]
        }
      ]
    },
    {
      "cell_type": "code",
      "source": [
        "def hashtag_freq(hashtag_list):\n",
        "    a = nltk.FreqDist(hashtag_list)\n",
        "    hash_df = pd.DataFrame({'Hashtag': list(a.keys()), \n",
        "                            'Frequency': list(a.values())\n",
        "                           })\n",
        "    \n",
        "    hash_df = hash_df.nlargest(columns='Frequency', n = 25)\n",
        "    \n",
        "    return hash_df"
      ],
      "metadata": {
        "id": "MHOAZB6i_mXO"
      },
      "execution_count": null,
      "outputs": []
    },
    {
      "cell_type": "code",
      "source": [
        "hash_df = hashtag_freq(hashtag_list)\n",
        "\n",
        "hash_df"
      ],
      "metadata": {
        "colab": {
          "base_uri": "https://localhost:8080/",
          "height": 833
        },
        "id": "fTMNb1mB_qV6",
        "outputId": "da99139d-babc-4975-f4a5-f8e9dcbd7d89"
      },
      "execution_count": null,
      "outputs": [
        {
          "output_type": "execute_result",
          "data": {
            "text/plain": [
              "                  Hashtag  Frequency\n",
              "21                Ukraine     164552\n",
              "20                 Russia      57514\n",
              "4        StandWithUkraine      44944\n",
              "32                  Putin      31359\n",
              "45                   Kyiv      19329\n",
              "129      UkraineRussiaWar      19106\n",
              "30                Russian      17148\n",
              "1              StopRussia      17051\n",
              "110              Mariupol      16106\n",
              "28             UkraineWar      11893\n",
              "96       RussiaUkraineWar      10931\n",
              "2      UkraineUnderAttaсk      10930\n",
              "130          SlavaUkraini      10454\n",
              "9     RussianUkrainianWar      10048\n",
              "201                 Biden       9568\n",
              "41              Ukrainian       9224\n",
              "9961             Belgorod       8826\n",
              "0            ProtectUАSky       7741\n",
              "169                  NATO       7513\n",
              "49                ukraine       6916\n",
              "276            stoprussia       6616\n",
              "8               StopPutin       6525\n",
              "15              Anonymous       6326\n",
              "260             Chernihiv       6257\n",
              "1019               Macron       5647"
            ],
            "text/html": [
              "\n",
              "  <div id=\"df-44c3a928-9a00-4f55-9f61-4cfc31973ec7\">\n",
              "    <div class=\"colab-df-container\">\n",
              "      <div>\n",
              "<style scoped>\n",
              "    .dataframe tbody tr th:only-of-type {\n",
              "        vertical-align: middle;\n",
              "    }\n",
              "\n",
              "    .dataframe tbody tr th {\n",
              "        vertical-align: top;\n",
              "    }\n",
              "\n",
              "    .dataframe thead th {\n",
              "        text-align: right;\n",
              "    }\n",
              "</style>\n",
              "<table border=\"1\" class=\"dataframe\">\n",
              "  <thead>\n",
              "    <tr style=\"text-align: right;\">\n",
              "      <th></th>\n",
              "      <th>Hashtag</th>\n",
              "      <th>Frequency</th>\n",
              "    </tr>\n",
              "  </thead>\n",
              "  <tbody>\n",
              "    <tr>\n",
              "      <th>21</th>\n",
              "      <td>Ukraine</td>\n",
              "      <td>164552</td>\n",
              "    </tr>\n",
              "    <tr>\n",
              "      <th>20</th>\n",
              "      <td>Russia</td>\n",
              "      <td>57514</td>\n",
              "    </tr>\n",
              "    <tr>\n",
              "      <th>4</th>\n",
              "      <td>StandWithUkraine</td>\n",
              "      <td>44944</td>\n",
              "    </tr>\n",
              "    <tr>\n",
              "      <th>32</th>\n",
              "      <td>Putin</td>\n",
              "      <td>31359</td>\n",
              "    </tr>\n",
              "    <tr>\n",
              "      <th>45</th>\n",
              "      <td>Kyiv</td>\n",
              "      <td>19329</td>\n",
              "    </tr>\n",
              "    <tr>\n",
              "      <th>129</th>\n",
              "      <td>UkraineRussiaWar</td>\n",
              "      <td>19106</td>\n",
              "    </tr>\n",
              "    <tr>\n",
              "      <th>30</th>\n",
              "      <td>Russian</td>\n",
              "      <td>17148</td>\n",
              "    </tr>\n",
              "    <tr>\n",
              "      <th>1</th>\n",
              "      <td>StopRussia</td>\n",
              "      <td>17051</td>\n",
              "    </tr>\n",
              "    <tr>\n",
              "      <th>110</th>\n",
              "      <td>Mariupol</td>\n",
              "      <td>16106</td>\n",
              "    </tr>\n",
              "    <tr>\n",
              "      <th>28</th>\n",
              "      <td>UkraineWar</td>\n",
              "      <td>11893</td>\n",
              "    </tr>\n",
              "    <tr>\n",
              "      <th>96</th>\n",
              "      <td>RussiaUkraineWar</td>\n",
              "      <td>10931</td>\n",
              "    </tr>\n",
              "    <tr>\n",
              "      <th>2</th>\n",
              "      <td>UkraineUnderAttaсk</td>\n",
              "      <td>10930</td>\n",
              "    </tr>\n",
              "    <tr>\n",
              "      <th>130</th>\n",
              "      <td>SlavaUkraini</td>\n",
              "      <td>10454</td>\n",
              "    </tr>\n",
              "    <tr>\n",
              "      <th>9</th>\n",
              "      <td>RussianUkrainianWar</td>\n",
              "      <td>10048</td>\n",
              "    </tr>\n",
              "    <tr>\n",
              "      <th>201</th>\n",
              "      <td>Biden</td>\n",
              "      <td>9568</td>\n",
              "    </tr>\n",
              "    <tr>\n",
              "      <th>41</th>\n",
              "      <td>Ukrainian</td>\n",
              "      <td>9224</td>\n",
              "    </tr>\n",
              "    <tr>\n",
              "      <th>9961</th>\n",
              "      <td>Belgorod</td>\n",
              "      <td>8826</td>\n",
              "    </tr>\n",
              "    <tr>\n",
              "      <th>0</th>\n",
              "      <td>ProtectUАSky</td>\n",
              "      <td>7741</td>\n",
              "    </tr>\n",
              "    <tr>\n",
              "      <th>169</th>\n",
              "      <td>NATO</td>\n",
              "      <td>7513</td>\n",
              "    </tr>\n",
              "    <tr>\n",
              "      <th>49</th>\n",
              "      <td>ukraine</td>\n",
              "      <td>6916</td>\n",
              "    </tr>\n",
              "    <tr>\n",
              "      <th>276</th>\n",
              "      <td>stoprussia</td>\n",
              "      <td>6616</td>\n",
              "    </tr>\n",
              "    <tr>\n",
              "      <th>8</th>\n",
              "      <td>StopPutin</td>\n",
              "      <td>6525</td>\n",
              "    </tr>\n",
              "    <tr>\n",
              "      <th>15</th>\n",
              "      <td>Anonymous</td>\n",
              "      <td>6326</td>\n",
              "    </tr>\n",
              "    <tr>\n",
              "      <th>260</th>\n",
              "      <td>Chernihiv</td>\n",
              "      <td>6257</td>\n",
              "    </tr>\n",
              "    <tr>\n",
              "      <th>1019</th>\n",
              "      <td>Macron</td>\n",
              "      <td>5647</td>\n",
              "    </tr>\n",
              "  </tbody>\n",
              "</table>\n",
              "</div>\n",
              "      <button class=\"colab-df-convert\" onclick=\"convertToInteractive('df-44c3a928-9a00-4f55-9f61-4cfc31973ec7')\"\n",
              "              title=\"Convert this dataframe to an interactive table.\"\n",
              "              style=\"display:none;\">\n",
              "        \n",
              "  <svg xmlns=\"http://www.w3.org/2000/svg\" height=\"24px\"viewBox=\"0 0 24 24\"\n",
              "       width=\"24px\">\n",
              "    <path d=\"M0 0h24v24H0V0z\" fill=\"none\"/>\n",
              "    <path d=\"M18.56 5.44l.94 2.06.94-2.06 2.06-.94-2.06-.94-.94-2.06-.94 2.06-2.06.94zm-11 1L8.5 8.5l.94-2.06 2.06-.94-2.06-.94L8.5 2.5l-.94 2.06-2.06.94zm10 10l.94 2.06.94-2.06 2.06-.94-2.06-.94-.94-2.06-.94 2.06-2.06.94z\"/><path d=\"M17.41 7.96l-1.37-1.37c-.4-.4-.92-.59-1.43-.59-.52 0-1.04.2-1.43.59L10.3 9.45l-7.72 7.72c-.78.78-.78 2.05 0 2.83L4 21.41c.39.39.9.59 1.41.59.51 0 1.02-.2 1.41-.59l7.78-7.78 2.81-2.81c.8-.78.8-2.07 0-2.86zM5.41 20L4 18.59l7.72-7.72 1.47 1.35L5.41 20z\"/>\n",
              "  </svg>\n",
              "      </button>\n",
              "      \n",
              "  <style>\n",
              "    .colab-df-container {\n",
              "      display:flex;\n",
              "      flex-wrap:wrap;\n",
              "      gap: 12px;\n",
              "    }\n",
              "\n",
              "    .colab-df-convert {\n",
              "      background-color: #E8F0FE;\n",
              "      border: none;\n",
              "      border-radius: 50%;\n",
              "      cursor: pointer;\n",
              "      display: none;\n",
              "      fill: #1967D2;\n",
              "      height: 32px;\n",
              "      padding: 0 0 0 0;\n",
              "      width: 32px;\n",
              "    }\n",
              "\n",
              "    .colab-df-convert:hover {\n",
              "      background-color: #E2EBFA;\n",
              "      box-shadow: 0px 1px 2px rgba(60, 64, 67, 0.3), 0px 1px 3px 1px rgba(60, 64, 67, 0.15);\n",
              "      fill: #174EA6;\n",
              "    }\n",
              "\n",
              "    [theme=dark] .colab-df-convert {\n",
              "      background-color: #3B4455;\n",
              "      fill: #D2E3FC;\n",
              "    }\n",
              "\n",
              "    [theme=dark] .colab-df-convert:hover {\n",
              "      background-color: #434B5C;\n",
              "      box-shadow: 0px 1px 3px 1px rgba(0, 0, 0, 0.15);\n",
              "      filter: drop-shadow(0px 1px 2px rgba(0, 0, 0, 0.3));\n",
              "      fill: #FFFFFF;\n",
              "    }\n",
              "  </style>\n",
              "\n",
              "      <script>\n",
              "        const buttonEl =\n",
              "          document.querySelector('#df-44c3a928-9a00-4f55-9f61-4cfc31973ec7 button.colab-df-convert');\n",
              "        buttonEl.style.display =\n",
              "          google.colab.kernel.accessAllowed ? 'block' : 'none';\n",
              "\n",
              "        async function convertToInteractive(key) {\n",
              "          const element = document.querySelector('#df-44c3a928-9a00-4f55-9f61-4cfc31973ec7');\n",
              "          const dataTable =\n",
              "            await google.colab.kernel.invokeFunction('convertToInteractive',\n",
              "                                                     [key], {});\n",
              "          if (!dataTable) return;\n",
              "\n",
              "          const docLinkHtml = 'Like what you see? Visit the ' +\n",
              "            '<a target=\"_blank\" href=https://colab.research.google.com/notebooks/data_table.ipynb>data table notebook</a>'\n",
              "            + ' to learn more about interactive tables.';\n",
              "          element.innerHTML = '';\n",
              "          dataTable['output_type'] = 'display_data';\n",
              "          await google.colab.output.renderOutput(dataTable, element);\n",
              "          const docLink = document.createElement('div');\n",
              "          docLink.innerHTML = docLinkHtml;\n",
              "          element.appendChild(docLink);\n",
              "        }\n",
              "      </script>\n",
              "    </div>\n",
              "  </div>\n",
              "  "
            ]
          },
          "metadata": {},
          "execution_count": 9
        }
      ]
    },
    {
      "cell_type": "code",
      "source": [
        "from nltk.corpus import stopwords\n",
        "nltk.download('stopwords')\n",
        "\n",
        "stopwords = stopwords.words('english')"
      ],
      "metadata": {
        "colab": {
          "base_uri": "https://localhost:8080/"
        },
        "id": "QMa7E7NK_wzU",
        "outputId": "8b3d042f-f3f5-4179-a671-3c7d02fc1f50"
      },
      "execution_count": null,
      "outputs": [
        {
          "output_type": "stream",
          "name": "stderr",
          "text": [
            "[nltk_data] Downloading package stopwords to /root/nltk_data...\n",
            "[nltk_data]   Unzipping corpora/stopwords.zip.\n"
          ]
        }
      ]
    },
    {
      "cell_type": "code",
      "source": [
        "stemmer = nltk.PorterStemmer()"
      ],
      "metadata": {
        "id": "Tt_Iqhov_0DK"
      },
      "execution_count": null,
      "outputs": []
    },
    {
      "cell_type": "code",
      "source": [
        "from nltk.stem import WordNetLemmatizer\n",
        "nltk.download('wordnet')\n",
        "nltk.download('omw-1.4')\n",
        "\n",
        "lemmatizer = WordNetLemmatizer()"
      ],
      "metadata": {
        "colab": {
          "base_uri": "https://localhost:8080/"
        },
        "id": "ZSj4WB0a_2-q",
        "outputId": "ff49c3ad-598a-4520-df27-5ca0079e8802"
      },
      "execution_count": null,
      "outputs": [
        {
          "output_type": "stream",
          "name": "stderr",
          "text": [
            "[nltk_data] Downloading package wordnet to /root/nltk_data...\n",
            "[nltk_data] Downloading package omw-1.4 to /root/nltk_data...\n"
          ]
        }
      ]
    },
    {
      "cell_type": "code",
      "source": [
        "def preprocess(text):\n",
        "    text = str(text).lower()\n",
        "    text = re.sub('https?://\\S+|www\\.\\S+', '', text)\n",
        "    text = re.sub(r'[^a-zA-z0-9.,!?/:;\\\"\\'\\s]', '', text)\n",
        "    text = re.sub('\\n|\\t', '', text)\n",
        "    text = re.sub('\\d', '', text)\n",
        "    text = re.sub(r'[^\\w\\s]', ' ', text)\n",
        "    text = re.sub(r'^\\s*|\\s\\s*', ' ', text).strip()\n",
        "    text = re.sub(r'[^a-zA-z.,!?/:;\\\"\\'\\s]', \"\", text)\n",
        "    text = [word for word in text.split() if word not in stopwords]\n",
        "    text = [stemmer.stem(word) for word in text]\n",
        "    \n",
        "    text = \" \".join(text)\n",
        "    \n",
        "    return text"
      ],
      "metadata": {
        "id": "0-iFhxDY_6ly"
      },
      "execution_count": null,
      "outputs": []
    },
    {
      "cell_type": "code",
      "source": [
        "df['clean_tweet'] = df['text'].apply(preprocess)"
      ],
      "metadata": {
        "id": "y0WGrvRY_-PG"
      },
      "execution_count": null,
      "outputs": []
    },
    {
      "cell_type": "code",
      "source": [
        "avg_tweet_len = df['text'].str.len().mean()\n",
        "avg_word_count = df['text'].str.split().str.len().mean()\n",
        "\n",
        "print('Original Tweets: ')\n",
        "print(int(avg_tweet_len))\n",
        "print(int(avg_word_count))\n",
        "\n",
        "\n",
        "avg_clean_tweet_len = df['clean_tweet'].str.len().mean()\n",
        "avg_clean_word_count = df['clean_tweet'].str.split().str.len().mean()\n",
        "\n",
        "print('Preprocessed Tweets: ')\n",
        "print(int(avg_clean_tweet_len))\n",
        "print(int(avg_clean_word_count))"
      ],
      "metadata": {
        "colab": {
          "base_uri": "https://localhost:8080/"
        },
        "id": "SNGLQNk_A04Q",
        "outputId": "0356177b-fa54-4886-b935-0c40b45392f6"
      },
      "execution_count": null,
      "outputs": [
        {
          "output_type": "stream",
          "name": "stdout",
          "text": [
            "Original Tweets: \n",
            "207\n",
            "28\n",
            "Preprocessed Tweets: \n",
            "125\n",
            "18\n"
          ]
        }
      ]
    },
    {
      "cell_type": "code",
      "source": [
        "from textblob import TextBlob"
      ],
      "metadata": {
        "id": "l-Z4qCy6BH7G"
      },
      "execution_count": null,
      "outputs": []
    },
    {
      "cell_type": "code",
      "source": [
        "#2- postive 1- Neutral 0-negative\n",
        "def sentiment_analysis(text):\n",
        "    analysis = TextBlob(text)\n",
        "    if (analysis.sentiment.polarity > 0):\n",
        "        return 2\n",
        "    elif(analysis.sentiment.polarity<0):\n",
        "        return 0\n",
        "    else: \n",
        "        return 1\n",
        "        "
      ],
      "metadata": {
        "id": "JHsAJ3MjBL0F"
      },
      "execution_count": null,
      "outputs": []
    },
    {
      "cell_type": "code",
      "source": [
        "df['sentiment'] = df['clean_tweet'].apply(lambda x : sentiment_analysis(x))"
      ],
      "metadata": {
        "id": "GTbhBibJBRGk"
      },
      "execution_count": null,
      "outputs": []
    },
    {
      "cell_type": "code",
      "source": [
        "data = df[['clean_tweet', 'sentiment', 'retweetcount', 'favorite_count']]\n",
        "data1 = df[['clean_tweet', 'sentiment']]\n",
        "data1"
      ],
      "metadata": {
        "colab": {
          "base_uri": "https://localhost:8080/",
          "height": 424
        },
        "id": "m2HrLxxEBtT-",
        "outputId": "d3b61646-9d29-4ca6-ea29-cca4a5689225"
      },
      "execution_count": null,
      "outputs": [
        {
          "output_type": "execute_result",
          "data": {
            "text/plain": [
              "                                              clean_tweet  sentiment\n",
              "0       ukrainian air forc would like address misinfor...          1\n",
              "1       chernihiv oblast ukrainian welcom liber russia...          1\n",
              "2       america prepar someth wors russianukrainianwar...          2\n",
              "3       anonym hack amp releas email marathon group ru...          2\n",
              "4       public mint livefor billionaire_wmnwin public ...          2\n",
              "...                                                   ...        ...\n",
              "364870  montreal femeninna je trouv plutt terribl de n...          1\n",
              "364871  winston stood possibl read pick white face ele...          1\n",
              "364872  said tonight front peopl sioux fall south dako...          1\n",
              "364873  abr ucrania vdeo de lo helicptero ucraniano en...          1\n",
              "364874                            back funni stuff ukrain          1\n",
              "\n",
              "[364875 rows x 2 columns]"
            ],
            "text/html": [
              "\n",
              "  <div id=\"df-67bd6be4-457d-4a31-a8d9-478cdc3ee025\">\n",
              "    <div class=\"colab-df-container\">\n",
              "      <div>\n",
              "<style scoped>\n",
              "    .dataframe tbody tr th:only-of-type {\n",
              "        vertical-align: middle;\n",
              "    }\n",
              "\n",
              "    .dataframe tbody tr th {\n",
              "        vertical-align: top;\n",
              "    }\n",
              "\n",
              "    .dataframe thead th {\n",
              "        text-align: right;\n",
              "    }\n",
              "</style>\n",
              "<table border=\"1\" class=\"dataframe\">\n",
              "  <thead>\n",
              "    <tr style=\"text-align: right;\">\n",
              "      <th></th>\n",
              "      <th>clean_tweet</th>\n",
              "      <th>sentiment</th>\n",
              "    </tr>\n",
              "  </thead>\n",
              "  <tbody>\n",
              "    <tr>\n",
              "      <th>0</th>\n",
              "      <td>ukrainian air forc would like address misinfor...</td>\n",
              "      <td>1</td>\n",
              "    </tr>\n",
              "    <tr>\n",
              "      <th>1</th>\n",
              "      <td>chernihiv oblast ukrainian welcom liber russia...</td>\n",
              "      <td>1</td>\n",
              "    </tr>\n",
              "    <tr>\n",
              "      <th>2</th>\n",
              "      <td>america prepar someth wors russianukrainianwar...</td>\n",
              "      <td>2</td>\n",
              "    </tr>\n",
              "    <tr>\n",
              "      <th>3</th>\n",
              "      <td>anonym hack amp releas email marathon group ru...</td>\n",
              "      <td>2</td>\n",
              "    </tr>\n",
              "    <tr>\n",
              "      <th>4</th>\n",
              "      <td>public mint livefor billionaire_wmnwin public ...</td>\n",
              "      <td>2</td>\n",
              "    </tr>\n",
              "    <tr>\n",
              "      <th>...</th>\n",
              "      <td>...</td>\n",
              "      <td>...</td>\n",
              "    </tr>\n",
              "    <tr>\n",
              "      <th>364870</th>\n",
              "      <td>montreal femeninna je trouv plutt terribl de n...</td>\n",
              "      <td>1</td>\n",
              "    </tr>\n",
              "    <tr>\n",
              "      <th>364871</th>\n",
              "      <td>winston stood possibl read pick white face ele...</td>\n",
              "      <td>1</td>\n",
              "    </tr>\n",
              "    <tr>\n",
              "      <th>364872</th>\n",
              "      <td>said tonight front peopl sioux fall south dako...</td>\n",
              "      <td>1</td>\n",
              "    </tr>\n",
              "    <tr>\n",
              "      <th>364873</th>\n",
              "      <td>abr ucrania vdeo de lo helicptero ucraniano en...</td>\n",
              "      <td>1</td>\n",
              "    </tr>\n",
              "    <tr>\n",
              "      <th>364874</th>\n",
              "      <td>back funni stuff ukrain</td>\n",
              "      <td>1</td>\n",
              "    </tr>\n",
              "  </tbody>\n",
              "</table>\n",
              "<p>364875 rows × 2 columns</p>\n",
              "</div>\n",
              "      <button class=\"colab-df-convert\" onclick=\"convertToInteractive('df-67bd6be4-457d-4a31-a8d9-478cdc3ee025')\"\n",
              "              title=\"Convert this dataframe to an interactive table.\"\n",
              "              style=\"display:none;\">\n",
              "        \n",
              "  <svg xmlns=\"http://www.w3.org/2000/svg\" height=\"24px\"viewBox=\"0 0 24 24\"\n",
              "       width=\"24px\">\n",
              "    <path d=\"M0 0h24v24H0V0z\" fill=\"none\"/>\n",
              "    <path d=\"M18.56 5.44l.94 2.06.94-2.06 2.06-.94-2.06-.94-.94-2.06-.94 2.06-2.06.94zm-11 1L8.5 8.5l.94-2.06 2.06-.94-2.06-.94L8.5 2.5l-.94 2.06-2.06.94zm10 10l.94 2.06.94-2.06 2.06-.94-2.06-.94-.94-2.06-.94 2.06-2.06.94z\"/><path d=\"M17.41 7.96l-1.37-1.37c-.4-.4-.92-.59-1.43-.59-.52 0-1.04.2-1.43.59L10.3 9.45l-7.72 7.72c-.78.78-.78 2.05 0 2.83L4 21.41c.39.39.9.59 1.41.59.51 0 1.02-.2 1.41-.59l7.78-7.78 2.81-2.81c.8-.78.8-2.07 0-2.86zM5.41 20L4 18.59l7.72-7.72 1.47 1.35L5.41 20z\"/>\n",
              "  </svg>\n",
              "      </button>\n",
              "      \n",
              "  <style>\n",
              "    .colab-df-container {\n",
              "      display:flex;\n",
              "      flex-wrap:wrap;\n",
              "      gap: 12px;\n",
              "    }\n",
              "\n",
              "    .colab-df-convert {\n",
              "      background-color: #E8F0FE;\n",
              "      border: none;\n",
              "      border-radius: 50%;\n",
              "      cursor: pointer;\n",
              "      display: none;\n",
              "      fill: #1967D2;\n",
              "      height: 32px;\n",
              "      padding: 0 0 0 0;\n",
              "      width: 32px;\n",
              "    }\n",
              "\n",
              "    .colab-df-convert:hover {\n",
              "      background-color: #E2EBFA;\n",
              "      box-shadow: 0px 1px 2px rgba(60, 64, 67, 0.3), 0px 1px 3px 1px rgba(60, 64, 67, 0.15);\n",
              "      fill: #174EA6;\n",
              "    }\n",
              "\n",
              "    [theme=dark] .colab-df-convert {\n",
              "      background-color: #3B4455;\n",
              "      fill: #D2E3FC;\n",
              "    }\n",
              "\n",
              "    [theme=dark] .colab-df-convert:hover {\n",
              "      background-color: #434B5C;\n",
              "      box-shadow: 0px 1px 3px 1px rgba(0, 0, 0, 0.15);\n",
              "      filter: drop-shadow(0px 1px 2px rgba(0, 0, 0, 0.3));\n",
              "      fill: #FFFFFF;\n",
              "    }\n",
              "  </style>\n",
              "\n",
              "      <script>\n",
              "        const buttonEl =\n",
              "          document.querySelector('#df-67bd6be4-457d-4a31-a8d9-478cdc3ee025 button.colab-df-convert');\n",
              "        buttonEl.style.display =\n",
              "          google.colab.kernel.accessAllowed ? 'block' : 'none';\n",
              "\n",
              "        async function convertToInteractive(key) {\n",
              "          const element = document.querySelector('#df-67bd6be4-457d-4a31-a8d9-478cdc3ee025');\n",
              "          const dataTable =\n",
              "            await google.colab.kernel.invokeFunction('convertToInteractive',\n",
              "                                                     [key], {});\n",
              "          if (!dataTable) return;\n",
              "\n",
              "          const docLinkHtml = 'Like what you see? Visit the ' +\n",
              "            '<a target=\"_blank\" href=https://colab.research.google.com/notebooks/data_table.ipynb>data table notebook</a>'\n",
              "            + ' to learn more about interactive tables.';\n",
              "          element.innerHTML = '';\n",
              "          dataTable['output_type'] = 'display_data';\n",
              "          await google.colab.output.renderOutput(dataTable, element);\n",
              "          const docLink = document.createElement('div');\n",
              "          docLink.innerHTML = docLinkHtml;\n",
              "          element.appendChild(docLink);\n",
              "        }\n",
              "      </script>\n",
              "    </div>\n",
              "  </div>\n",
              "  "
            ]
          },
          "metadata": {},
          "execution_count": 23
        }
      ]
    },
    {
      "cell_type": "code",
      "source": [
        "data.to_csv(\"pre_process_data4col.csv\", encoding='utf-8-sig')"
      ],
      "metadata": {
        "id": "3nY6a5JfE2ZQ"
      },
      "execution_count": null,
      "outputs": []
    },
    {
      "cell_type": "code",
      "source": [
        "fig = plt.figure(figsize=(10, 6))\n",
        "\n",
        "plt.bar(hash_df['Hashtag'], hash_df['Frequency'], width=0.4)\n",
        "\n",
        "plt.xlabel(\"Top 25 Hashtags\")\n",
        "plt.xticks(rotation=90)\n",
        "plt.ylabel(\"Frequency\")\n",
        "plt.show()"
      ],
      "metadata": {
        "colab": {
          "base_uri": "https://localhost:8080/",
          "height": 484
        },
        "id": "bK4L-e8tGMaJ",
        "outputId": "a2f2f1e4-79aa-4863-a148-792263b15eae"
      },
      "execution_count": null,
      "outputs": [
        {
          "output_type": "display_data",
          "data": {
            "text/plain": [
              "<Figure size 720x432 with 1 Axes>"
            ],
            "image/png": "[encoded data removed]"
          },
          "metadata": {
            "needs_background": "light"
          }
        }
      ]
    },
    {
      "cell_type": "code",
      "source": [
        "text = \" \".join(text for text in data['clean_tweet'])\n",
        "\n",
        "len(text) "
      ],
      "metadata": {
        "colab": {
          "base_uri": "https://localhost:8080/"
        },
        "id": "GhWXi_J8GcHL",
        "outputId": "f1214180-a2d5-497f-a8ba-fecca2374d53"
      },
      "execution_count": null,
      "outputs": [
        {
          "output_type": "execute_result",
          "data": {
            "text/plain": [
              "46331464"
            ]
          },
          "metadata": {},
          "execution_count": 27
        }
      ]
    },
    {
      "cell_type": "code",
      "source": [
        "from wordcloud import WordCloud\n",
        "\n",
        "wc = WordCloud(max_font_size=100,  max_words = 50,collocations=False).generate(text)\n",
        "\n",
        "plt.imshow(wc, interpolation='bilinear')\n",
        "plt.show()"
      ],
      "metadata": {
        "colab": {
          "base_uri": "https://localhost:8080/",
          "height": 219
        },
        "id": "35rX7wdaGia_",
        "outputId": "111f95ac-a4fd-4f3a-c3fd-eab137fcf24f"
      },
      "execution_count": null,
      "outputs": [
        {
          "output_type": "display_data",
          "data": {
            "text/plain": [
              "<Figure size 432x288 with 1 Axes>"
            ],
            "image/png": "[encoded data removed]"
          },
          "metadata": {
            "needs_background": "light"
          }
        }
      ]
    },
    {
      "cell_type": "code",
      "source": [
        "df_neu = data[data['sentiment'] == 1]\n",
        "df_neu.head()"
      ],
      "metadata": {
        "colab": {
          "base_uri": "https://localhost:8080/",
          "height": 206
        },
        "id": "_JkdwMJrGq1V",
        "outputId": "9657535a-f007-40aa-f0e7-6e3c2d37d6e4"
      },
      "execution_count": null,
      "outputs": [
        {
          "output_type": "execute_result",
          "data": {
            "text/plain": [
              "                                          clean_tweet  sentiment  \\\n",
              "0   ukrainian air forc would like address misinfor...          1   \n",
              "1   chernihiv oblast ukrainian welcom liber russia...          1   \n",
              "6   amp quot wait amp quot chernihiv region local ...          1   \n",
              "8   basic tenet stabil exist world border may chan...          1   \n",
              "12       ____russianukrainianwarrussiaukraineconflict          1   \n",
              "\n",
              "    retweetcount  favorite_count  \n",
              "0           3412               0  \n",
              "1            100               0  \n",
              "6              5               0  \n",
              "8              3               4  \n",
              "12             0               7  "
            ],
            "text/html": [
              "\n",
              "  <div id=\"df-a567fb0a-b9e7-435b-8aa6-c409a0135a5c\">\n",
              "    <div class=\"colab-df-container\">\n",
              "      <div>\n",
              "<style scoped>\n",
              "    .dataframe tbody tr th:only-of-type {\n",
              "        vertical-align: middle;\n",
              "    }\n",
              "\n",
              "    .dataframe tbody tr th {\n",
              "        vertical-align: top;\n",
              "    }\n",
              "\n",
              "    .dataframe thead th {\n",
              "        text-align: right;\n",
              "    }\n",
              "</style>\n",
              "<table border=\"1\" class=\"dataframe\">\n",
              "  <thead>\n",
              "    <tr style=\"text-align: right;\">\n",
              "      <th></th>\n",
              "      <th>clean_tweet</th>\n",
              "      <th>sentiment</th>\n",
              "      <th>retweetcount</th>\n",
              "      <th>favorite_count</th>\n",
              "    </tr>\n",
              "  </thead>\n",
              "  <tbody>\n",
              "    <tr>\n",
              "      <th>0</th>\n",
              "      <td>ukrainian air forc would like address misinfor...</td>\n",
              "      <td>1</td>\n",
              "      <td>3412</td>\n",
              "      <td>0</td>\n",
              "    </tr>\n",
              "    <tr>\n",
              "      <th>1</th>\n",
              "      <td>chernihiv oblast ukrainian welcom liber russia...</td>\n",
              "      <td>1</td>\n",
              "      <td>100</td>\n",
              "      <td>0</td>\n",
              "    </tr>\n",
              "    <tr>\n",
              "      <th>6</th>\n",
              "      <td>amp quot wait amp quot chernihiv region local ...</td>\n",
              "      <td>1</td>\n",
              "      <td>5</td>\n",
              "      <td>0</td>\n",
              "    </tr>\n",
              "    <tr>\n",
              "      <th>8</th>\n",
              "      <td>basic tenet stabil exist world border may chan...</td>\n",
              "      <td>1</td>\n",
              "      <td>3</td>\n",
              "      <td>4</td>\n",
              "    </tr>\n",
              "    <tr>\n",
              "      <th>12</th>\n",
              "      <td>____russianukrainianwarrussiaukraineconflict</td>\n",
              "      <td>1</td>\n",
              "      <td>0</td>\n",
              "      <td>7</td>\n",
              "    </tr>\n",
              "  </tbody>\n",
              "</table>\n",
              "</div>\n",
              "      <button class=\"colab-df-convert\" onclick=\"convertToInteractive('df-a567fb0a-b9e7-435b-8aa6-c409a0135a5c')\"\n",
              "              title=\"Convert this dataframe to an interactive table.\"\n",
              "              style=\"display:none;\">\n",
              "        \n",
              "  <svg xmlns=\"http://www.w3.org/2000/svg\" height=\"24px\"viewBox=\"0 0 24 24\"\n",
              "       width=\"24px\">\n",
              "    <path d=\"M0 0h24v24H0V0z\" fill=\"none\"/>\n",
              "    <path d=\"M18.56 5.44l.94 2.06.94-2.06 2.06-.94-2.06-.94-.94-2.06-.94 2.06-2.06.94zm-11 1L8.5 8.5l.94-2.06 2.06-.94-2.06-.94L8.5 2.5l-.94 2.06-2.06.94zm10 10l.94 2.06.94-2.06 2.06-.94-2.06-.94-.94-2.06-.94 2.06-2.06.94z\"/><path d=\"M17.41 7.96l-1.37-1.37c-.4-.4-.92-.59-1.43-.59-.52 0-1.04.2-1.43.59L10.3 9.45l-7.72 7.72c-.78.78-.78 2.05 0 2.83L4 21.41c.39.39.9.59 1.41.59.51 0 1.02-.2 1.41-.59l7.78-7.78 2.81-2.81c.8-.78.8-2.07 0-2.86zM5.41 20L4 18.59l7.72-7.72 1.47 1.35L5.41 20z\"/>\n",
              "  </svg>\n",
              "      </button>\n",
              "      \n",
              "  <style>\n",
              "    .colab-df-container {\n",
              "      display:flex;\n",
              "      flex-wrap:wrap;\n",
              "      gap: 12px;\n",
              "    }\n",
              "\n",
              "    .colab-df-convert {\n",
              "      background-color: #E8F0FE;\n",
              "      border: none;\n",
              "      border-radius: 50%;\n",
              "      cursor: pointer;\n",
              "      display: none;\n",
              "      fill: #1967D2;\n",
              "      height: 32px;\n",
              "      padding: 0 0 0 0;\n",
              "      width: 32px;\n",
              "    }\n",
              "\n",
              "    .colab-df-convert:hover {\n",
              "      background-color: #E2EBFA;\n",
              "      box-shadow: 0px 1px 2px rgba(60, 64, 67, 0.3), 0px 1px 3px 1px rgba(60, 64, 67, 0.15);\n",
              "      fill: #174EA6;\n",
              "    }\n",
              "\n",
              "    [theme=dark] .colab-df-convert {\n",
              "      background-color: #3B4455;\n",
              "      fill: #D2E3FC;\n",
              "    }\n",
              "\n",
              "    [theme=dark] .colab-df-convert:hover {\n",
              "      background-color: #434B5C;\n",
              "      box-shadow: 0px 1px 3px 1px rgba(0, 0, 0, 0.15);\n",
              "      filter: drop-shadow(0px 1px 2px rgba(0, 0, 0, 0.3));\n",
              "      fill: #FFFFFF;\n",
              "    }\n",
              "  </style>\n",
              "\n",
              "      <script>\n",
              "        const buttonEl =\n",
              "          document.querySelector('#df-a567fb0a-b9e7-435b-8aa6-c409a0135a5c button.colab-df-convert');\n",
              "        buttonEl.style.display =\n",
              "          google.colab.kernel.accessAllowed ? 'block' : 'none';\n",
              "\n",
              "        async function convertToInteractive(key) {\n",
              "          const element = document.querySelector('#df-a567fb0a-b9e7-435b-8aa6-c409a0135a5c');\n",
              "          const dataTable =\n",
              "            await google.colab.kernel.invokeFunction('convertToInteractive',\n",
              "                                                     [key], {});\n",
              "          if (!dataTable) return;\n",
              "\n",
              "          const docLinkHtml = 'Like what you see? Visit the ' +\n",
              "            '<a target=\"_blank\" href=https://colab.research.google.com/notebooks/data_table.ipynb>data table notebook</a>'\n",
              "            + ' to learn more about interactive tables.';\n",
              "          element.innerHTML = '';\n",
              "          dataTable['output_type'] = 'display_data';\n",
              "          await google.colab.output.renderOutput(dataTable, element);\n",
              "          const docLink = document.createElement('div');\n",
              "          docLink.innerHTML = docLinkHtml;\n",
              "          element.appendChild(docLink);\n",
              "        }\n",
              "      </script>\n",
              "    </div>\n",
              "  </div>\n",
              "  "
            ]
          },
          "metadata": {},
          "execution_count": 29
        }
      ]
    },
    {
      "cell_type": "code",
      "source": [
        "neu_text = \" \".join(text for text in df_neu['clean_tweet'])\n",
        "\n",
        "len(neu_text) "
      ],
      "metadata": {
        "colab": {
          "base_uri": "https://localhost:8080/"
        },
        "id": "x0ple0uxGysb",
        "outputId": "dcc8260a-54cc-4e60-c82a-c0d974438bd1"
      },
      "execution_count": null,
      "outputs": [
        {
          "output_type": "execute_result",
          "data": {
            "text/plain": [
              "28027872"
            ]
          },
          "metadata": {},
          "execution_count": 30
        }
      ]
    },
    {
      "cell_type": "code",
      "source": [
        "wc = WordCloud(max_font_size=100, max_words = 50,collocations=False).generate(pos_text)\n",
        "\n",
        "plt.imshow(wc, interpolation='bilinear')\n",
        "plt.show()"
      ],
      "metadata": {
        "colab": {
          "base_uri": "https://localhost:8080/",
          "height": 217
        },
        "id": "pdo3LW8lG4IN",
        "outputId": "580f02bb-20b4-4892-f640-9d46747b9c3c"
      },
      "execution_count": null,
      "outputs": [
        {
          "output_type": "error",
          "ename": "NameError",
          "evalue": "ignored",
          "traceback": [
            "\u001b[0;31m---------------------------------------------------------------------------\u001b[0m",
            "\u001b[0;31mNameError\u001b[0m                                 Traceback (most recent call last)",
            "\u001b[0;32m<ipython-input-31-b0cf49d2fda4>\u001b[0m in \u001b[0;36m<module>\u001b[0;34m\u001b[0m\n\u001b[0;32m----> 1\u001b[0;31m \u001b[0mwc\u001b[0m \u001b[0;34m=\u001b[0m \u001b[0mWordCloud\u001b[0m\u001b[0;34m(\u001b[0m\u001b[0mmax_font_size\u001b[0m\u001b[0;34m=\u001b[0m\u001b[0;36m100\u001b[0m\u001b[0;34m,\u001b[0m \u001b[0mmax_words\u001b[0m \u001b[0;34m=\u001b[0m \u001b[0;36m50\u001b[0m\u001b[0;34m,\u001b[0m\u001b[0mcollocations\u001b[0m\u001b[0;34m=\u001b[0m\u001b[0;32mFalse\u001b[0m\u001b[0;34m)\u001b[0m\u001b[0;34m.\u001b[0m\u001b[0mgenerate\u001b[0m\u001b[0;34m(\u001b[0m\u001b[0mpos_text\u001b[0m\u001b[0;34m)\u001b[0m\u001b[0;34m\u001b[0m\u001b[0;34m\u001b[0m\u001b[0m\n\u001b[0m\u001b[1;32m      2\u001b[0m \u001b[0;34m\u001b[0m\u001b[0m\n\u001b[1;32m      3\u001b[0m \u001b[0mplt\u001b[0m\u001b[0;34m.\u001b[0m\u001b[0mimshow\u001b[0m\u001b[0;34m(\u001b[0m\u001b[0mwc\u001b[0m\u001b[0;34m,\u001b[0m \u001b[0minterpolation\u001b[0m\u001b[0;34m=\u001b[0m\u001b[0;34m'bilinear'\u001b[0m\u001b[0;34m)\u001b[0m\u001b[0;34m\u001b[0m\u001b[0;34m\u001b[0m\u001b[0m\n\u001b[1;32m      4\u001b[0m \u001b[0mplt\u001b[0m\u001b[0;34m.\u001b[0m\u001b[0mshow\u001b[0m\u001b[0;34m(\u001b[0m\u001b[0;34m)\u001b[0m\u001b[0;34m\u001b[0m\u001b[0;34m\u001b[0m\u001b[0m\n",
            "\u001b[0;31mNameError\u001b[0m: name 'pos_text' is not defined"
          ]
        }
      ]
    },
    {
      "cell_type": "code",
      "source": [
        "df_neg = data[data['sentiment'] == 0]\n",
        "df_neg.head()"
      ],
      "metadata": {
        "colab": {
          "base_uri": "https://localhost:8080/",
          "height": 206
        },
        "id": "yHbdxSmFG8XR",
        "outputId": "4b078f94-114e-4b44-cf5d-343fe984d6df"
      },
      "execution_count": null,
      "outputs": [
        {
          "output_type": "execute_result",
          "data": {
            "text/plain": [
              "                                          clean_tweet  sentiment  \\\n",
              "5   amaz stori former sussex counti delawar counci...          0   \n",
              "7   india purchas discount russian crude oil put p...          0   \n",
              "9   imag russia acquir past two decad putin medved...          0   \n",
              "10  russia presid vladimir putin say sign decre sa...          0   \n",
              "11  sad read russianarmi invad chernobyl without t...          0   \n",
              "\n",
              "    retweetcount  favorite_count  \n",
              "5              1               0  \n",
              "7              2               7  \n",
              "9              0               0  \n",
              "10             5               9  \n",
              "11             0               0  "
            ],
            "text/html": [
              "\n",
              "  <div id=\"df-4ba07cca-0b61-4f63-a887-9d4981a1ee8e\">\n",
              "    <div class=\"colab-df-container\">\n",
              "      <div>\n",
              "<style scoped>\n",
              "    .dataframe tbody tr th:only-of-type {\n",
              "        vertical-align: middle;\n",
              "    }\n",
              "\n",
              "    .dataframe tbody tr th {\n",
              "        vertical-align: top;\n",
              "    }\n",
              "\n",
              "    .dataframe thead th {\n",
              "        text-align: right;\n",
              "    }\n",
              "</style>\n",
              "<table border=\"1\" class=\"dataframe\">\n",
              "  <thead>\n",
              "    <tr style=\"text-align: right;\">\n",
              "      <th></th>\n",
              "      <th>clean_tweet</th>\n",
              "      <th>sentiment</th>\n",
              "      <th>retweetcount</th>\n",
              "      <th>favorite_count</th>\n",
              "    </tr>\n",
              "  </thead>\n",
              "  <tbody>\n",
              "    <tr>\n",
              "      <th>5</th>\n",
              "      <td>amaz stori former sussex counti delawar counci...</td>\n",
              "      <td>0</td>\n",
              "      <td>1</td>\n",
              "      <td>0</td>\n",
              "    </tr>\n",
              "    <tr>\n",
              "      <th>7</th>\n",
              "      <td>india purchas discount russian crude oil put p...</td>\n",
              "      <td>0</td>\n",
              "      <td>2</td>\n",
              "      <td>7</td>\n",
              "    </tr>\n",
              "    <tr>\n",
              "      <th>9</th>\n",
              "      <td>imag russia acquir past two decad putin medved...</td>\n",
              "      <td>0</td>\n",
              "      <td>0</td>\n",
              "      <td>0</td>\n",
              "    </tr>\n",
              "    <tr>\n",
              "      <th>10</th>\n",
              "      <td>russia presid vladimir putin say sign decre sa...</td>\n",
              "      <td>0</td>\n",
              "      <td>5</td>\n",
              "      <td>9</td>\n",
              "    </tr>\n",
              "    <tr>\n",
              "      <th>11</th>\n",
              "      <td>sad read russianarmi invad chernobyl without t...</td>\n",
              "      <td>0</td>\n",
              "      <td>0</td>\n",
              "      <td>0</td>\n",
              "    </tr>\n",
              "  </tbody>\n",
              "</table>\n",
              "</div>\n",
              "      <button class=\"colab-df-convert\" onclick=\"convertToInteractive('df-4ba07cca-0b61-4f63-a887-9d4981a1ee8e')\"\n",
              "              title=\"Convert this dataframe to an interactive table.\"\n",
              "              style=\"display:none;\">\n",
              "        \n",
              "  <svg xmlns=\"http://www.w3.org/2000/svg\" height=\"24px\"viewBox=\"0 0 24 24\"\n",
              "       width=\"24px\">\n",
              "    <path d=\"M0 0h24v24H0V0z\" fill=\"none\"/>\n",
              "    <path d=\"M18.56 5.44l.94 2.06.94-2.06 2.06-.94-2.06-.94-.94-2.06-.94 2.06-2.06.94zm-11 1L8.5 8.5l.94-2.06 2.06-.94-2.06-.94L8.5 2.5l-.94 2.06-2.06.94zm10 10l.94 2.06.94-2.06 2.06-.94-2.06-.94-.94-2.06-.94 2.06-2.06.94z\"/><path d=\"M17.41 7.96l-1.37-1.37c-.4-.4-.92-.59-1.43-.59-.52 0-1.04.2-1.43.59L10.3 9.45l-7.72 7.72c-.78.78-.78 2.05 0 2.83L4 21.41c.39.39.9.59 1.41.59.51 0 1.02-.2 1.41-.59l7.78-7.78 2.81-2.81c.8-.78.8-2.07 0-2.86zM5.41 20L4 18.59l7.72-7.72 1.47 1.35L5.41 20z\"/>\n",
              "  </svg>\n",
              "      </button>\n",
              "      \n",
              "  <style>\n",
              "    .colab-df-container {\n",
              "      display:flex;\n",
              "      flex-wrap:wrap;\n",
              "      gap: 12px;\n",
              "    }\n",
              "\n",
              "    .colab-df-convert {\n",
              "      background-color: #E8F0FE;\n",
              "      border: none;\n",
              "      border-radius: 50%;\n",
              "      cursor: pointer;\n",
              "      display: none;\n",
              "      fill: #1967D2;\n",
              "      height: 32px;\n",
              "      padding: 0 0 0 0;\n",
              "      width: 32px;\n",
              "    }\n",
              "\n",
              "    .colab-df-convert:hover {\n",
              "      background-color: #E2EBFA;\n",
              "      box-shadow: 0px 1px 2px rgba(60, 64, 67, 0.3), 0px 1px 3px 1px rgba(60, 64, 67, 0.15);\n",
              "      fill: #174EA6;\n",
              "    }\n",
              "\n",
              "    [theme=dark] .colab-df-convert {\n",
              "      background-color: #3B4455;\n",
              "      fill: #D2E3FC;\n",
              "    }\n",
              "\n",
              "    [theme=dark] .colab-df-convert:hover {\n",
              "      background-color: #434B5C;\n",
              "      box-shadow: 0px 1px 3px 1px rgba(0, 0, 0, 0.15);\n",
              "      filter: drop-shadow(0px 1px 2px rgba(0, 0, 0, 0.3));\n",
              "      fill: #FFFFFF;\n",
              "    }\n",
              "  </style>\n",
              "\n",
              "      <script>\n",
              "        const buttonEl =\n",
              "          document.querySelector('#df-4ba07cca-0b61-4f63-a887-9d4981a1ee8e button.colab-df-convert');\n",
              "        buttonEl.style.display =\n",
              "          google.colab.kernel.accessAllowed ? 'block' : 'none';\n",
              "\n",
              "        async function convertToInteractive(key) {\n",
              "          const element = document.querySelector('#df-4ba07cca-0b61-4f63-a887-9d4981a1ee8e');\n",
              "          const dataTable =\n",
              "            await google.colab.kernel.invokeFunction('convertToInteractive',\n",
              "                                                     [key], {});\n",
              "          if (!dataTable) return;\n",
              "\n",
              "          const docLinkHtml = 'Like what you see? Visit the ' +\n",
              "            '<a target=\"_blank\" href=https://colab.research.google.com/notebooks/data_table.ipynb>data table notebook</a>'\n",
              "            + ' to learn more about interactive tables.';\n",
              "          element.innerHTML = '';\n",
              "          dataTable['output_type'] = 'display_data';\n",
              "          await google.colab.output.renderOutput(dataTable, element);\n",
              "          const docLink = document.createElement('div');\n",
              "          docLink.innerHTML = docLinkHtml;\n",
              "          element.appendChild(docLink);\n",
              "        }\n",
              "      </script>\n",
              "    </div>\n",
              "  </div>\n",
              "  "
            ]
          },
          "metadata": {},
          "execution_count": 151
        }
      ]
    },
    {
      "cell_type": "code",
      "source": [
        "neg_text = \" \".join(text for text in df_neg['clean_tweet'])\n",
        "\n",
        "len(neg_text) "
      ],
      "metadata": {
        "colab": {
          "base_uri": "https://localhost:8080/"
        },
        "id": "LQ1XCZMeHBJq",
        "outputId": "61af2fd5-1a65-4fcf-fe8a-f34b86f493ab"
      },
      "execution_count": null,
      "outputs": [
        {
          "output_type": "execute_result",
          "data": {
            "text/plain": [
              "6851118"
            ]
          },
          "metadata": {},
          "execution_count": 152
        }
      ]
    },
    {
      "cell_type": "code",
      "source": [
        "wc = WordCloud(max_font_size=100, max_words = 50,collocations=False).generate(neg_text)\n",
        "\n",
        "plt.imshow(wc, interpolation='bilinear')\n",
        "plt.show()"
      ],
      "metadata": {
        "colab": {
          "base_uri": "https://localhost:8080/",
          "height": 219
        },
        "id": "kS7gcYURHEHP",
        "outputId": "80792b98-169b-4533-c9b8-b5141dbcf7cc"
      },
      "execution_count": null,
      "outputs": [
        {
          "output_type": "display_data",
          "data": {
            "text/plain": [
              "<Figure size 432x288 with 1 Axes>"
            ],
            "image/png": "[encoded data removed]"
          },
          "metadata": {
            "needs_background": "light"
          }
        }
      ]
    },
    {
      "cell_type": "code",
      "source": [
        "df_pos = data[data['sentiment'] == 2]\n",
        "df_pos.head()"
      ],
      "metadata": {
        "colab": {
          "base_uri": "https://localhost:8080/",
          "height": 206
        },
        "id": "MQtLrpWGReRW",
        "outputId": "4a8e9e89-ffff-4598-8288-ad5d21310a98"
      },
      "execution_count": null,
      "outputs": [
        {
          "output_type": "execute_result",
          "data": {
            "text/plain": [
              "                                          clean_tweet  sentiment  \\\n",
              "2   america prepar someth wors russianukrainianwar...          2   \n",
              "3   anonym hack amp releas email marathon group ru...          2   \n",
              "4   public mint live billionaire_wmnwin public sal...          2   \n",
              "16  public mint live billionaire_wmnwin public sal...          2   \n",
              "22  polic offic kropyvnytskyi ukrain found homeles...          2   \n",
              "\n",
              "    retweetcount  favorite_count  \n",
              "2              9               0  \n",
              "3            573               0  \n",
              "4            190               0  \n",
              "16           306               0  \n",
              "22           117               0  "
            ],
            "text/html": [
              "\n",
              "  <div id=\"df-710553f4-7679-4420-986a-fdee9ec1adea\">\n",
              "    <div class=\"colab-df-container\">\n",
              "      <div>\n",
              "<style scoped>\n",
              "    .dataframe tbody tr th:only-of-type {\n",
              "        vertical-align: middle;\n",
              "    }\n",
              "\n",
              "    .dataframe tbody tr th {\n",
              "        vertical-align: top;\n",
              "    }\n",
              "\n",
              "    .dataframe thead th {\n",
              "        text-align: right;\n",
              "    }\n",
              "</style>\n",
              "<table border=\"1\" class=\"dataframe\">\n",
              "  <thead>\n",
              "    <tr style=\"text-align: right;\">\n",
              "      <th></th>\n",
              "      <th>clean_tweet</th>\n",
              "      <th>sentiment</th>\n",
              "      <th>retweetcount</th>\n",
              "      <th>favorite_count</th>\n",
              "    </tr>\n",
              "  </thead>\n",
              "  <tbody>\n",
              "    <tr>\n",
              "      <th>2</th>\n",
              "      <td>america prepar someth wors russianukrainianwar...</td>\n",
              "      <td>2</td>\n",
              "      <td>9</td>\n",
              "      <td>0</td>\n",
              "    </tr>\n",
              "    <tr>\n",
              "      <th>3</th>\n",
              "      <td>anonym hack amp releas email marathon group ru...</td>\n",
              "      <td>2</td>\n",
              "      <td>573</td>\n",
              "      <td>0</td>\n",
              "    </tr>\n",
              "    <tr>\n",
              "      <th>4</th>\n",
              "      <td>public mint live billionaire_wmnwin public sal...</td>\n",
              "      <td>2</td>\n",
              "      <td>190</td>\n",
              "      <td>0</td>\n",
              "    </tr>\n",
              "    <tr>\n",
              "      <th>16</th>\n",
              "      <td>public mint live billionaire_wmnwin public sal...</td>\n",
              "      <td>2</td>\n",
              "      <td>306</td>\n",
              "      <td>0</td>\n",
              "    </tr>\n",
              "    <tr>\n",
              "      <th>22</th>\n",
              "      <td>polic offic kropyvnytskyi ukrain found homeles...</td>\n",
              "      <td>2</td>\n",
              "      <td>117</td>\n",
              "      <td>0</td>\n",
              "    </tr>\n",
              "  </tbody>\n",
              "</table>\n",
              "</div>\n",
              "      <button class=\"colab-df-convert\" onclick=\"convertToInteractive('df-710553f4-7679-4420-986a-fdee9ec1adea')\"\n",
              "              title=\"Convert this dataframe to an interactive table.\"\n",
              "              style=\"display:none;\">\n",
              "        \n",
              "  <svg xmlns=\"http://www.w3.org/2000/svg\" height=\"24px\"viewBox=\"0 0 24 24\"\n",
              "       width=\"24px\">\n",
              "    <path d=\"M0 0h24v24H0V0z\" fill=\"none\"/>\n",
              "    <path d=\"M18.56 5.44l.94 2.06.94-2.06 2.06-.94-2.06-.94-.94-2.06-.94 2.06-2.06.94zm-11 1L8.5 8.5l.94-2.06 2.06-.94-2.06-.94L8.5 2.5l-.94 2.06-2.06.94zm10 10l.94 2.06.94-2.06 2.06-.94-2.06-.94-.94-2.06-.94 2.06-2.06.94z\"/><path d=\"M17.41 7.96l-1.37-1.37c-.4-.4-.92-.59-1.43-.59-.52 0-1.04.2-1.43.59L10.3 9.45l-7.72 7.72c-.78.78-.78 2.05 0 2.83L4 21.41c.39.39.9.59 1.41.59.51 0 1.02-.2 1.41-.59l7.78-7.78 2.81-2.81c.8-.78.8-2.07 0-2.86zM5.41 20L4 18.59l7.72-7.72 1.47 1.35L5.41 20z\"/>\n",
              "  </svg>\n",
              "      </button>\n",
              "      \n",
              "  <style>\n",
              "    .colab-df-container {\n",
              "      display:flex;\n",
              "      flex-wrap:wrap;\n",
              "      gap: 12px;\n",
              "    }\n",
              "\n",
              "    .colab-df-convert {\n",
              "      background-color: #E8F0FE;\n",
              "      border: none;\n",
              "      border-radius: 50%;\n",
              "      cursor: pointer;\n",
              "      display: none;\n",
              "      fill: #1967D2;\n",
              "      height: 32px;\n",
              "      padding: 0 0 0 0;\n",
              "      width: 32px;\n",
              "    }\n",
              "\n",
              "    .colab-df-convert:hover {\n",
              "      background-color: #E2EBFA;\n",
              "      box-shadow: 0px 1px 2px rgba(60, 64, 67, 0.3), 0px 1px 3px 1px rgba(60, 64, 67, 0.15);\n",
              "      fill: #174EA6;\n",
              "    }\n",
              "\n",
              "    [theme=dark] .colab-df-convert {\n",
              "      background-color: #3B4455;\n",
              "      fill: #D2E3FC;\n",
              "    }\n",
              "\n",
              "    [theme=dark] .colab-df-convert:hover {\n",
              "      background-color: #434B5C;\n",
              "      box-shadow: 0px 1px 3px 1px rgba(0, 0, 0, 0.15);\n",
              "      filter: drop-shadow(0px 1px 2px rgba(0, 0, 0, 0.3));\n",
              "      fill: #FFFFFF;\n",
              "    }\n",
              "  </style>\n",
              "\n",
              "      <script>\n",
              "        const buttonEl =\n",
              "          document.querySelector('#df-710553f4-7679-4420-986a-fdee9ec1adea button.colab-df-convert');\n",
              "        buttonEl.style.display =\n",
              "          google.colab.kernel.accessAllowed ? 'block' : 'none';\n",
              "\n",
              "        async function convertToInteractive(key) {\n",
              "          const element = document.querySelector('#df-710553f4-7679-4420-986a-fdee9ec1adea');\n",
              "          const dataTable =\n",
              "            await google.colab.kernel.invokeFunction('convertToInteractive',\n",
              "                                                     [key], {});\n",
              "          if (!dataTable) return;\n",
              "\n",
              "          const docLinkHtml = 'Like what you see? Visit the ' +\n",
              "            '<a target=\"_blank\" href=https://colab.research.google.com/notebooks/data_table.ipynb>data table notebook</a>'\n",
              "            + ' to learn more about interactive tables.';\n",
              "          element.innerHTML = '';\n",
              "          dataTable['output_type'] = 'display_data';\n",
              "          await google.colab.output.renderOutput(dataTable, element);\n",
              "          const docLink = document.createElement('div');\n",
              "          docLink.innerHTML = docLinkHtml;\n",
              "          element.appendChild(docLink);\n",
              "        }\n",
              "      </script>\n",
              "    </div>\n",
              "  </div>\n",
              "  "
            ]
          },
          "metadata": {},
          "execution_count": 153
        }
      ]
    },
    {
      "cell_type": "code",
      "source": [
        "pos_text = \" \".join(text for text in df_pos['clean_tweet'])\n",
        "\n",
        "len(pos_text) "
      ],
      "metadata": {
        "colab": {
          "base_uri": "https://localhost:8080/"
        },
        "id": "8eG6-T6NSBSj",
        "outputId": "35330ed3-aa09-4a21-acd7-8b981b36318c"
      },
      "execution_count": null,
      "outputs": [
        {
          "output_type": "execute_result",
          "data": {
            "text/plain": [
              "11827704"
            ]
          },
          "metadata": {},
          "execution_count": 155
        }
      ]
    },
    {
      "cell_type": "code",
      "source": [
        "wc = WordCloud(max_font_size=100, max_words = 50,collocations=False).generate(neg_text)\n",
        "\n",
        "plt.imshow(wc, interpolation='bilinear')\n",
        "plt.show()"
      ],
      "metadata": {
        "colab": {
          "base_uri": "https://localhost:8080/",
          "height": 219
        },
        "id": "e2rqcY54SUMD",
        "outputId": "65c9e535-1e22-4c5f-e1d7-4ce34e519ae5"
      },
      "execution_count": null,
      "outputs": [
        {
          "output_type": "display_data",
          "data": {
            "text/plain": [
              "<Figure size 432x288 with 1 Axes>"
            ],
            "image/png": "[encoded data removed]"
          },
          "metadata": {
            "needs_background": "light"
          }
        }
      ]
    },
    {
      "cell_type": "code",
      "source": [
        "print(\"Total Retweet count for Positive Tweets: \", '{:.2f}'.format(df_pos['retweetcount'].sum()))\n",
        "print(\"Total Retweet count for Negative Tweets: \", '{:.2f}'.format(df_neg['retweetcount'].sum()))\n",
        "print(\"Total Retweet count for Neutral Tweets: \", '{:.2f}'.format(df_neu['retweetcount'].sum()))\n",
        "\n",
        "print(\"Total Like count for Positive Tweets: \", '{:.2f}'.format(df_pos['favorite_count'].sum()))\n",
        "print(\"Total Like count for Negative Tweets: \", '{:.2f}'.format(df_neg['favorite_count'].sum()))\n",
        "print(\"Total Like count for Neutral Tweets: \", '{:.2f}'.format(df_neu['favorite_count'].sum()))\n",
        "\n",
        "print(\"Average Retweet count for Positive Tweets: \", '{:.2f}'.format(df_pos['retweetcount'].mean()))\n",
        "print(\"Average Retweet count for Negative Tweets: \", '{:.2f}'.format(df_neg['retweetcount'].mean()))\n",
        "print(\"Average Retweet count for Neutral Tweets: \", '{:.2f}'.format(df_neu['retweetcount'].mean()))\n",
        "\n",
        "print(\"Average Like count for Positive Tweets: \", '{:.2f}'.format(df_pos['favorite_count'].mean()))\n",
        "print(\"Average Like count for Negative Tweets: \", '{:.2f}'.format(df_neg['favorite_count'].mean()))\n",
        "print(\"Average Like count for Neutral Tweets: \", '{:.2f}'.format(df_neu['favorite_count'].mean()))"
      ],
      "metadata": {
        "colab": {
          "base_uri": "https://localhost:8080/"
        },
        "id": "Fue3XWz8HKr3",
        "outputId": "0aa0084d-69c4-401c-f3c9-ccd18be00e16"
      },
      "execution_count": null,
      "outputs": [
        {
          "output_type": "stream",
          "name": "stdout",
          "text": [
            "Total Retweet count for Positive Tweets:  43203721.00\n",
            "Total Retweet count for Negative Tweets:  9012595.00\n",
            "Total Retweet count for Neutral Tweets:  127026409.00\n",
            "Total Like count for Positive Tweets:  30097.00\n",
            "Total Like count for Negative Tweets:  19720.00\n",
            "Total Like count for Neutral Tweets:  86969.00\n",
            "Average Retweet count for Positive Tweets:  513.54\n",
            "Average Retweet count for Negative Tweets:  186.32\n",
            "Average Retweet count for Neutral Tweets:  546.65\n",
            "Average Like count for Positive Tweets:  0.36\n",
            "Average Like count for Negative Tweets:  0.41\n",
            "Average Like count for Neutral Tweets:  0.37\n"
          ]
        }
      ]
    },
    {
      "cell_type": "code",
      "source": [
        "x = ['Positive', 'Negative','Neutral']\n",
        "y = [df_pos['retweetcount'].sum(), df_neg['retweetcount'].sum(),df_neu['retweetcount'].sum()]\n",
        "\n",
        "plt.bar(x, y, color=['red', 'gray', 'green'])\n",
        "plt.xlabel('Sentiments')\n",
        "plt.ylabel('Total Retweet Count')\n",
        "plt.show()"
      ],
      "metadata": {
        "colab": {
          "base_uri": "https://localhost:8080/",
          "height": 290
        },
        "id": "4G01aidbHjuT",
        "outputId": "a25533c4-8bc9-46a3-db2f-ca10a3e89a5d"
      },
      "execution_count": null,
      "outputs": [
        {
          "output_type": "display_data",
          "data": {
            "text/plain": [
              "<Figure size 432x288 with 1 Axes>"
            ],
            "image/png": "[encoded data removed]"
          },
          "metadata": {
            "needs_background": "light"
          }
        }
      ]
    },
    {
      "cell_type": "code",
      "source": [
        "x = ['Positive', 'Negative', 'Neutral']\n",
        "y = [df_pos['retweetcount'].mean(), df_neg['retweetcount'].mean(), df_neu['retweetcount'].mean()]\n",
        "\n",
        "plt.bar(x, y, color=['red', 'gray', 'green'])\n",
        "plt.xlabel('Sentiments')\n",
        "plt.ylabel('Average Retweet Count')\n",
        "plt.show()"
      ],
      "metadata": {
        "colab": {
          "base_uri": "https://localhost:8080/",
          "height": 279
        },
        "id": "chvHmXLnHujV",
        "outputId": "fbfd2f39-9764-48b6-fac4-96d2ebc2d2ba"
      },
      "execution_count": null,
      "outputs": [
        {
          "output_type": "display_data",
          "data": {
            "text/plain": [
              "<Figure size 432x288 with 1 Axes>"
            ],
            "image/png": "[encoded data removed]"
          },
          "metadata": {
            "needs_background": "light"
          }
        }
      ]
    },
    {
      "cell_type": "code",
      "source": [
        "x = ['Positive', 'Negative', 'Neutral']\n",
        "y = [df_pos['favorite_count'].sum(), df_neg['favorite_count'].sum(), df_neu['favorite_count'].sum()]\n",
        "\n",
        "plt.bar(x, y, color=['red', 'gray', 'green'])\n",
        "plt.xlabel('Sentiments')\n",
        "plt.ylabel('Total Like Count')\n",
        "plt.show()"
      ],
      "metadata": {
        "colab": {
          "base_uri": "https://localhost:8080/",
          "height": 279
        },
        "id": "jKGphv0bH5-v",
        "outputId": "e99b12d2-e93e-4688-83e9-2b2eb375ea4a"
      },
      "execution_count": null,
      "outputs": [
        {
          "output_type": "display_data",
          "data": {
            "text/plain": [
              "<Figure size 432x288 with 1 Axes>"
            ],
            "image/png": "[encoded data removed]"
          },
          "metadata": {
            "needs_background": "light"
          }
        }
      ]
    },
    {
      "cell_type": "code",
      "source": [
        "x = ['Positive', 'Negative', 'Neutral']\n",
        "y = [df_pos['favorite_count'].mean(), df_neg['favorite_count'].mean(), df_neu['favorite_count'].mean()]\n",
        "\n",
        "plt.bar(x, y, color=['red', 'gray', 'green'])\n",
        "plt.xlabel('Sentiments')\n",
        "plt.ylabel('Average Like Count')\n",
        "plt.show()"
      ],
      "metadata": {
        "colab": {
          "base_uri": "https://localhost:8080/",
          "height": 279
        },
        "id": "Y7urvHLUIIdp",
        "outputId": "693763a0-1cf4-47d7-fe68-7d3da9cc2fe2"
      },
      "execution_count": null,
      "outputs": [
        {
          "output_type": "display_data",
          "data": {
            "text/plain": [
              "<Figure size 432x288 with 1 Axes>"
            ],
            "image/png": "[encoded data removed]"
          },
          "metadata": {
            "needs_background": "light"
          }
        }
      ]
    },
    {
      "cell_type": "markdown",
      "source": [
        "#Vectorization"
      ],
      "metadata": {
        "id": "oJZT4ebgIsBX"
      }
    },
    {
      "cell_type": "code",
      "source": [
        "from sklearn.feature_extraction.text import TfidfVectorizer, CountVectorizer\n",
        "import gensim"
      ],
      "metadata": {
        "id": "KVVk1fHvISZz"
      },
      "execution_count": null,
      "outputs": []
    },
    {
      "cell_type": "code",
      "source": [
        "bow_vectorizer = CountVectorizer(max_df = 0.90, min_df=2, max_features = 50000, stop_words='english')\n",
        "\n",
        "bow = bow_vectorizer.fit_transform(data['clean_tweet'])\n",
        "\n",
        "bow.shape"
      ],
      "metadata": {
        "colab": {
          "base_uri": "https://localhost:8080/"
        },
        "id": "78e6lejyIV0V",
        "outputId": "3066ed94-1ffa-404a-a356-8250735f990c"
      },
      "execution_count": null,
      "outputs": [
        {
          "output_type": "execute_result",
          "data": {
            "text/plain": [
              "(364875, 50000)"
            ]
          },
          "metadata": {},
          "execution_count": 163
        }
      ]
    },
    {
      "cell_type": "code",
      "source": [
        "tfidf_vectorizer = TfidfVectorizer(max_df = 0.90, min_df=2, max_features = 50000, stop_words='english')\n",
        "\n",
        "tfidf = tfidf_vectorizer.fit_transform(data['clean_tweet'])\n",
        "\n",
        "tfidf.shape"
      ],
      "metadata": {
        "colab": {
          "base_uri": "https://localhost:8080/"
        },
        "id": "Oehu1xyaIaKX",
        "outputId": "90919402-9a8e-487d-b631-103a9a891b70"
      },
      "execution_count": null,
      "outputs": [
        {
          "output_type": "execute_result",
          "data": {
            "text/plain": [
              "(364875, 50000)"
            ]
          },
          "metadata": {},
          "execution_count": 164
        }
      ]
    },
    {
      "cell_type": "markdown",
      "source": [
        "#Dataset splitting"
      ],
      "metadata": {
        "id": "FabYo1EvIxan"
      }
    },
    {
      "cell_type": "code",
      "source": [
        "\n",
        "from sklearn.model_selection import train_test_split\n",
        "\n",
        "X1_train, X1_test, y1_train, y1_test = train_test_split(bow, data['sentiment'], test_size = 0.20, random_state = 0)\n",
        "\n",
        "print(X1_train.shape)\n",
        "print(y1_train.shape)\n",
        "print(X1_test.shape)\n",
        "print(y1_test.shape)"
      ],
      "metadata": {
        "colab": {
          "base_uri": "https://localhost:8080/",
          "height": 252
        },
        "id": "y8Qs4SOsIhxP",
        "outputId": "ee88cae4-b777-4d06-d2d3-a8589117c749"
      },
      "execution_count": null,
      "outputs": [
        {
          "output_type": "error",
          "ename": "NameError",
          "evalue": "ignored",
          "traceback": [
            "\u001b[0;31m---------------------------------------------------------------------------\u001b[0m",
            "\u001b[0;31mNameError\u001b[0m                                 Traceback (most recent call last)",
            "\u001b[0;32m<ipython-input-22-1b6ec0094c01>\u001b[0m in \u001b[0;36m<module>\u001b[0;34m\u001b[0m\n\u001b[1;32m      1\u001b[0m \u001b[0;32mfrom\u001b[0m \u001b[0msklearn\u001b[0m\u001b[0;34m.\u001b[0m\u001b[0mmodel_selection\u001b[0m \u001b[0;32mimport\u001b[0m \u001b[0mtrain_test_split\u001b[0m\u001b[0;34m\u001b[0m\u001b[0;34m\u001b[0m\u001b[0m\n\u001b[1;32m      2\u001b[0m \u001b[0;34m\u001b[0m\u001b[0m\n\u001b[0;32m----> 3\u001b[0;31m \u001b[0mX1_train\u001b[0m\u001b[0;34m,\u001b[0m \u001b[0mX1_test\u001b[0m\u001b[0;34m,\u001b[0m \u001b[0my1_train\u001b[0m\u001b[0;34m,\u001b[0m \u001b[0my1_test\u001b[0m \u001b[0;34m=\u001b[0m \u001b[0mtrain_test_split\u001b[0m\u001b[0;34m(\u001b[0m\u001b[0mbow\u001b[0m\u001b[0;34m,\u001b[0m \u001b[0mdata\u001b[0m\u001b[0;34m[\u001b[0m\u001b[0;34m'sentiment'\u001b[0m\u001b[0;34m]\u001b[0m\u001b[0;34m,\u001b[0m \u001b[0mtest_size\u001b[0m \u001b[0;34m=\u001b[0m \u001b[0;36m0.20\u001b[0m\u001b[0;34m,\u001b[0m \u001b[0mrandom_state\u001b[0m \u001b[0;34m=\u001b[0m \u001b[0;36m0\u001b[0m\u001b[0;34m)\u001b[0m\u001b[0;34m\u001b[0m\u001b[0;34m\u001b[0m\u001b[0m\n\u001b[0m\u001b[1;32m      4\u001b[0m \u001b[0;34m\u001b[0m\u001b[0m\n\u001b[1;32m      5\u001b[0m \u001b[0mprint\u001b[0m\u001b[0;34m(\u001b[0m\u001b[0mX1_train\u001b[0m\u001b[0;34m.\u001b[0m\u001b[0mshape\u001b[0m\u001b[0;34m)\u001b[0m\u001b[0;34m\u001b[0m\u001b[0;34m\u001b[0m\u001b[0m\n",
            "\u001b[0;31mNameError\u001b[0m: name 'bow' is not defined"
          ]
        }
      ]
    },
    {
      "cell_type": "code",
      "source": [
        "from sklearn.model_selection import train_test_split\n",
        "\n",
        "X2_train, X2_test, y2_train, y2_test = train_test_split(tfidf, data['sentiment'], test_size = 0.25, random_state = 0)\n",
        "\n",
        "print(X2_train.shape)\n",
        "print(y2_train.shape)\n",
        "print(X2_test.shape)\n",
        "print(y2_test.shape)"
      ],
      "metadata": {
        "colab": {
          "base_uri": "https://localhost:8080/"
        },
        "id": "S0by227zIk9H",
        "outputId": "12afa9af-317c-44ed-eb7d-8ad81728b1e3"
      },
      "execution_count": null,
      "outputs": [
        {
          "output_type": "stream",
          "name": "stdout",
          "text": [
            "(273656, 50000)\n",
            "(273656,)\n",
            "(91219, 50000)\n",
            "(91219,)\n"
          ]
        }
      ]
    },
    {
      "cell_type": "markdown",
      "source": [
        "#Model Training\n",
        "Logistic Regression"
      ],
      "metadata": {
        "id": "WPPkvPKlJB7V"
      }
    },
    {
      "cell_type": "code",
      "source": [
        "from sklearn.linear_model import LogisticRegression\n",
        "from sklearn.metrics import confusion_matrix, classification_report\n",
        "\n",
        "model = LogisticRegression(max_iter = 1000, random_state = 0)\n",
        "model.fit(X1_train, y1_train)\n",
        "\n",
        "y1_pred = model.predict(X1_test)\n",
        "\n",
        "cm = confusion_matrix(y1_test, y1_pred)\n",
        "print(cm)"
      ],
      "metadata": {
        "colab": {
          "base_uri": "https://localhost:8080/",
          "height": 235
        },
        "id": "uobHkoryJGwD",
        "outputId": "bab2164b-6a62-4992-84b6-1a87bc0643a0"
      },
      "execution_count": null,
      "outputs": [
        {
          "output_type": "error",
          "ename": "NameError",
          "evalue": "ignored",
          "traceback": [
            "\u001b[0;31m---------------------------------------------------------------------------\u001b[0m",
            "\u001b[0;31mNameError\u001b[0m                                 Traceback (most recent call last)",
            "\u001b[0;32m<ipython-input-21-979ac2c09311>\u001b[0m in \u001b[0;36m<module>\u001b[0;34m\u001b[0m\n\u001b[1;32m      3\u001b[0m \u001b[0;34m\u001b[0m\u001b[0m\n\u001b[1;32m      4\u001b[0m \u001b[0mmodel\u001b[0m \u001b[0;34m=\u001b[0m \u001b[0mLogisticRegression\u001b[0m\u001b[0;34m(\u001b[0m\u001b[0mmax_iter\u001b[0m \u001b[0;34m=\u001b[0m \u001b[0;36m1000\u001b[0m\u001b[0;34m,\u001b[0m \u001b[0mrandom_state\u001b[0m \u001b[0;34m=\u001b[0m \u001b[0;36m0\u001b[0m\u001b[0;34m)\u001b[0m\u001b[0;34m\u001b[0m\u001b[0;34m\u001b[0m\u001b[0m\n\u001b[0;32m----> 5\u001b[0;31m \u001b[0mmodel\u001b[0m\u001b[0;34m.\u001b[0m\u001b[0mfit\u001b[0m\u001b[0;34m(\u001b[0m\u001b[0mX1_train\u001b[0m\u001b[0;34m,\u001b[0m \u001b[0my1_train\u001b[0m\u001b[0;34m)\u001b[0m\u001b[0;34m\u001b[0m\u001b[0;34m\u001b[0m\u001b[0m\n\u001b[0m\u001b[1;32m      6\u001b[0m \u001b[0;34m\u001b[0m\u001b[0m\n\u001b[1;32m      7\u001b[0m \u001b[0my1_pred\u001b[0m \u001b[0;34m=\u001b[0m \u001b[0mmodel\u001b[0m\u001b[0;34m.\u001b[0m\u001b[0mpredict\u001b[0m\u001b[0;34m(\u001b[0m\u001b[0mX1_test\u001b[0m\u001b[0;34m)\u001b[0m\u001b[0;34m\u001b[0m\u001b[0;34m\u001b[0m\u001b[0m\n",
            "\u001b[0;31mNameError\u001b[0m: name 'X1_train' is not defined"
          ]
        }
      ]
    },
    {
      "cell_type": "code",
      "source": [
        "print(classification_report(y1_test, y1_pred))"
      ],
      "metadata": {
        "colab": {
          "base_uri": "https://localhost:8080/"
        },
        "id": "heOBq-A5JbOZ",
        "outputId": "7cb279e6-4faf-4940-d562-d1048bc100f8"
      },
      "execution_count": null,
      "outputs": [
        {
          "output_type": "stream",
          "name": "stdout",
          "text": [
            "              precision    recall  f1-score   support\n",
            "\n",
            "           0       0.98      0.96      0.97      9479\n",
            "           1       0.99      1.00      0.99     46710\n",
            "           2       0.99      0.97      0.98     16786\n",
            "\n",
            "    accuracy                           0.99     72975\n",
            "   macro avg       0.99      0.98      0.98     72975\n",
            "weighted avg       0.99      0.99      0.99     72975\n",
            "\n"
          ]
        }
      ]
    },
    {
      "cell_type": "code",
      "source": [
        "model.fit(X2_train, y2_train)\n",
        "\n",
        "y2_pred = model.predict(X2_test)\n",
        "\n",
        "cm = confusion_matrix(y2_test, y2_pred)\n",
        "print(cm)"
      ],
      "metadata": {
        "colab": {
          "base_uri": "https://localhost:8080/"
        },
        "id": "mjGWmAFRJjuB",
        "outputId": "836985db-dc65-4894-b329-44db77fad8c2"
      },
      "execution_count": null,
      "outputs": [
        {
          "output_type": "stream",
          "name": "stdout",
          "text": [
            "[[10969   713   237]\n",
            " [   51 58100   105]\n",
            " [  179   959 19906]]\n"
          ]
        }
      ]
    },
    {
      "cell_type": "code",
      "source": [
        "print(classification_report(y2_test, y2_pred))"
      ],
      "metadata": {
        "colab": {
          "base_uri": "https://localhost:8080/"
        },
        "id": "_IeDA5XOJxRr",
        "outputId": "8b0fc39b-611e-4e8b-ba78-59d17f3e4562"
      },
      "execution_count": null,
      "outputs": [
        {
          "output_type": "stream",
          "name": "stdout",
          "text": [
            "              precision    recall  f1-score   support\n",
            "\n",
            "           0       0.98      0.92      0.95     11919\n",
            "           1       0.97      1.00      0.98     58256\n",
            "           2       0.98      0.95      0.96     21044\n",
            "\n",
            "    accuracy                           0.98     91219\n",
            "   macro avg       0.98      0.95      0.97     91219\n",
            "weighted avg       0.98      0.98      0.98     91219\n",
            "\n"
          ]
        }
      ]
    },
    {
      "cell_type": "markdown",
      "source": [
        "#Naive Bayes"
      ],
      "metadata": {
        "id": "qktW8OGeKBZI"
      }
    },
    {
      "cell_type": "code",
      "source": [
        "from sklearn.naive_bayes import MultinomialNB\n",
        "from sklearn.metrics import confusion_matrix, accuracy_score, classification_report\n",
        "\n",
        "model = MultinomialNB()\n",
        "model.fit(X1_train, y1_train)\n",
        "\n",
        "y1_pred = model.predict(X1_test)\n",
        "\n",
        "cm = confusion_matrix(y1_test, y1_pred)\n",
        "\n",
        "print(cm)"
      ],
      "metadata": {
        "colab": {
          "base_uri": "https://localhost:8080/"
        },
        "id": "c4AXDbXcKGV-",
        "outputId": "fd2906c4-504a-4b44-c26e-99d4060bb49d"
      },
      "execution_count": null,
      "outputs": [
        {
          "output_type": "stream",
          "name": "stdout",
          "text": [
            "[[ 8322   320   837]\n",
            " [ 4897 34678  7135]\n",
            " [ 1091   563 15132]]\n"
          ]
        }
      ]
    },
    {
      "cell_type": "code",
      "source": [
        "print(classification_report(y1_test, y1_pred))"
      ],
      "metadata": {
        "colab": {
          "base_uri": "https://localhost:8080/"
        },
        "id": "Jd6EPQNaKN4D",
        "outputId": "23d7e7e4-acc1-4b64-cd7a-c16ee5394722"
      },
      "execution_count": null,
      "outputs": [
        {
          "output_type": "stream",
          "name": "stdout",
          "text": [
            "              precision    recall  f1-score   support\n",
            "\n",
            "           0       0.58      0.88      0.70      9479\n",
            "           1       0.98      0.74      0.84     46710\n",
            "           2       0.65      0.90      0.76     16786\n",
            "\n",
            "    accuracy                           0.80     72975\n",
            "   macro avg       0.74      0.84      0.77     72975\n",
            "weighted avg       0.85      0.80      0.80     72975\n",
            "\n"
          ]
        }
      ]
    },
    {
      "cell_type": "code",
      "source": [
        "model.fit(X2_train, y2_train)\n",
        "\n",
        "y2_pred = model.predict(X2_test)\n",
        "\n",
        "cm = confusion_matrix(y2_test, y2_pred)\n",
        "print(cm)"
      ],
      "metadata": {
        "colab": {
          "base_uri": "https://localhost:8080/"
        },
        "id": "yCsL7TdqKVK-",
        "outputId": "b8abb53f-d0b4-4ed2-f564-5cb7a9cd60ee"
      },
      "execution_count": null,
      "outputs": [
        {
          "output_type": "stream",
          "name": "stdout",
          "text": [
            "[[ 9210   897  1812]\n",
            " [ 1383 52546  4327]\n",
            " [  510  1323 19211]]\n"
          ]
        }
      ]
    },
    {
      "cell_type": "code",
      "source": [
        "print(classification_report(y2_test, y2_pred))"
      ],
      "metadata": {
        "colab": {
          "base_uri": "https://localhost:8080/"
        },
        "id": "7jkspLJMKYer",
        "outputId": "af947f00-238f-45bd-95ac-594c9a7a55a7"
      },
      "execution_count": null,
      "outputs": [
        {
          "output_type": "stream",
          "name": "stdout",
          "text": [
            "              precision    recall  f1-score   support\n",
            "\n",
            "           0       0.83      0.77      0.80     11919\n",
            "           1       0.96      0.90      0.93     58256\n",
            "           2       0.76      0.91      0.83     21044\n",
            "\n",
            "    accuracy                           0.89     91219\n",
            "   macro avg       0.85      0.86      0.85     91219\n",
            "weighted avg       0.90      0.89      0.89     91219\n",
            "\n"
          ]
        }
      ]
    },
    {
      "cell_type": "markdown",
      "source": [
        "#Decision Tree"
      ],
      "metadata": {
        "id": "KiS0tBGLKipr"
      }
    },
    {
      "cell_type": "code",
      "source": [
        "from sklearn.tree import DecisionTreeClassifier\n",
        "model = DecisionTreeClassifier(criterion = 'entropy', random_state = 0)\n",
        "\n",
        "model.fit(X1_train, y1_train)\n",
        "\n",
        "y1_pred = model.predict(X1_test)\n",
        "\n",
        "cm = confusion_matrix(y1_test, y1_pred)\n",
        "\n",
        "print(cm)"
      ],
      "metadata": {
        "colab": {
          "base_uri": "https://localhost:8080/"
        },
        "id": "laYSRhobKhvT",
        "outputId": "4d01c82f-1f5c-4cbb-80e7-189a9569ac82"
      },
      "execution_count": null,
      "outputs": [
        {
          "output_type": "stream",
          "name": "stdout",
          "text": [
            "[[ 9052   224   203]\n",
            " [  128 46423   159]\n",
            " [  189   346 16251]]\n"
          ]
        }
      ]
    },
    {
      "cell_type": "code",
      "source": [
        "print(classification_report(y1_test, y1_pred))"
      ],
      "metadata": {
        "colab": {
          "base_uri": "https://localhost:8080/"
        },
        "id": "18-UsKCNLIbA",
        "outputId": "83b7d944-564c-4a75-aba1-7fc77cd3d8c4"
      },
      "execution_count": null,
      "outputs": [
        {
          "output_type": "stream",
          "name": "stdout",
          "text": [
            "              precision    recall  f1-score   support\n",
            "\n",
            "           0       0.97      0.95      0.96      9479\n",
            "           1       0.99      0.99      0.99     46710\n",
            "           2       0.98      0.97      0.97     16786\n",
            "\n",
            "    accuracy                           0.98     72975\n",
            "   macro avg       0.98      0.97      0.97     72975\n",
            "weighted avg       0.98      0.98      0.98     72975\n",
            "\n"
          ]
        }
      ]
    },
    {
      "cell_type": "code",
      "source": [
        "model.fit(X2_train, y2_train)\n",
        "\n",
        "y2_pred = model.predict(X2_test)\n",
        "\n",
        "cm = confusion_matrix(y2_test, y2_pred)\n",
        "print(cm)"
      ],
      "metadata": {
        "colab": {
          "base_uri": "https://localhost:8080/"
        },
        "id": "99kEqPlWLO1H",
        "outputId": "9c4f0771-41d0-48e3-e60f-8f3f098af3ed"
      },
      "execution_count": null,
      "outputs": [
        {
          "output_type": "stream",
          "name": "stdout",
          "text": [
            "[[11265   359   295]\n",
            " [  249 57658   349]\n",
            " [  244   530 20270]]\n"
          ]
        }
      ]
    },
    {
      "cell_type": "code",
      "source": [
        "print(classification_report(y2_test, y2_pred))"
      ],
      "metadata": {
        "colab": {
          "base_uri": "https://localhost:8080/"
        },
        "id": "ZYQeQIx7L7zK",
        "outputId": "d70dbf34-dad9-49ae-f9fc-b7d0cf8fea9f"
      },
      "execution_count": null,
      "outputs": [
        {
          "output_type": "stream",
          "name": "stdout",
          "text": [
            "              precision    recall  f1-score   support\n",
            "\n",
            "           0       0.96      0.95      0.95     11919\n",
            "           1       0.98      0.99      0.99     58256\n",
            "           2       0.97      0.96      0.97     21044\n",
            "\n",
            "    accuracy                           0.98     91219\n",
            "   macro avg       0.97      0.97      0.97     91219\n",
            "weighted avg       0.98      0.98      0.98     91219\n",
            "\n"
          ]
        }
      ]
    },
    {
      "cell_type": "code",
      "source": [
        "from sklearn.ensemble import RandomForestClassifier\n",
        "model = RandomForestClassifier(n_estimators = 10, criterion = 'entropy', random_state = 0)\n",
        "\n",
        "model.fit(X1_train, y1_train)\n",
        "\n",
        "y1_pred = model.predict(X1_test)\n",
        "\n",
        "cm = confusion_matrix(y1_test, y1_pred)\n",
        "\n",
        "print(cm)"
      ],
      "metadata": {
        "colab": {
          "base_uri": "https://localhost:8080/"
        },
        "id": "5fELr5A_MBL2",
        "outputId": "589590bb-0e84-4c4c-9b3e-909a26408054"
      },
      "execution_count": null,
      "outputs": [
        {
          "output_type": "stream",
          "name": "stdout",
          "text": [
            "[[69940   235]\n",
            " [ 1352 19692]]\n"
          ]
        }
      ]
    },
    {
      "cell_type": "code",
      "source": [
        "print(classification_report(y1_test, y1_pred))"
      ],
      "metadata": {
        "colab": {
          "base_uri": "https://localhost:8080/"
        },
        "id": "zSSynhXFMf3U",
        "outputId": "8bdf5da8-e7e7-434a-c37b-7bca6e21da43"
      },
      "execution_count": null,
      "outputs": [
        {
          "output_type": "stream",
          "name": "stdout",
          "text": [
            "              precision    recall  f1-score   support\n",
            "\n",
            "           0       0.98      1.00      0.99     70175\n",
            "           1       0.99      0.94      0.96     21044\n",
            "\n",
            "    accuracy                           0.98     91219\n",
            "   macro avg       0.98      0.97      0.98     91219\n",
            "weighted avg       0.98      0.98      0.98     91219\n",
            "\n"
          ]
        }
      ]
    },
    {
      "cell_type": "code",
      "source": [
        "model.fit(X2_train, y2_train)\n",
        "\n",
        "y2_pred = model.predict(X2_test)\n",
        "\n",
        "cm = confusion_matrix(y2_test, y2_pred)\n",
        "print(cm)"
      ],
      "metadata": {
        "colab": {
          "base_uri": "https://localhost:8080/"
        },
        "id": "pLXKRKpzMjkt",
        "outputId": "0d9ca50d-764b-487c-fbc0-3ec622ba99df"
      },
      "execution_count": null,
      "outputs": [
        {
          "output_type": "stream",
          "name": "stdout",
          "text": [
            "[[69947   228]\n",
            " [ 1462 19582]]\n"
          ]
        }
      ]
    },
    {
      "cell_type": "code",
      "source": [
        "print(classification_report(y2_test, y2_pred))"
      ],
      "metadata": {
        "colab": {
          "base_uri": "https://localhost:8080/"
        },
        "id": "4Qsc7IG5M3dc",
        "outputId": "ea5bf720-848c-42d8-ae90-b109d95cfffd"
      },
      "execution_count": null,
      "outputs": [
        {
          "output_type": "stream",
          "name": "stdout",
          "text": [
            "              precision    recall  f1-score   support\n",
            "\n",
            "           0       0.98      1.00      0.99     70175\n",
            "           1       0.99      0.93      0.96     21044\n",
            "\n",
            "    accuracy                           0.98     91219\n",
            "   macro avg       0.98      0.96      0.97     91219\n",
            "weighted avg       0.98      0.98      0.98     91219\n",
            "\n"
          ]
        }
      ]
    },
    {
      "cell_type": "code",
      "source": [
        "data.to_csv(\"pre_process_data_col4n3.csv\", sep='\\t', encoding='utf-8')"
      ],
      "metadata": {
        "id": "RkpCKUR_XcYJ"
      },
      "execution_count": null,
      "outputs": []
    },
    {
      "cell_type": "markdown",
      "source": [
        "# Pre Process"
      ],
      "metadata": {
        "id": "keofmXDMlkNc"
      }
    },
    {
      "cell_type": "code",
      "source": [
        "import pandas as pd\n",
        "import matplotlib.pyplot as plt\n",
        "import numpy as np\n",
        "data = pd.read_csv('pre_process_data2col.csv')"
      ],
      "metadata": {
        "id": "xy8CwA4wlmpe"
      },
      "execution_count": null,
      "outputs": []
    },
    {
      "cell_type": "code",
      "source": [
        "from sklearn.linear_model import LogisticRegression\n",
        "from sklearn.metrics import confusion_matrix, classification_report"
      ],
      "metadata": {
        "id": "GTpfIBFPu1CB"
      },
      "execution_count": null,
      "outputs": []
    },
    {
      "cell_type": "code",
      "source": [
        "data"
      ],
      "metadata": {
        "colab": {
          "base_uri": "https://localhost:8080/",
          "height": 424
        },
        "id": "iQLKp8jHm106",
        "outputId": "79e8ebac-f2e9-4958-f9b6-2cd8767a23cc"
      },
      "execution_count": null,
      "outputs": [
        {
          "output_type": "execute_result",
          "data": {
            "text/plain": [
              "        Unnamed: 0                                        clean_tweet  \\\n",
              "0                0  ukrainian air forc would like address misinfor...   \n",
              "1                1  chernihiv oblast ukrainian welcom liber russia...   \n",
              "2                2  america prepar someth wors russianukrainianwar...   \n",
              "3                3  anonym hack amp releas email marathon group ru...   \n",
              "4                4  public mint livefor billionaire_wmnwin public ...   \n",
              "...            ...                                                ...   \n",
              "184883      184883  video social media allegedli eastern ukrain sh...   \n",
              "184884      184884  ist es klar dass die zahlungen fr ga mit ber d...   \n",
              "184885      184885  el decreto firmado por putin faculta gazprom c...   \n",
              "184886      184886  putin biden chhattisgarh riteshmishraht thealo...   \n",
              "184887      184887  v n karazin kharkiv nation univers total destr...   \n",
              "\n",
              "        sentiment  \n",
              "0             1.0  \n",
              "1             1.0  \n",
              "2             2.0  \n",
              "3             2.0  \n",
              "4             2.0  \n",
              "...           ...  \n",
              "184883        2.0  \n",
              "184884        1.0  \n",
              "184885        1.0  \n",
              "184886        1.0  \n",
              "184887        NaN  \n",
              "\n",
              "[184888 rows x 3 columns]"
            ],
            "text/html": [
              "\n",
              "  <div id=\"df-8c3355bd-b593-496d-b3d5-c2ddf4bfe574\">\n",
              "    <div class=\"colab-df-container\">\n",
              "      <div>\n",
              "<style scoped>\n",
              "    .dataframe tbody tr th:only-of-type {\n",
              "        vertical-align: middle;\n",
              "    }\n",
              "\n",
              "    .dataframe tbody tr th {\n",
              "        vertical-align: top;\n",
              "    }\n",
              "\n",
              "    .dataframe thead th {\n",
              "        text-align: right;\n",
              "    }\n",
              "</style>\n",
              "<table border=\"1\" class=\"dataframe\">\n",
              "  <thead>\n",
              "    <tr style=\"text-align: right;\">\n",
              "      <th></th>\n",
              "      <th>Unnamed: 0</th>\n",
              "      <th>clean_tweet</th>\n",
              "      <th>sentiment</th>\n",
              "    </tr>\n",
              "  </thead>\n",
              "  <tbody>\n",
              "    <tr>\n",
              "      <th>0</th>\n",
              "      <td>0</td>\n",
              "      <td>ukrainian air forc would like address misinfor...</td>\n",
              "      <td>1.0</td>\n",
              "    </tr>\n",
              "    <tr>\n",
              "      <th>1</th>\n",
              "      <td>1</td>\n",
              "      <td>chernihiv oblast ukrainian welcom liber russia...</td>\n",
              "      <td>1.0</td>\n",
              "    </tr>\n",
              "    <tr>\n",
              "      <th>2</th>\n",
              "      <td>2</td>\n",
              "      <td>america prepar someth wors russianukrainianwar...</td>\n",
              "      <td>2.0</td>\n",
              "    </tr>\n",
              "    <tr>\n",
              "      <th>3</th>\n",
              "      <td>3</td>\n",
              "      <td>anonym hack amp releas email marathon group ru...</td>\n",
              "      <td>2.0</td>\n",
              "    </tr>\n",
              "    <tr>\n",
              "      <th>4</th>\n",
              "      <td>4</td>\n",
              "      <td>public mint livefor billionaire_wmnwin public ...</td>\n",
              "      <td>2.0</td>\n",
              "    </tr>\n",
              "    <tr>\n",
              "      <th>...</th>\n",
              "      <td>...</td>\n",
              "      <td>...</td>\n",
              "      <td>...</td>\n",
              "    </tr>\n",
              "    <tr>\n",
              "      <th>184883</th>\n",
              "      <td>184883</td>\n",
              "      <td>video social media allegedli eastern ukrain sh...</td>\n",
              "      <td>2.0</td>\n",
              "    </tr>\n",
              "    <tr>\n",
              "      <th>184884</th>\n",
              "      <td>184884</td>\n",
              "      <td>ist es klar dass die zahlungen fr ga mit ber d...</td>\n",
              "      <td>1.0</td>\n",
              "    </tr>\n",
              "    <tr>\n",
              "      <th>184885</th>\n",
              "      <td>184885</td>\n",
              "      <td>el decreto firmado por putin faculta gazprom c...</td>\n",
              "      <td>1.0</td>\n",
              "    </tr>\n",
              "    <tr>\n",
              "      <th>184886</th>\n",
              "      <td>184886</td>\n",
              "      <td>putin biden chhattisgarh riteshmishraht thealo...</td>\n",
              "      <td>1.0</td>\n",
              "    </tr>\n",
              "    <tr>\n",
              "      <th>184887</th>\n",
              "      <td>184887</td>\n",
              "      <td>v n karazin kharkiv nation univers total destr...</td>\n",
              "      <td>NaN</td>\n",
              "    </tr>\n",
              "  </tbody>\n",
              "</table>\n",
              "<p>184888 rows × 3 columns</p>\n",
              "</div>\n",
              "      <button class=\"colab-df-convert\" onclick=\"convertToInteractive('df-8c3355bd-b593-496d-b3d5-c2ddf4bfe574')\"\n",
              "              title=\"Convert this dataframe to an interactive table.\"\n",
              "              style=\"display:none;\">\n",
              "        \n",
              "  <svg xmlns=\"http://www.w3.org/2000/svg\" height=\"24px\"viewBox=\"0 0 24 24\"\n",
              "       width=\"24px\">\n",
              "    <path d=\"M0 0h24v24H0V0z\" fill=\"none\"/>\n",
              "    <path d=\"M18.56 5.44l.94 2.06.94-2.06 2.06-.94-2.06-.94-.94-2.06-.94 2.06-2.06.94zm-11 1L8.5 8.5l.94-2.06 2.06-.94-2.06-.94L8.5 2.5l-.94 2.06-2.06.94zm10 10l.94 2.06.94-2.06 2.06-.94-2.06-.94-.94-2.06-.94 2.06-2.06.94z\"/><path d=\"M17.41 7.96l-1.37-1.37c-.4-.4-.92-.59-1.43-.59-.52 0-1.04.2-1.43.59L10.3 9.45l-7.72 7.72c-.78.78-.78 2.05 0 2.83L4 21.41c.39.39.9.59 1.41.59.51 0 1.02-.2 1.41-.59l7.78-7.78 2.81-2.81c.8-.78.8-2.07 0-2.86zM5.41 20L4 18.59l7.72-7.72 1.47 1.35L5.41 20z\"/>\n",
              "  </svg>\n",
              "      </button>\n",
              "      \n",
              "  <style>\n",
              "    .colab-df-container {\n",
              "      display:flex;\n",
              "      flex-wrap:wrap;\n",
              "      gap: 12px;\n",
              "    }\n",
              "\n",
              "    .colab-df-convert {\n",
              "      background-color: #E8F0FE;\n",
              "      border: none;\n",
              "      border-radius: 50%;\n",
              "      cursor: pointer;\n",
              "      display: none;\n",
              "      fill: #1967D2;\n",
              "      height: 32px;\n",
              "      padding: 0 0 0 0;\n",
              "      width: 32px;\n",
              "    }\n",
              "\n",
              "    .colab-df-convert:hover {\n",
              "      background-color: #E2EBFA;\n",
              "      box-shadow: 0px 1px 2px rgba(60, 64, 67, 0.3), 0px 1px 3px 1px rgba(60, 64, 67, 0.15);\n",
              "      fill: #174EA6;\n",
              "    }\n",
              "\n",
              "    [theme=dark] .colab-df-convert {\n",
              "      background-color: #3B4455;\n",
              "      fill: #D2E3FC;\n",
              "    }\n",
              "\n",
              "    [theme=dark] .colab-df-convert:hover {\n",
              "      background-color: #434B5C;\n",
              "      box-shadow: 0px 1px 3px 1px rgba(0, 0, 0, 0.15);\n",
              "      filter: drop-shadow(0px 1px 2px rgba(0, 0, 0, 0.3));\n",
              "      fill: #FFFFFF;\n",
              "    }\n",
              "  </style>\n",
              "\n",
              "      <script>\n",
              "        const buttonEl =\n",
              "          document.querySelector('#df-8c3355bd-b593-496d-b3d5-c2ddf4bfe574 button.colab-df-convert');\n",
              "        buttonEl.style.display =\n",
              "          google.colab.kernel.accessAllowed ? 'block' : 'none';\n",
              "\n",
              "        async function convertToInteractive(key) {\n",
              "          const element = document.querySelector('#df-8c3355bd-b593-496d-b3d5-c2ddf4bfe574');\n",
              "          const dataTable =\n",
              "            await google.colab.kernel.invokeFunction('convertToInteractive',\n",
              "                                                     [key], {});\n",
              "          if (!dataTable) return;\n",
              "\n",
              "          const docLinkHtml = 'Like what you see? Visit the ' +\n",
              "            '<a target=\"_blank\" href=https://colab.research.google.com/notebooks/data_table.ipynb>data table notebook</a>'\n",
              "            + ' to learn more about interactive tables.';\n",
              "          element.innerHTML = '';\n",
              "          dataTable['output_type'] = 'display_data';\n",
              "          await google.colab.output.renderOutput(dataTable, element);\n",
              "          const docLink = document.createElement('div');\n",
              "          docLink.innerHTML = docLinkHtml;\n",
              "          element.appendChild(docLink);\n",
              "        }\n",
              "      </script>\n",
              "    </div>\n",
              "  </div>\n",
              "  "
            ]
          },
          "metadata": {},
          "execution_count": 2
        }
      ]
    },
    {
      "cell_type": "code",
      "source": [
        "data.sentiment.unique()"
      ],
      "metadata": {
        "colab": {
          "base_uri": "https://localhost:8080/"
        },
        "id": "8i0g7cacm5Rr",
        "outputId": "271fb5b2-8f20-417c-f03f-85c73a50f79a"
      },
      "execution_count": null,
      "outputs": [
        {
          "output_type": "execute_result",
          "data": {
            "text/plain": [
              "array([ 1.,  2.,  0., nan])"
            ]
          },
          "metadata": {},
          "execution_count": 3
        }
      ]
    },
    {
      "cell_type": "code",
      "source": [
        "data.isna().sum()"
      ],
      "metadata": {
        "colab": {
          "base_uri": "https://localhost:8080/"
        },
        "id": "c0UCeXlvnJdb",
        "outputId": "b45d4b3a-b97c-4a9f-cfe7-dd019a7caa28"
      },
      "execution_count": null,
      "outputs": [
        {
          "output_type": "execute_result",
          "data": {
            "text/plain": [
              "Unnamed: 0     0\n",
              "clean_tweet    0\n",
              "sentiment      1\n",
              "dtype: int64"
            ]
          },
          "metadata": {},
          "execution_count": 4
        }
      ]
    },
    {
      "cell_type": "code",
      "source": [
        "data[data['sentiment'].isna()]"
      ],
      "metadata": {
        "colab": {
          "base_uri": "https://localhost:8080/",
          "height": 81
        },
        "id": "-VK5i7jWnYJb",
        "outputId": "f2bb9d3d-8712-4228-c61a-4c26f5368d89"
      },
      "execution_count": null,
      "outputs": [
        {
          "output_type": "execute_result",
          "data": {
            "text/plain": [
              "        Unnamed: 0                                        clean_tweet  \\\n",
              "184887      184887  v n karazin kharkiv nation univers total destr...   \n",
              "\n",
              "        sentiment  \n",
              "184887        NaN  "
            ],
            "text/html": [
              "\n",
              "  <div id=\"df-afe377a6-a0a9-4581-99ad-858392cb1142\">\n",
              "    <div class=\"colab-df-container\">\n",
              "      <div>\n",
              "<style scoped>\n",
              "    .dataframe tbody tr th:only-of-type {\n",
              "        vertical-align: middle;\n",
              "    }\n",
              "\n",
              "    .dataframe tbody tr th {\n",
              "        vertical-align: top;\n",
              "    }\n",
              "\n",
              "    .dataframe thead th {\n",
              "        text-align: right;\n",
              "    }\n",
              "</style>\n",
              "<table border=\"1\" class=\"dataframe\">\n",
              "  <thead>\n",
              "    <tr style=\"text-align: right;\">\n",
              "      <th></th>\n",
              "      <th>Unnamed: 0</th>\n",
              "      <th>clean_tweet</th>\n",
              "      <th>sentiment</th>\n",
              "    </tr>\n",
              "  </thead>\n",
              "  <tbody>\n",
              "    <tr>\n",
              "      <th>184887</th>\n",
              "      <td>184887</td>\n",
              "      <td>v n karazin kharkiv nation univers total destr...</td>\n",
              "      <td>NaN</td>\n",
              "    </tr>\n",
              "  </tbody>\n",
              "</table>\n",
              "</div>\n",
              "      <button class=\"colab-df-convert\" onclick=\"convertToInteractive('df-afe377a6-a0a9-4581-99ad-858392cb1142')\"\n",
              "              title=\"Convert this dataframe to an interactive table.\"\n",
              "              style=\"display:none;\">\n",
              "        \n",
              "  <svg xmlns=\"http://www.w3.org/2000/svg\" height=\"24px\"viewBox=\"0 0 24 24\"\n",
              "       width=\"24px\">\n",
              "    <path d=\"M0 0h24v24H0V0z\" fill=\"none\"/>\n",
              "    <path d=\"M18.56 5.44l.94 2.06.94-2.06 2.06-.94-2.06-.94-.94-2.06-.94 2.06-2.06.94zm-11 1L8.5 8.5l.94-2.06 2.06-.94-2.06-.94L8.5 2.5l-.94 2.06-2.06.94zm10 10l.94 2.06.94-2.06 2.06-.94-2.06-.94-.94-2.06-.94 2.06-2.06.94z\"/><path d=\"M17.41 7.96l-1.37-1.37c-.4-.4-.92-.59-1.43-.59-.52 0-1.04.2-1.43.59L10.3 9.45l-7.72 7.72c-.78.78-.78 2.05 0 2.83L4 21.41c.39.39.9.59 1.41.59.51 0 1.02-.2 1.41-.59l7.78-7.78 2.81-2.81c.8-.78.8-2.07 0-2.86zM5.41 20L4 18.59l7.72-7.72 1.47 1.35L5.41 20z\"/>\n",
              "  </svg>\n",
              "      </button>\n",
              "      \n",
              "  <style>\n",
              "    .colab-df-container {\n",
              "      display:flex;\n",
              "      flex-wrap:wrap;\n",
              "      gap: 12px;\n",
              "    }\n",
              "\n",
              "    .colab-df-convert {\n",
              "      background-color: #E8F0FE;\n",
              "      border: none;\n",
              "      border-radius: 50%;\n",
              "      cursor: pointer;\n",
              "      display: none;\n",
              "      fill: #1967D2;\n",
              "      height: 32px;\n",
              "      padding: 0 0 0 0;\n",
              "      width: 32px;\n",
              "    }\n",
              "\n",
              "    .colab-df-convert:hover {\n",
              "      background-color: #E2EBFA;\n",
              "      box-shadow: 0px 1px 2px rgba(60, 64, 67, 0.3), 0px 1px 3px 1px rgba(60, 64, 67, 0.15);\n",
              "      fill: #174EA6;\n",
              "    }\n",
              "\n",
              "    [theme=dark] .colab-df-convert {\n",
              "      background-color: #3B4455;\n",
              "      fill: #D2E3FC;\n",
              "    }\n",
              "\n",
              "    [theme=dark] .colab-df-convert:hover {\n",
              "      background-color: #434B5C;\n",
              "      box-shadow: 0px 1px 3px 1px rgba(0, 0, 0, 0.15);\n",
              "      filter: drop-shadow(0px 1px 2px rgba(0, 0, 0, 0.3));\n",
              "      fill: #FFFFFF;\n",
              "    }\n",
              "  </style>\n",
              "\n",
              "      <script>\n",
              "        const buttonEl =\n",
              "          document.querySelector('#df-afe377a6-a0a9-4581-99ad-858392cb1142 button.colab-df-convert');\n",
              "        buttonEl.style.display =\n",
              "          google.colab.kernel.accessAllowed ? 'block' : 'none';\n",
              "\n",
              "        async function convertToInteractive(key) {\n",
              "          const element = document.querySelector('#df-afe377a6-a0a9-4581-99ad-858392cb1142');\n",
              "          const dataTable =\n",
              "            await google.colab.kernel.invokeFunction('convertToInteractive',\n",
              "                                                     [key], {});\n",
              "          if (!dataTable) return;\n",
              "\n",
              "          const docLinkHtml = 'Like what you see? Visit the ' +\n",
              "            '<a target=\"_blank\" href=https://colab.research.google.com/notebooks/data_table.ipynb>data table notebook</a>'\n",
              "            + ' to learn more about interactive tables.';\n",
              "          element.innerHTML = '';\n",
              "          dataTable['output_type'] = 'display_data';\n",
              "          await google.colab.output.renderOutput(dataTable, element);\n",
              "          const docLink = document.createElement('div');\n",
              "          docLink.innerHTML = docLinkHtml;\n",
              "          element.appendChild(docLink);\n",
              "        }\n",
              "      </script>\n",
              "    </div>\n",
              "  </div>\n",
              "  "
            ]
          },
          "metadata": {},
          "execution_count": 5
        }
      ]
    },
    {
      "cell_type": "code",
      "source": [
        "data.drop(data[data['sentiment'].isna()].index, inplace=True)"
      ],
      "metadata": {
        "id": "MiBUYypgniIE"
      },
      "execution_count": null,
      "outputs": []
    },
    {
      "cell_type": "code",
      "source": [
        "sentiment_map={0:'negative',2:'positive',1:'neutral'}\n",
        "data.insert(2,'sentiment1',[sentiment_map[s] for s in data.sentiment],True)"
      ],
      "metadata": {
        "id": "WttW57munqN6"
      },
      "execution_count": null,
      "outputs": []
    },
    {
      "cell_type": "code",
      "source": [
        "data"
      ],
      "metadata": {
        "colab": {
          "base_uri": "https://localhost:8080/",
          "height": 424
        },
        "id": "NsxDFO3goHib",
        "outputId": "69ec33d5-59b8-456f-eab5-0b153ea067ba"
      },
      "execution_count": null,
      "outputs": [
        {
          "output_type": "execute_result",
          "data": {
            "text/plain": [
              "        Unnamed: 0                                        clean_tweet  \\\n",
              "0                0  ukrainian air forc would like address misinfor...   \n",
              "1                1  chernihiv oblast ukrainian welcom liber russia...   \n",
              "2                2  america prepar someth wors russianukrainianwar...   \n",
              "3                3  anonym hack amp releas email marathon group ru...   \n",
              "4                4  public mint livefor billionaire_wmnwin public ...   \n",
              "...            ...                                                ...   \n",
              "184882      184882  western spi agenc weapon intellig attempt unde...   \n",
              "184883      184883  video social media allegedli eastern ukrain sh...   \n",
              "184884      184884  ist es klar dass die zahlungen fr ga mit ber d...   \n",
              "184885      184885  el decreto firmado por putin faculta gazprom c...   \n",
              "184886      184886  putin biden chhattisgarh riteshmishraht thealo...   \n",
              "\n",
              "       sentiment1  sentiment  \n",
              "0         neutral        1.0  \n",
              "1         neutral        1.0  \n",
              "2        positive        2.0  \n",
              "3        positive        2.0  \n",
              "4        positive        2.0  \n",
              "...           ...        ...  \n",
              "184882   negative        0.0  \n",
              "184883   positive        2.0  \n",
              "184884    neutral        1.0  \n",
              "184885    neutral        1.0  \n",
              "184886    neutral        1.0  \n",
              "\n",
              "[184887 rows x 4 columns]"
            ],
            "text/html": [
              "\n",
              "  <div id=\"df-efdfa1da-60b0-4189-b518-a9d8433cfa79\">\n",
              "    <div class=\"colab-df-container\">\n",
              "      <div>\n",
              "<style scoped>\n",
              "    .dataframe tbody tr th:only-of-type {\n",
              "        vertical-align: middle;\n",
              "    }\n",
              "\n",
              "    .dataframe tbody tr th {\n",
              "        vertical-align: top;\n",
              "    }\n",
              "\n",
              "    .dataframe thead th {\n",
              "        text-align: right;\n",
              "    }\n",
              "</style>\n",
              "<table border=\"1\" class=\"dataframe\">\n",
              "  <thead>\n",
              "    <tr style=\"text-align: right;\">\n",
              "      <th></th>\n",
              "      <th>Unnamed: 0</th>\n",
              "      <th>clean_tweet</th>\n",
              "      <th>sentiment1</th>\n",
              "      <th>sentiment</th>\n",
              "    </tr>\n",
              "  </thead>\n",
              "  <tbody>\n",
              "    <tr>\n",
              "      <th>0</th>\n",
              "      <td>0</td>\n",
              "      <td>ukrainian air forc would like address misinfor...</td>\n",
              "      <td>neutral</td>\n",
              "      <td>1.0</td>\n",
              "    </tr>\n",
              "    <tr>\n",
              "      <th>1</th>\n",
              "      <td>1</td>\n",
              "      <td>chernihiv oblast ukrainian welcom liber russia...</td>\n",
              "      <td>neutral</td>\n",
              "      <td>1.0</td>\n",
              "    </tr>\n",
              "    <tr>\n",
              "      <th>2</th>\n",
              "      <td>2</td>\n",
              "      <td>america prepar someth wors russianukrainianwar...</td>\n",
              "      <td>positive</td>\n",
              "      <td>2.0</td>\n",
              "    </tr>\n",
              "    <tr>\n",
              "      <th>3</th>\n",
              "      <td>3</td>\n",
              "      <td>anonym hack amp releas email marathon group ru...</td>\n",
              "      <td>positive</td>\n",
              "      <td>2.0</td>\n",
              "    </tr>\n",
              "    <tr>\n",
              "      <th>4</th>\n",
              "      <td>4</td>\n",
              "      <td>public mint livefor billionaire_wmnwin public ...</td>\n",
              "      <td>positive</td>\n",
              "      <td>2.0</td>\n",
              "    </tr>\n",
              "    <tr>\n",
              "      <th>...</th>\n",
              "      <td>...</td>\n",
              "      <td>...</td>\n",
              "      <td>...</td>\n",
              "      <td>...</td>\n",
              "    </tr>\n",
              "    <tr>\n",
              "      <th>184882</th>\n",
              "      <td>184882</td>\n",
              "      <td>western spi agenc weapon intellig attempt unde...</td>\n",
              "      <td>negative</td>\n",
              "      <td>0.0</td>\n",
              "    </tr>\n",
              "    <tr>\n",
              "      <th>184883</th>\n",
              "      <td>184883</td>\n",
              "      <td>video social media allegedli eastern ukrain sh...</td>\n",
              "      <td>positive</td>\n",
              "      <td>2.0</td>\n",
              "    </tr>\n",
              "    <tr>\n",
              "      <th>184884</th>\n",
              "      <td>184884</td>\n",
              "      <td>ist es klar dass die zahlungen fr ga mit ber d...</td>\n",
              "      <td>neutral</td>\n",
              "      <td>1.0</td>\n",
              "    </tr>\n",
              "    <tr>\n",
              "      <th>184885</th>\n",
              "      <td>184885</td>\n",
              "      <td>el decreto firmado por putin faculta gazprom c...</td>\n",
              "      <td>neutral</td>\n",
              "      <td>1.0</td>\n",
              "    </tr>\n",
              "    <tr>\n",
              "      <th>184886</th>\n",
              "      <td>184886</td>\n",
              "      <td>putin biden chhattisgarh riteshmishraht thealo...</td>\n",
              "      <td>neutral</td>\n",
              "      <td>1.0</td>\n",
              "    </tr>\n",
              "  </tbody>\n",
              "</table>\n",
              "<p>184887 rows × 4 columns</p>\n",
              "</div>\n",
              "      <button class=\"colab-df-convert\" onclick=\"convertToInteractive('df-efdfa1da-60b0-4189-b518-a9d8433cfa79')\"\n",
              "              title=\"Convert this dataframe to an interactive table.\"\n",
              "              style=\"display:none;\">\n",
              "        \n",
              "  <svg xmlns=\"http://www.w3.org/2000/svg\" height=\"24px\"viewBox=\"0 0 24 24\"\n",
              "       width=\"24px\">\n",
              "    <path d=\"M0 0h24v24H0V0z\" fill=\"none\"/>\n",
              "    <path d=\"M18.56 5.44l.94 2.06.94-2.06 2.06-.94-2.06-.94-.94-2.06-.94 2.06-2.06.94zm-11 1L8.5 8.5l.94-2.06 2.06-.94-2.06-.94L8.5 2.5l-.94 2.06-2.06.94zm10 10l.94 2.06.94-2.06 2.06-.94-2.06-.94-.94-2.06-.94 2.06-2.06.94z\"/><path d=\"M17.41 7.96l-1.37-1.37c-.4-.4-.92-.59-1.43-.59-.52 0-1.04.2-1.43.59L10.3 9.45l-7.72 7.72c-.78.78-.78 2.05 0 2.83L4 21.41c.39.39.9.59 1.41.59.51 0 1.02-.2 1.41-.59l7.78-7.78 2.81-2.81c.8-.78.8-2.07 0-2.86zM5.41 20L4 18.59l7.72-7.72 1.47 1.35L5.41 20z\"/>\n",
              "  </svg>\n",
              "      </button>\n",
              "      \n",
              "  <style>\n",
              "    .colab-df-container {\n",
              "      display:flex;\n",
              "      flex-wrap:wrap;\n",
              "      gap: 12px;\n",
              "    }\n",
              "\n",
              "    .colab-df-convert {\n",
              "      background-color: #E8F0FE;\n",
              "      border: none;\n",
              "      border-radius: 50%;\n",
              "      cursor: pointer;\n",
              "      display: none;\n",
              "      fill: #1967D2;\n",
              "      height: 32px;\n",
              "      padding: 0 0 0 0;\n",
              "      width: 32px;\n",
              "    }\n",
              "\n",
              "    .colab-df-convert:hover {\n",
              "      background-color: #E2EBFA;\n",
              "      box-shadow: 0px 1px 2px rgba(60, 64, 67, 0.3), 0px 1px 3px 1px rgba(60, 64, 67, 0.15);\n",
              "      fill: #174EA6;\n",
              "    }\n",
              "\n",
              "    [theme=dark] .colab-df-convert {\n",
              "      background-color: #3B4455;\n",
              "      fill: #D2E3FC;\n",
              "    }\n",
              "\n",
              "    [theme=dark] .colab-df-convert:hover {\n",
              "      background-color: #434B5C;\n",
              "      box-shadow: 0px 1px 3px 1px rgba(0, 0, 0, 0.15);\n",
              "      filter: drop-shadow(0px 1px 2px rgba(0, 0, 0, 0.3));\n",
              "      fill: #FFFFFF;\n",
              "    }\n",
              "  </style>\n",
              "\n",
              "      <script>\n",
              "        const buttonEl =\n",
              "          document.querySelector('#df-efdfa1da-60b0-4189-b518-a9d8433cfa79 button.colab-df-convert');\n",
              "        buttonEl.style.display =\n",
              "          google.colab.kernel.accessAllowed ? 'block' : 'none';\n",
              "\n",
              "        async function convertToInteractive(key) {\n",
              "          const element = document.querySelector('#df-efdfa1da-60b0-4189-b518-a9d8433cfa79');\n",
              "          const dataTable =\n",
              "            await google.colab.kernel.invokeFunction('convertToInteractive',\n",
              "                                                     [key], {});\n",
              "          if (!dataTable) return;\n",
              "\n",
              "          const docLinkHtml = 'Like what you see? Visit the ' +\n",
              "            '<a target=\"_blank\" href=https://colab.research.google.com/notebooks/data_table.ipynb>data table notebook</a>'\n",
              "            + ' to learn more about interactive tables.';\n",
              "          element.innerHTML = '';\n",
              "          dataTable['output_type'] = 'display_data';\n",
              "          await google.colab.output.renderOutput(dataTable, element);\n",
              "          const docLink = document.createElement('div');\n",
              "          docLink.innerHTML = docLinkHtml;\n",
              "          element.appendChild(docLink);\n",
              "        }\n",
              "      </script>\n",
              "    </div>\n",
              "  </div>\n",
              "  "
            ]
          },
          "metadata": {},
          "execution_count": 9
        }
      ]
    },
    {
      "cell_type": "code",
      "source": [
        "#labeling\n",
        "reviews = np.array(data['clean_tweet'])[:]\n",
        "labels = np.array(data['sentiment1'])[:]"
      ],
      "metadata": {
        "id": "WDhIBzPLqz06"
      },
      "execution_count": null,
      "outputs": []
    },
    {
      "cell_type": "code",
      "source": [
        "from collections import Counter\n",
        "\n",
        "Counter(labels)"
      ],
      "metadata": {
        "colab": {
          "base_uri": "https://localhost:8080/"
        },
        "id": "teKP2Nyiq9aA",
        "outputId": "cc545f44-c58e-4027-ceb2-7fb3c86946b6"
      },
      "execution_count": null,
      "outputs": [
        {
          "output_type": "execute_result",
          "data": {
            "text/plain": [
              "Counter({'neutral': 120869, 'positive': 42274, 'negative': 21744})"
            ]
          },
          "metadata": {},
          "execution_count": 11
        }
      ]
    },
    {
      "cell_type": "code",
      "source": [
        "from sklearn.feature_extraction.text import CountVectorizer\n",
        "from nltk.tokenize import RegexpTokenizer\n",
        "import csv\n",
        "\n",
        "\n",
        "def preProcessor(Tweet):\n",
        "    import re\n",
        "    from string import punctuation\n",
        "    text=re.sub(r'(http|ftp|https):\\/\\/([\\w\\-_]+(?:(?:\\.[\\w\\-_]+)+))([\\w\\-\\.,@?^=%&:/~\\+#]*[\\w\\-\\@?^=%&/~\\+#])?', ' ', Tweet)\n",
        "    text=re.sub(r'['+punctuation+']',' ',Tweet)\n",
        "    text=re.sub(r'#(\\w+)',' ',Tweet)\n",
        "    text=re.sub(r'@(\\w+)',' ',Tweet)\n",
        "    #print(token.tokenize(text))\n",
        "    return Tweet\n",
        "\n",
        "token=RegexpTokenizer(r'\\w+')\n",
        "cv=CountVectorizer(lowercase=True,preprocessor=preProcessor,stop_words='english',ngram_range=(1,1),tokenizer=token.tokenize)\n",
        "#text_counts=cv.fit_transform(data['Tweet'])\n",
        "text_counts=cv.fit_transform(data['clean_tweet'].values.astype('U'))"
      ],
      "metadata": {
        "id": "fFxJQS_8rcOA"
      },
      "execution_count": null,
      "outputs": []
    },
    {
      "cell_type": "code",
      "source": [
        "from sklearn.model_selection import train_test_split\n",
        "# x_train, x_test, y_train, y_test = train_test_split(text_counts,data['sentiment1'],test_size=0.2)\n",
        "x_train, x_test, y_train, y_test = train_test_split(text_counts,data['sentiment1'],test_size=0.2)"
      ],
      "metadata": {
        "id": "-G3JKR66rnOJ"
      },
      "execution_count": null,
      "outputs": []
    },
    {
      "cell_type": "markdown",
      "source": [
        "#Naive Bayes"
      ],
      "metadata": {
        "id": "kTHR1JAwtyDI"
      }
    },
    {
      "cell_type": "code",
      "source": [
        "#Ber_NB\n",
        "from sklearn.naive_bayes import *\n",
        "from sklearn import metrics\n",
        "\n",
        "clf=BernoulliNB()\n",
        "clf.fit(x_train,y_train)\n",
        "clf.fit(x_train,y_train)\n",
        "pred=clf.predict(x_test)\n",
        "print('Acurracy = ' ,metrics.accuracy_score(y_test, pred))"
      ],
      "metadata": {
        "colab": {
          "base_uri": "https://localhost:8080/"
        },
        "id": "eJYOY2pWry85",
        "outputId": "6c84f86a-1014-419d-994d-a9ac7693cb78"
      },
      "execution_count": null,
      "outputs": [
        {
          "output_type": "stream",
          "name": "stdout",
          "text": [
            "Acurracy =  0.8714911569041052\n"
          ]
        }
      ]
    },
    {
      "cell_type": "code",
      "source": [
        "print(classification_report(y_test, pred))"
      ],
      "metadata": {
        "colab": {
          "base_uri": "https://localhost:8080/"
        },
        "id": "mUtZCSyc3qrc",
        "outputId": "555d8227-c236-4fb2-b8e6-98ddbf946f2d"
      },
      "execution_count": null,
      "outputs": [
        {
          "output_type": "stream",
          "name": "stdout",
          "text": [
            "              precision    recall  f1-score   support\n",
            "\n",
            "    negative       0.74      0.80      0.77      4302\n",
            "     neutral       0.97      0.87      0.92     24255\n",
            "    positive       0.73      0.92      0.81      8421\n",
            "\n",
            "    accuracy                           0.87     36978\n",
            "   macro avg       0.81      0.86      0.83     36978\n",
            "weighted avg       0.89      0.87      0.88     36978\n",
            "\n"
          ]
        }
      ]
    },
    {
      "cell_type": "markdown",
      "source": [
        "#SVM"
      ],
      "metadata": {
        "id": "ETKi3BkHt4eK"
      }
    },
    {
      "cell_type": "code",
      "source": [
        "from sklearn import svm\n",
        "clf = svm.LinearSVC()\n",
        "clf.fit(x_train,y_train)\n",
        "pred=clf.predict(x_test)\n",
        "print('Acurracy = ' ,metrics.accuracy_score(y_test, pred))"
      ],
      "metadata": {
        "colab": {
          "base_uri": "https://localhost:8080/"
        },
        "id": "t6nFBvNZr6O5",
        "outputId": "69cd79ed-da0d-4352-86fb-36b6914cb7ec"
      },
      "execution_count": null,
      "outputs": [
        {
          "output_type": "stream",
          "name": "stdout",
          "text": [
            "Acurracy =  0.9860187138298447\n"
          ]
        },
        {
          "output_type": "stream",
          "name": "stderr",
          "text": [
            "/usr/local/lib/python3.7/dist-packages/sklearn/svm/_base.py:1208: ConvergenceWarning: Liblinear failed to converge, increase the number of iterations.\n",
            "  ConvergenceWarning,\n"
          ]
        }
      ]
    },
    {
      "cell_type": "code",
      "source": [
        "print('Acurracy = ' ,metrics.accuracy_score(y_test, pred))"
      ],
      "metadata": {
        "colab": {
          "base_uri": "https://localhost:8080/"
        },
        "id": "geUaj3kx_GDR",
        "outputId": "ef5c2ea5-c279-47b6-e049-89d9a94ea6b6"
      },
      "execution_count": null,
      "outputs": [
        {
          "output_type": "stream",
          "name": "stdout",
          "text": [
            "Acurracy =  0.9860187138298447\n"
          ]
        }
      ]
    },
    {
      "cell_type": "code",
      "source": [
        "print(classification_report(y_test, pred))"
      ],
      "metadata": {
        "colab": {
          "base_uri": "https://localhost:8080/"
        },
        "id": "k2VV2WgKuWWA",
        "outputId": "d0f5343e-b7c4-48ea-8807-a0344782d093"
      },
      "execution_count": null,
      "outputs": [
        {
          "output_type": "stream",
          "name": "stdout",
          "text": [
            "              precision    recall  f1-score   support\n",
            "\n",
            "    negative       0.98      0.96      0.97      4298\n",
            "     neutral       0.99      0.99      0.99     24345\n",
            "    positive       0.98      0.97      0.98      8335\n",
            "\n",
            "    accuracy                           0.99     36978\n",
            "   macro avg       0.98      0.98      0.98     36978\n",
            "weighted avg       0.99      0.99      0.99     36978\n",
            "\n"
          ]
        }
      ]
    },
    {
      "cell_type": "code",
      "source": [
        "import matplotlib.pyplot as plt\n",
        "from sklearn import metrics\n",
        "import itertools\n",
        "\n",
        "def plot_confusion_matrix(cm, classes,\n",
        "                          normalize=False,\n",
        "                          title='Confusion matrix',\n",
        "                          cmap=plt.cm.Blues):\n",
        "    \"\"\"\n",
        "    This function prints and plots the confusion matrix.\n",
        "    Normalization can be applied by setting `normalize=True`.\n",
        "    \"\"\"\n",
        "    if normalize:\n",
        "        cm = cm.astype('float') / cm.sum(axis=1)[:, np.newaxis]\n",
        "        print(\"Normalized confusion matrix\")\n",
        "    else:\n",
        "        print('Confusion matrix, without normalization')\n",
        "\n",
        "    print(cm)\n",
        "\n",
        "    plt.imshow(cm, interpolation='nearest', cmap=cmap)\n",
        "    plt.title(title)\n",
        "    plt.colorbar()\n",
        "    tick_marks = np.arange(len(classes))\n",
        "    plt.xticks(tick_marks, classes, rotation=45)\n",
        "    plt.yticks(tick_marks, classes)\n",
        "\n",
        "    fmt = '.2f' if normalize else 'd'\n",
        "    thresh = cm.max() / 2.\n",
        "    for i, j in itertools.product(range(cm.shape[0]), range(cm.shape[1])):\n",
        "        plt.text(j, i, format(cm[i, j], fmt),\n",
        "                 horizontalalignment=\"center\",\n",
        "                 color=\"white\" if cm[i, j] > thresh else \"black\")\n",
        "\n",
        "    plt.tight_layout()\n",
        "    plt.ylabel('True label')\n",
        "    plt.xlabel('Predicted label')"
      ],
      "metadata": {
        "id": "qdK6ilunsVcC"
      },
      "execution_count": null,
      "outputs": []
    },
    {
      "cell_type": "code",
      "source": [
        "#linear\n",
        "from sklearn.svm import LinearSVC\n",
        "import sklearn\n",
        "from sklearn.naive_bayes import *\n",
        "from sklearn import metrics\n",
        "from sklearn.metrics import confusion_matrix\n",
        "clf=LinearSVC()\n",
        "clf.fit(x_train,y_train)\n",
        "clf.fit(x_train,y_train)\n",
        "pred=clf.predict(x_test)\n",
        "metrics.accuracy_score(y_test, pred)\n",
        "metrics.accuracy_score(y_test, pred)\n",
        "cnf_matrix = confusion_matrix(y_test, pred)\n",
        "np.set_printoptions(precision=2)\n",
        "\n",
        "# Plot non-normalized confusion matrix\n",
        "plt.figure()\n",
        "plot_confusion_matrix(cnf_matrix, classes=[\"positive\", \"negative\",'neutral'],\n",
        "                      title='Confusion matrix, without normalization')\n",
        "\n",
        "# Plot normalized confusion matrix\n",
        "plt.figure()\n",
        "plot_confusion_matrix(cnf_matrix, classes=[\"positive\", \"negative\",'neutral'], normalize=True,\n",
        "                      title='Normalized confusion matrix')\n",
        "\n",
        "plt.show()\n",
        "cnf_matrix = confusion_matrix(y_test, pred)\n",
        "np.set_printoptions(precision=2)\n",
        "\n",
        "# Plot non-normalized confusion matrix\n",
        "plt.figure()\n",
        "plot_confusion_matrix(cnf_matrix, classes=[\"positive\", \"negative\",'neutral'],\n",
        "                      title='Confusion matrix, without normalization')\n",
        "\n",
        "# Plot normalized confusion matrix\n",
        "plt.figure()\n",
        "plot_confusion_matrix(cnf_matrix, classes=[\"positive\", \"negative\",'neutral'], normalize=True,\n",
        "                      title='Normalized confusion matrix')\n",
        "\n",
        "plt.show()"
      ],
      "metadata": {
        "colab": {
          "base_uri": "https://localhost:8080/",
          "height": 1000
        },
        "id": "_TSnNziMsawY",
        "outputId": "4644adf8-a203-4125-da1d-ab8aa18542da"
      },
      "execution_count": null,
      "outputs": [
        {
          "output_type": "stream",
          "name": "stderr",
          "text": [
            "/usr/local/lib/python3.7/dist-packages/sklearn/svm/_base.py:1208: ConvergenceWarning: Liblinear failed to converge, increase the number of iterations.\n",
            "  ConvergenceWarning,\n",
            "/usr/local/lib/python3.7/dist-packages/sklearn/svm/_base.py:1208: ConvergenceWarning: Liblinear failed to converge, increase the number of iterations.\n",
            "  ConvergenceWarning,\n"
          ]
        },
        {
          "output_type": "stream",
          "name": "stdout",
          "text": [
            "Confusion matrix, without normalization\n",
            "[[ 4141    95    62]\n",
            " [   54 24209    82]\n",
            " [   50   168  8117]]\n",
            "Normalized confusion matrix\n",
            "[[0.96 0.02 0.01]\n",
            " [0.   0.99 0.  ]\n",
            " [0.01 0.02 0.97]]\n"
          ]
        },
        {
          "output_type": "display_data",
          "data": {
            "text/plain": [
              "<Figure size 432x288 with 2 Axes>"
            ],
            "image/png": "[encoded data removed]"
          },
          "metadata": {
            "needs_background": "light"
          }
        },
        {
          "output_type": "display_data",
          "data": {
            "text/plain": [
              "<Figure size 432x288 with 2 Axes>"
            ],
            "image/png": "[encoded data removed]"
          },
          "metadata": {
            "needs_background": "light"
          }
        },
        {
          "output_type": "stream",
          "name": "stdout",
          "text": [
            "Confusion matrix, without normalization\n",
            "[[ 4141    95    62]\n",
            " [   54 24209    82]\n",
            " [   50   168  8117]]\n",
            "Normalized confusion matrix\n",
            "[[0.96 0.02 0.01]\n",
            " [0.   0.99 0.  ]\n",
            " [0.01 0.02 0.97]]\n"
          ]
        },
        {
          "output_type": "display_data",
          "data": {
            "text/plain": [
              "<Figure size 432x288 with 2 Axes>"
            ],
            "image/png": "[encoded data removed]"
          },
          "metadata": {
            "needs_background": "light"
          }
        },
        {
          "output_type": "display_data",
          "data": {
            "text/plain": [
              "<Figure size 432x288 with 2 Axes>"
            ],
            "image/png": "[encoded data removed]"
          },
          "metadata": {
            "needs_background": "light"
          }
        }
      ]
    },
    {
      "cell_type": "code",
      "source": [
        "x = ['Logistic Regression', 'Naive Bayes', 'Decision tree', 'SVM']\n",
        "y = [98.3,87.1,98.2,98.6]\n",
        "\n",
        "plt.bar(x, y, color=['blue', 'blue', 'blue', 'blue'])\n",
        "plt.xlabel('Machile Learning Model')\n",
        "plt.ylabel('Acurracy')\n",
        "plt.show()"
      ],
      "metadata": {
        "colab": {
          "base_uri": "https://localhost:8080/",
          "height": 279
        },
        "id": "b3fZ5iQhvlgP",
        "outputId": "1788b25a-50be-4408-8615-f8cee01facef"
      },
      "execution_count": null,
      "outputs": [
        {
          "output_type": "display_data",
          "data": {
            "text/plain": [
              "<Figure size 432x288 with 1 Axes>"
            ],
            "image/png": "[encoded data removed]"
          },
          "metadata": {
            "needs_background": "light"
          }
        }
      ]
    },
    {
      "cell_type": "markdown",
      "source": [
        "#Logistic Regression"
      ],
      "metadata": {
        "id": "RVleo5d8xVVf"
      }
    },
    {
      "cell_type": "code",
      "source": [
        "from sklearn.model_selection import train_test_split\n",
        "\n",
        "X1_train, X1_test, y1_train, y1_test = train_test_split(text_counts,data['sentiment1'],test_size=0.2)\n",
        "\n",
        "print(X1_train.shape)\n",
        "print(y1_train.shape)\n",
        "print(X1_test.shape)\n",
        "print(y1_test.shape)"
      ],
      "metadata": {
        "colab": {
          "base_uri": "https://localhost:8080/"
        },
        "id": "VCNNFKrrxZr5",
        "outputId": "3e19ca5b-a2e5-485d-f4cf-d14ee3c87c3d"
      },
      "execution_count": null,
      "outputs": [
        {
          "output_type": "stream",
          "name": "stdout",
          "text": [
            "(147909, 106889)\n",
            "(147909,)\n",
            "(36978, 106889)\n",
            "(36978,)\n"
          ]
        }
      ]
    },
    {
      "cell_type": "code",
      "source": [
        "from sklearn.linear_model import LogisticRegression\n",
        "from sklearn.metrics import confusion_matrix, classification_report\n",
        "\n",
        "model = LogisticRegression(max_iter = 1000, random_state = 0)\n",
        "model.fit(X1_train, y1_train)\n",
        "\n",
        "y1_pred = model.predict(X1_test)\n",
        "\n",
        "cm = confusion_matrix(y1_test, y1_pred)\n",
        "print(cm)"
      ],
      "metadata": {
        "colab": {
          "base_uri": "https://localhost:8080/"
        },
        "id": "oSblqmgz0LV9",
        "outputId": "1e207098-b21b-49ee-faad-498257c716d8"
      },
      "execution_count": null,
      "outputs": [
        {
          "output_type": "stream",
          "name": "stdout",
          "text": [
            "[[ 4161   169    80]\n",
            " [   37 24051    40]\n",
            " [   76   194  8170]]\n"
          ]
        }
      ]
    },
    {
      "cell_type": "code",
      "source": [
        "print('Acurracy = ' ,metrics.accuracy_score(y1_test, y1_pred))"
      ],
      "metadata": {
        "colab": {
          "base_uri": "https://localhost:8080/"
        },
        "id": "Ecu7fNC20v0X",
        "outputId": "0e1148fd-503e-4431-f6da-5e3fd07c01ee"
      },
      "execution_count": null,
      "outputs": [
        {
          "output_type": "stream",
          "name": "stdout",
          "text": [
            "Acurracy =  0.9838823083995889\n"
          ]
        }
      ]
    },
    {
      "cell_type": "code",
      "source": [
        "print(classification_report(y1_test, y1_pred))"
      ],
      "metadata": {
        "colab": {
          "base_uri": "https://localhost:8080/"
        },
        "id": "M8_d9EMq0ldt",
        "outputId": "cfe97bf6-f75e-4b80-ab52-684c53a7877f"
      },
      "execution_count": null,
      "outputs": [
        {
          "output_type": "stream",
          "name": "stdout",
          "text": [
            "              precision    recall  f1-score   support\n",
            "\n",
            "    negative       0.97      0.94      0.96      4410\n",
            "     neutral       0.99      1.00      0.99     24128\n",
            "    positive       0.99      0.97      0.98      8440\n",
            "\n",
            "    accuracy                           0.98     36978\n",
            "   macro avg       0.98      0.97      0.98     36978\n",
            "weighted avg       0.98      0.98      0.98     36978\n",
            "\n"
          ]
        }
      ]
    },
    {
      "cell_type": "markdown",
      "source": [
        "#Naive Bayes"
      ],
      "metadata": {
        "id": "_Z-cUvp81FC1"
      }
    },
    {
      "cell_type": "code",
      "source": [
        "from sklearn.naive_bayes import MultinomialNB\n",
        "from sklearn.metrics import confusion_matrix, accuracy_score, classification_report\n",
        "\n",
        "model = MultinomialNB()\n",
        "model.fit(X1_train, y1_train)\n",
        "\n",
        "y1_pred = model.predict(X1_test)\n",
        "\n",
        "cm = confusion_matrix(y1_test, y1_pred)\n",
        "\n",
        "print(cm)"
      ],
      "metadata": {
        "colab": {
          "base_uri": "https://localhost:8080/"
        },
        "id": "2ZxTkR8r1ClF",
        "outputId": "63c089c1-8f0c-42b3-c0ad-7beb0a165ac7"
      },
      "execution_count": null,
      "outputs": [
        {
          "output_type": "stream",
          "name": "stdout",
          "text": [
            "[[1927   79  191]\n",
            " [ 997 9545 1502]\n",
            " [ 219  138 3891]]\n"
          ]
        }
      ]
    },
    {
      "cell_type": "code",
      "source": [
        "metrics.accuracy_score(y1_test, y1_pred)"
      ],
      "metadata": {
        "colab": {
          "base_uri": "https://localhost:8080/"
        },
        "id": "uyeXEwmm1Qt0",
        "outputId": "42051463-6eba-499a-c43c-97891e302694"
      },
      "execution_count": null,
      "outputs": [
        {
          "output_type": "execute_result",
          "data": {
            "text/plain": [
              "0.8309264968359565"
            ]
          },
          "metadata": {},
          "execution_count": 44
        }
      ]
    },
    {
      "cell_type": "code",
      "source": [
        "print(classification_report(y1_test, y1_pred))"
      ],
      "metadata": {
        "colab": {
          "base_uri": "https://localhost:8080/"
        },
        "id": "O20V42671edc",
        "outputId": "e07f894f-8d12-4432-a219-500907e5fa95"
      },
      "execution_count": null,
      "outputs": [
        {
          "output_type": "stream",
          "name": "stdout",
          "text": [
            "              precision    recall  f1-score   support\n",
            "\n",
            "    negative       0.62      0.86      0.72      4400\n",
            "     neutral       0.98      0.80      0.88     24246\n",
            "    positive       0.69      0.92      0.79      8332\n",
            "\n",
            "    accuracy                           0.83     36978\n",
            "   macro avg       0.76      0.86      0.80     36978\n",
            "weighted avg       0.87      0.83      0.84     36978\n",
            "\n"
          ]
        }
      ]
    },
    {
      "cell_type": "markdown",
      "source": [
        "#Decision Tree"
      ],
      "metadata": {
        "id": "9j3LJC1m15j2"
      }
    },
    {
      "cell_type": "code",
      "source": [
        "from sklearn.tree import DecisionTreeClassifier\n",
        "model = DecisionTreeClassifier(criterion = 'entropy', random_state = 0)\n",
        "\n",
        "model.fit(X1_train, y1_train)\n",
        "\n",
        "y1_pred = model.predict(X1_test)\n",
        "\n",
        "cm = confusion_matrix(y1_test, y1_pred)\n",
        "\n",
        "print(cm)"
      ],
      "metadata": {
        "colab": {
          "base_uri": "https://localhost:8080/"
        },
        "id": "CX11eoJf1zon",
        "outputId": "2d0bbe9e-f17d-42de-b0e9-b11b38fd4c07"
      },
      "execution_count": null,
      "outputs": [
        {
          "output_type": "stream",
          "name": "stdout",
          "text": [
            "[[ 4146   139   125]\n",
            " [   60 23997    71]\n",
            " [  100   156  8184]]\n"
          ]
        }
      ]
    },
    {
      "cell_type": "code",
      "source": [
        "print('Acurracy = ' ,metrics.accuracy_score(y1_test, y1_pred))"
      ],
      "metadata": {
        "colab": {
          "base_uri": "https://localhost:8080/"
        },
        "id": "vblowNGG2Ob0",
        "outputId": "7d300afb-7a0d-465a-87e8-2103369fc3ef"
      },
      "execution_count": null,
      "outputs": [
        {
          "output_type": "stream",
          "name": "stdout",
          "text": [
            "Acurracy =  0.9823949375304235\n"
          ]
        }
      ]
    },
    {
      "cell_type": "code",
      "source": [
        "print(classification_report(y1_test, y1_pred))"
      ],
      "metadata": {
        "colab": {
          "base_uri": "https://localhost:8080/"
        },
        "id": "23Mf61cr2RpF",
        "outputId": "e19f40a4-f1b2-47ee-e717-9a82269688a7"
      },
      "execution_count": null,
      "outputs": [
        {
          "output_type": "stream",
          "name": "stdout",
          "text": [
            "              precision    recall  f1-score   support\n",
            "\n",
            "    negative       0.96      0.94      0.95      4410\n",
            "     neutral       0.99      0.99      0.99     24128\n",
            "    positive       0.98      0.97      0.97      8440\n",
            "\n",
            "    accuracy                           0.98     36978\n",
            "   macro avg       0.98      0.97      0.97     36978\n",
            "weighted avg       0.98      0.98      0.98     36978\n",
            "\n"
          ]
        }
      ]
    },
    {
      "cell_type": "code",
      "source": [
        "data.to_csv(\"pre_process_data4col.csv\", encoding='utf-8-sig')"
      ],
      "metadata": {
        "id": "TuBwrl2cE2Pe"
      },
      "execution_count": null,
      "outputs": []
    }
  ]
}